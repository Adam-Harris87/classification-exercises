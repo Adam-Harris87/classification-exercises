{
 "cells": [
  {
   "cell_type": "code",
   "execution_count": 1,
   "id": "e46c63c6",
   "metadata": {},
   "outputs": [],
   "source": [
    "# DS Libraries\n",
    "import pandas as pd\n",
    "import numpy as np\n",
    "\n",
    "# Data visualization\n",
    "import matplotlib.pyplot as plt\n",
    "import seaborn as sns\n",
    "\n",
    "# knn submodules from scikit learn\n",
    "from sklearn.model_selection import train_test_split\n",
    "from sklearn.neighbors import KNeighborsClassifier\n",
    "from sklearn.metrics import classification_report, confusion_matrix,\\\n",
    "plot_confusion_matrix, precision_score, recall_score\n",
    "\n",
    "import prepare\n",
    "import warnings\n",
    "warnings.filterwarnings('ignore')"
   ]
  },
  {
   "cell_type": "code",
   "execution_count": 2,
   "id": "7b52570c",
   "metadata": {},
   "outputs": [],
   "source": [
    "train, validate, test = prepare.wrangle_data('titanic')"
   ]
  },
  {
   "cell_type": "code",
   "execution_count": 3,
   "id": "b2179226",
   "metadata": {},
   "outputs": [],
   "source": [
    "X_cols = train.drop(columns=['survived','sex','embark_town']).columns.to_list()\n",
    "y_col = 'survived'"
   ]
  },
  {
   "cell_type": "code",
   "execution_count": 4,
   "id": "05cfcd1c",
   "metadata": {},
   "outputs": [
    {
     "data": {
      "text/plain": [
       "0    0\n",
       "Name: survived, dtype: int64"
      ]
     },
     "execution_count": 4,
     "metadata": {},
     "output_type": "execute_result"
    }
   ],
   "source": [
    "train.survived.mode()"
   ]
  },
  {
   "cell_type": "code",
   "execution_count": 5,
   "id": "f8628326",
   "metadata": {},
   "outputs": [
    {
     "data": {
      "text/plain": [
       "0.6164658634538153"
      ]
     },
     "execution_count": 5,
     "metadata": {},
     "output_type": "execute_result"
    }
   ],
   "source": [
    "# establish a baseline\n",
    "baseline_preds = (train.survived == 0).mean()\n",
    "baseline_preds"
   ]
  },
  {
   "cell_type": "markdown",
   "id": "d31560b3",
   "metadata": {},
   "source": [
    "## 1.\n",
    "Fit a K-Nearest Neighbors classifier to your training sample and transform (i.e. make predictions on the training sample)"
   ]
  },
  {
   "cell_type": "code",
   "execution_count": 6,
   "id": "bcd35b1e",
   "metadata": {},
   "outputs": [],
   "source": [
    "X_train = train[X_cols]\n",
    "y_train = train[y_col]\n",
    "X_val = validate[X_cols]\n",
    "y_val = validate[y_col]\n",
    "X_test = test[X_cols]\n",
    "y_test = test[y_col]"
   ]
  },
  {
   "cell_type": "code",
   "execution_count": 7,
   "id": "e001b052",
   "metadata": {},
   "outputs": [],
   "source": [
    "# create the knn object\n",
    "knn_5 = KNeighborsClassifier()\n",
    "# fit the knn object\n",
    "knn_5.fit(X_train, y_train)\n",
    "# predict using the knn object\n",
    "knn_5_pred = knn_5.predict(X_train)"
   ]
  },
  {
   "cell_type": "markdown",
   "id": "03e25dd9",
   "metadata": {},
   "source": [
    "## 2.\n",
    "Evaluate your results using the model score, confusion matrix, and classification report."
   ]
  },
  {
   "cell_type": "code",
   "execution_count": 8,
   "id": "96672efe",
   "metadata": {},
   "outputs": [
    {
     "name": "stdout",
     "output_type": "stream",
     "text": [
      "accuracy for n_neighbors=5 is: 79.12%\n",
      "\n",
      "confusion matrix for n_neighbors=5: \n",
      "[[266  41]\n",
      " [ 63 128]]\n",
      "\n",
      "classification report for n_neighbors=5:\n",
      "\n",
      "               precision    recall  f1-score   support\n",
      "\n",
      "           0       0.81      0.87      0.84       307\n",
      "           1       0.76      0.67      0.71       191\n",
      "\n",
      "    accuracy                           0.79       498\n",
      "   macro avg       0.78      0.77      0.77       498\n",
      "weighted avg       0.79      0.79      0.79       498\n",
      "\n"
     ]
    }
   ],
   "source": [
    "# knn_5 score\n",
    "print(f'accuracy for n_neighbors=5 is: {knn_5.score(X_train, y_train):.2%}\\n')\n",
    "\n",
    "# confusion matrix for knn_5\n",
    "print(f'confusion matrix for n_neighbors=5: \\n{confusion_matrix(y_train, knn_5_pred)}\\n')\n",
    "\n",
    "# classification report for knn_5\n",
    "print(f'classification report for n_neighbors=5:\\n\\n \\\n",
    "{classification_report(y_train, knn_5_pred)}')"
   ]
  },
  {
   "cell_type": "markdown",
   "id": "38885a0d",
   "metadata": {},
   "source": [
    "## 3. \n",
    "Print and clearly label the following: Accuracy, true positive rate, false positive rate, true negative rate, false negative rate, precision, recall, f1-score, and support."
   ]
  },
  {
   "cell_type": "code",
   "execution_count": 9,
   "id": "737a231a",
   "metadata": {},
   "outputs": [
    {
     "name": "stdout",
     "output_type": "stream",
     "text": [
      "accuracy for n_neighbors=5: \t\t79.12%\n",
      "true positives rate for n_neighbors=5: \t67.02%\n",
      "false positives rate for n_neighbors=5:\t13.36%\n",
      "true negatives rate for n_neighbors=5: \t86.64%\n",
      "false negatives rate for n_neighbors=5:\t32.98%\n",
      "precision for n_neighbors=5: \t\t75.74%\n",
      "recall for n_neighbors=5: \t\t67.02%\n",
      "f1_score for n_neighbors=5: \t\t71.11%\n",
      "support for n_neighbors=5: \t\t(191, 307)\n"
     ]
    }
   ],
   "source": [
    "# get the true pos, true neg, false pos and false neg numbers using a confusion matrix\n",
    "conf = confusion_matrix(y_train, knn_5_pred)\n",
    "TN, FP, FN, TP = conf.ravel()\n",
    "\n",
    "# calculate rate metrics\n",
    "accuracy= (TP + TN) / (TP + TN + FP + FN)\n",
    "TPR = recall = TP / (TP + FN)\n",
    "FPR= FP / (FP + TN)\n",
    "TNR= TN / (FP + TN)\n",
    "FNR= FN / (FN + TP)\n",
    "precision= TP / (TP + FP)\n",
    "F1= 2 * (precision * recall) / (precision + recall)\n",
    "support= TP + FN, TN + FP\n",
    "\n",
    "# print the prediction rate metrics\n",
    "print(f'accuracy for n_neighbors=5: \\t\\t{accuracy:.2%}')\n",
    "print(f'true positives rate for n_neighbors=5: \\t{TPR:.2%}')\n",
    "print(f'false positives rate for n_neighbors=5:\\t{FPR:.2%}')\n",
    "print(f'true negatives rate for n_neighbors=5: \\t{TNR:.2%}')\n",
    "print(f'false negatives rate for n_neighbors=5:\\t{FNR:.2%}')\n",
    "print(f'precision for n_neighbors=5: \\t\\t{precision:.2%}')\n",
    "print(f'recall for n_neighbors=5: \\t\\t{recall:.2%}')\n",
    "print(f'f1_score for n_neighbors=5: \\t\\t{F1:.2%}')\n",
    "print(f'support for n_neighbors=5: \\t\\t{support}')"
   ]
  },
  {
   "cell_type": "markdown",
   "id": "21566195",
   "metadata": {},
   "source": [
    "## 4.\n",
    "Run through steps 1-3 setting k to 10"
   ]
  },
  {
   "cell_type": "code",
   "execution_count": 10,
   "id": "59fb8d89",
   "metadata": {},
   "outputs": [],
   "source": [
    "# create the knn object\n",
    "knn_10 = KNeighborsClassifier(n_neighbors=10)\n",
    "# fit the knn object\n",
    "knn_10.fit(X_train, y_train)\n",
    "# predict using the knn object\n",
    "knn_10_pred = knn_10.predict(X_train)"
   ]
  },
  {
   "cell_type": "code",
   "execution_count": 11,
   "id": "1670a083",
   "metadata": {},
   "outputs": [
    {
     "name": "stdout",
     "output_type": "stream",
     "text": [
      "accuracy for n_neighbors=10 is: 73.90%\n",
      "\n",
      "confusion matrix for n_neighbors=10: \n",
      "[[272  35]\n",
      " [ 95  96]]\n",
      "\n",
      "classification report for n_neighbors=10:\n",
      "\n",
      "               precision    recall  f1-score   support\n",
      "\n",
      "           0       0.74      0.89      0.81       307\n",
      "           1       0.73      0.50      0.60       191\n",
      "\n",
      "    accuracy                           0.74       498\n",
      "   macro avg       0.74      0.69      0.70       498\n",
      "weighted avg       0.74      0.74      0.73       498\n",
      "\n"
     ]
    }
   ],
   "source": [
    "# knn_10 score\n",
    "print(f'accuracy for n_neighbors=10 is: {knn_10.score(X_train, y_train):.2%}\\n')\n",
    "\n",
    "# confusion matrix for knn_10\n",
    "print(f'confusion matrix for n_neighbors=10: \\n{confusion_matrix(y_train, knn_10_pred)}\\n')\n",
    "\n",
    "# classification report for knn_10\n",
    "print(f'classification report for n_neighbors=10:\\n\\n \\\n",
    "{classification_report(y_train, knn_10_pred)}')"
   ]
  },
  {
   "cell_type": "code",
   "execution_count": 17,
   "id": "82c077cb",
   "metadata": {},
   "outputs": [
    {
     "name": "stdout",
     "output_type": "stream",
     "text": [
      "accuracy for n_neighbors=10: \t\t\t73.90%\n",
      "true positives rate for n_neighbors=10: \t50.26%\n",
      "false positives rate for n_neighbors=10:\t11.40%\n",
      "true negatives rate for n_neighbors=10: \t88.60%\n",
      "false negatives rate for n_neighbors=10:\t49.74%\n",
      "precision for n_neighbors=10: \t\t\t73.28%\n",
      "recall for n_neighbors=10: \t\t\t50.26%\n",
      "f1_score for n_neighbors=10: \t\t\t59.63%\n",
      "support for n_neighbors=10: \t\t\t(191, 307)\n"
     ]
    }
   ],
   "source": [
    "# get the true pos, true neg, false pos and false neg numbers using a confusion matrix\n",
    "conf = confusion_matrix(y_train, knn_10_pred)\n",
    "TN, FP, FN, TP = conf.ravel()\n",
    "\n",
    "accuracy= (TP + TN) / (TP + TN + FP + FN)\n",
    "TPR = recall = TP / (TP + FN)\n",
    "FPR= FP / (FP + TN)\n",
    "TNR= TN / (FP + TN)\n",
    "FNR= FN / (FN + TP)\n",
    "precision= TP / (TP + FP)\n",
    "F1= 2 * (precision * recall) / (precision + recall)\n",
    "support= TP + FN, TN + FP\n",
    "\n",
    "print(f'accuracy for n_neighbors=10: \\t\\t\\t{accuracy:.2%}')\n",
    "print(f'true positives rate for n_neighbors=10: \\t{TPR:.2%}')\n",
    "print(f'false positives rate for n_neighbors=10:\\t{FPR:.2%}')\n",
    "print(f'true negatives rate for n_neighbors=10: \\t{TNR:.2%}')\n",
    "print(f'false negatives rate for n_neighbors=10:\\t{FNR:.2%}')\n",
    "print(f'precision for n_neighbors=10: \\t\\t\\t{precision:.2%}')\n",
    "print(f'recall for n_neighbors=10: \\t\\t\\t{recall:.2%}')\n",
    "print(f'f1_score for n_neighbors=10: \\t\\t\\t{F1:.2%}')\n",
    "print(f'support for n_neighbors=10: \\t\\t\\t{support}')"
   ]
  },
  {
   "cell_type": "markdown",
   "id": "cfc4549a",
   "metadata": {},
   "source": [
    "## 5.\n",
    "Run through steps 1-3 setting k to 20\n",
    "\n"
   ]
  },
  {
   "cell_type": "code",
   "execution_count": 18,
   "id": "c5d3efe8",
   "metadata": {},
   "outputs": [],
   "source": [
    "# create the knn object\n",
    "knn_20 = KNeighborsClassifier(n_neighbors=20)\n",
    "# fit the knn object\n",
    "knn_20.fit(X_train, y_train)\n",
    "# predict using the knn object\n",
    "knn_20_pred = knn_20.predict(X_train)"
   ]
  },
  {
   "cell_type": "code",
   "execution_count": 19,
   "id": "8f9b18b8",
   "metadata": {},
   "outputs": [
    {
     "name": "stdout",
     "output_type": "stream",
     "text": [
      "accuracy for n_neighbors=20 is: 73.29%\n",
      "\n",
      "confusion matrix for n_neighbors=20: \n",
      "[[269  38]\n",
      " [ 95  96]]\n",
      "\n",
      "classification report for n_neighbors=20:\n",
      "\n",
      "               precision    recall  f1-score   support\n",
      "\n",
      "           0       0.74      0.88      0.80       307\n",
      "           1       0.72      0.50      0.59       191\n",
      "\n",
      "    accuracy                           0.73       498\n",
      "   macro avg       0.73      0.69      0.70       498\n",
      "weighted avg       0.73      0.73      0.72       498\n",
      "\n"
     ]
    }
   ],
   "source": [
    "# knn_20 score\n",
    "print(f'accuracy for n_neighbors=20 is: {knn_20.score(X_train, y_train):.2%}\\n')\n",
    "\n",
    "# confusion matrix for knn_20\n",
    "print(f'confusion matrix for n_neighbors=20: \\n{confusion_matrix(y_train, knn_20_pred)}\\n')\n",
    "\n",
    "# classification report for knn_20\n",
    "print(f'classification report for n_neighbors=20:\\n\\n \\\n",
    "{classification_report(y_train, knn_20_pred)}')"
   ]
  },
  {
   "cell_type": "code",
   "execution_count": 20,
   "id": "3aa26b94",
   "metadata": {},
   "outputs": [
    {
     "name": "stdout",
     "output_type": "stream",
     "text": [
      "accuracy for n_neighbors=20: \t\t\t73.29%\n",
      "true positives rate for n_neighbors=20: \t50.26%\n",
      "false positives rate for n_neighbors=20:\t12.38%\n",
      "true negatives rate for n_neighbors=20: \t87.62%\n",
      "false negatives rate for n_neighbors=20:\t49.74%\n",
      "precision for n_neighbors=20: \t\t\t71.64%\n",
      "recall for n_neighbors=20: \t\t\t50.26%\n",
      "f1_score for n_neighbors=20: \t\t\t59.08%\n",
      "support for n_neighbors=20: \t\t\t(191, 307)\n"
     ]
    }
   ],
   "source": [
    "# get the true pos, true neg, false pos and false neg numbers using a confusion matrix\n",
    "conf = confusion_matrix(y_train, knn_20_pred)\n",
    "TN, FP, FN, TP = conf.ravel()\n",
    "\n",
    "accuracy= (TP + TN) / (TP + TN + FP + FN)\n",
    "TPR = recall = TP / (TP + FN)\n",
    "FPR= FP / (FP + TN)\n",
    "TNR= TN / (FP + TN)\n",
    "FNR= FN / (FN + TP)\n",
    "precision= TP / (TP + FP)\n",
    "F1= 2 * (precision * recall) / (precision + recall)\n",
    "support= TP + FN, TN + FP\n",
    "\n",
    "print(f'accuracy for n_neighbors=20: \\t\\t\\t{accuracy:.2%}')\n",
    "print(f'true positives rate for n_neighbors=20: \\t{TPR:.2%}')\n",
    "print(f'false positives rate for n_neighbors=20:\\t{FPR:.2%}')\n",
    "print(f'true negatives rate for n_neighbors=20: \\t{TNR:.2%}')\n",
    "print(f'false negatives rate for n_neighbors=20:\\t{FNR:.2%}')\n",
    "print(f'precision for n_neighbors=20: \\t\\t\\t{precision:.2%}')\n",
    "print(f'recall for n_neighbors=20: \\t\\t\\t{recall:.2%}')\n",
    "print(f'f1_score for n_neighbors=20: \\t\\t\\t{F1:.2%}')\n",
    "print(f'support for n_neighbors=20: \\t\\t\\t{support}')"
   ]
  },
  {
   "cell_type": "markdown",
   "id": "ad1ccf89",
   "metadata": {},
   "source": [
    "## Bonus\n",
    "Lets instead go from 1 to 20"
   ]
  },
  {
   "cell_type": "code",
   "execution_count": 13,
   "id": "8b1ef3f6",
   "metadata": {},
   "outputs": [],
   "source": [
    "knn_model_dict = {}\n",
    "for i in range(1,21):\n",
    "    knn = KNeighborsClassifier(n_neighbors=i)\n",
    "    knn.fit(X_train, y_train)\n",
    "    knn_model_dict[f'n_neighbors_{i}'] = {}\n",
    "    knn_model_dict[f'n_neighbors_{i}']['model'] = knn\n",
    "    knn_model_dict[f'n_neighbors_{i}']['train_score'] = knn.score(X_train, y_train)\n",
    "    knn_model_dict[f'n_neighbors_{i}']['val_score'] = knn.score(X_val, y_val)\n",
    "    knn_model_dict[f'n_neighbors_{i}']['score_diff'] = \\\n",
    "        knn.score(X_train, y_train) - knn.score(X_val, y_val)\n",
    "    knn_model_dict[f'n_neighbors_{i}']['train_precision'] = \\\n",
    "        precision_score(y_train, knn.predict(X_train))\n",
    "    knn_model_dict[f'n_neighbors_{i}']['val_precision'] = \\\n",
    "        precision_score(y_val, knn.predict(X_val))\n",
    "    knn_model_dict[f'n_neighbors_{i}']['train_recall'] = \\\n",
    "        recall_score(y_train, knn.predict(X_train))\n",
    "    knn_model_dict[f'n_neighbors_{i}']['val_recall'] = \\\n",
    "        recall_score(y_val, knn.predict(X_val))"
   ]
  },
  {
   "cell_type": "code",
   "execution_count": 14,
   "id": "2ea7b7f8",
   "metadata": {},
   "outputs": [],
   "source": [
    "accuracy_df = pd.DataFrame(\n",
    " {\n",
    "     'model':[model for model in knn_model_dict],\n",
    "     'train_accuracy':[knn_model_dict[model]['train_score'] for model in knn_model_dict],\n",
    "     'val_accuracy': [knn_model_dict[model]['val_score'] for model in knn_model_dict],\n",
    "     'score_diff': [knn_model_dict[model]['score_diff'] for model in knn_model_dict],\n",
    "     'train_precision': [knn_model_dict[model]['train_precision']\\\n",
    "                         for model in knn_model_dict],\n",
    "     'val_precision': [knn_model_dict[model]['val_precision']\\\n",
    "                         for model in knn_model_dict],\n",
    "     'train_recall': [knn_model_dict[model]['train_recall']\\\n",
    "                         for model in knn_model_dict],\n",
    "     'val_recall': [knn_model_dict[model]['val_recall']\\\n",
    "                         for model in knn_model_dict]\n",
    " }\n",
    ")"
   ]
  },
  {
   "cell_type": "code",
   "execution_count": 15,
   "id": "f4fd8a3a",
   "metadata": {},
   "outputs": [
    {
     "data": {
      "text/html": [
       "<div>\n",
       "<style scoped>\n",
       "    .dataframe tbody tr th:only-of-type {\n",
       "        vertical-align: middle;\n",
       "    }\n",
       "\n",
       "    .dataframe tbody tr th {\n",
       "        vertical-align: top;\n",
       "    }\n",
       "\n",
       "    .dataframe thead th {\n",
       "        text-align: right;\n",
       "    }\n",
       "</style>\n",
       "<table border=\"1\" class=\"dataframe\">\n",
       "  <thead>\n",
       "    <tr style=\"text-align: right;\">\n",
       "      <th></th>\n",
       "      <th>model</th>\n",
       "      <th>train_accuracy</th>\n",
       "      <th>val_accuracy</th>\n",
       "      <th>score_diff</th>\n",
       "      <th>train_precision</th>\n",
       "      <th>val_precision</th>\n",
       "      <th>train_recall</th>\n",
       "      <th>val_recall</th>\n",
       "    </tr>\n",
       "  </thead>\n",
       "  <tbody>\n",
       "    <tr>\n",
       "      <th>1</th>\n",
       "      <td>n_neighbors_1</td>\n",
       "      <td>0.991968</td>\n",
       "      <td>0.719626</td>\n",
       "      <td>0.272342</td>\n",
       "      <td>0.994709</td>\n",
       "      <td>0.644737</td>\n",
       "      <td>0.984293</td>\n",
       "      <td>0.597561</td>\n",
       "    </tr>\n",
       "    <tr>\n",
       "      <th>2</th>\n",
       "      <td>n_neighbors_2</td>\n",
       "      <td>0.847390</td>\n",
       "      <td>0.705607</td>\n",
       "      <td>0.141782</td>\n",
       "      <td>1.000000</td>\n",
       "      <td>0.686275</td>\n",
       "      <td>0.602094</td>\n",
       "      <td>0.426829</td>\n",
       "    </tr>\n",
       "    <tr>\n",
       "      <th>3</th>\n",
       "      <td>n_neighbors_3</td>\n",
       "      <td>0.823293</td>\n",
       "      <td>0.696262</td>\n",
       "      <td>0.127031</td>\n",
       "      <td>0.808383</td>\n",
       "      <td>0.613333</td>\n",
       "      <td>0.706806</td>\n",
       "      <td>0.560976</td>\n",
       "    </tr>\n",
       "    <tr>\n",
       "      <th>4</th>\n",
       "      <td>n_neighbors_4</td>\n",
       "      <td>0.799197</td>\n",
       "      <td>0.696262</td>\n",
       "      <td>0.102935</td>\n",
       "      <td>0.895652</td>\n",
       "      <td>0.666667</td>\n",
       "      <td>0.539267</td>\n",
       "      <td>0.414634</td>\n",
       "    </tr>\n",
       "    <tr>\n",
       "      <th>5</th>\n",
       "      <td>n_neighbors_5</td>\n",
       "      <td>0.791165</td>\n",
       "      <td>0.719626</td>\n",
       "      <td>0.071538</td>\n",
       "      <td>0.757396</td>\n",
       "      <td>0.661765</td>\n",
       "      <td>0.670157</td>\n",
       "      <td>0.548780</td>\n",
       "    </tr>\n",
       "    <tr>\n",
       "      <th>6</th>\n",
       "      <td>n_neighbors_6</td>\n",
       "      <td>0.765060</td>\n",
       "      <td>0.719626</td>\n",
       "      <td>0.045434</td>\n",
       "      <td>0.780303</td>\n",
       "      <td>0.703704</td>\n",
       "      <td>0.539267</td>\n",
       "      <td>0.463415</td>\n",
       "    </tr>\n",
       "    <tr>\n",
       "      <th>7</th>\n",
       "      <td>n_neighbors_7</td>\n",
       "      <td>0.779116</td>\n",
       "      <td>0.714953</td>\n",
       "      <td>0.064163</td>\n",
       "      <td>0.728814</td>\n",
       "      <td>0.661538</td>\n",
       "      <td>0.675393</td>\n",
       "      <td>0.524390</td>\n",
       "    </tr>\n",
       "    <tr>\n",
       "      <th>8</th>\n",
       "      <td>n_neighbors_8</td>\n",
       "      <td>0.765060</td>\n",
       "      <td>0.728972</td>\n",
       "      <td>0.036088</td>\n",
       "      <td>0.780303</td>\n",
       "      <td>0.700000</td>\n",
       "      <td>0.539267</td>\n",
       "      <td>0.512195</td>\n",
       "    </tr>\n",
       "    <tr>\n",
       "      <th>9</th>\n",
       "      <td>n_neighbors_9</td>\n",
       "      <td>0.761044</td>\n",
       "      <td>0.724299</td>\n",
       "      <td>0.036745</td>\n",
       "      <td>0.719512</td>\n",
       "      <td>0.666667</td>\n",
       "      <td>0.617801</td>\n",
       "      <td>0.560976</td>\n",
       "    </tr>\n",
       "    <tr>\n",
       "      <th>10</th>\n",
       "      <td>n_neighbors_10</td>\n",
       "      <td>0.738956</td>\n",
       "      <td>0.705607</td>\n",
       "      <td>0.033348</td>\n",
       "      <td>0.732824</td>\n",
       "      <td>0.686275</td>\n",
       "      <td>0.502618</td>\n",
       "      <td>0.426829</td>\n",
       "    </tr>\n",
       "    <tr>\n",
       "      <th>11</th>\n",
       "      <td>n_neighbors_11</td>\n",
       "      <td>0.736948</td>\n",
       "      <td>0.710280</td>\n",
       "      <td>0.026667</td>\n",
       "      <td>0.678571</td>\n",
       "      <td>0.656250</td>\n",
       "      <td>0.596859</td>\n",
       "      <td>0.512195</td>\n",
       "    </tr>\n",
       "    <tr>\n",
       "      <th>12</th>\n",
       "      <td>n_neighbors_12</td>\n",
       "      <td>0.736948</td>\n",
       "      <td>0.728972</td>\n",
       "      <td>0.007976</td>\n",
       "      <td>0.714286</td>\n",
       "      <td>0.730769</td>\n",
       "      <td>0.523560</td>\n",
       "      <td>0.463415</td>\n",
       "    </tr>\n",
       "    <tr>\n",
       "      <th>13</th>\n",
       "      <td>n_neighbors_13</td>\n",
       "      <td>0.742972</td>\n",
       "      <td>0.728972</td>\n",
       "      <td>0.014000</td>\n",
       "      <td>0.703226</td>\n",
       "      <td>0.693548</td>\n",
       "      <td>0.570681</td>\n",
       "      <td>0.524390</td>\n",
       "    </tr>\n",
       "    <tr>\n",
       "      <th>14</th>\n",
       "      <td>n_neighbors_14</td>\n",
       "      <td>0.740964</td>\n",
       "      <td>0.719626</td>\n",
       "      <td>0.021338</td>\n",
       "      <td>0.721429</td>\n",
       "      <td>0.711538</td>\n",
       "      <td>0.528796</td>\n",
       "      <td>0.451220</td>\n",
       "    </tr>\n",
       "    <tr>\n",
       "      <th>15</th>\n",
       "      <td>n_neighbors_15</td>\n",
       "      <td>0.730924</td>\n",
       "      <td>0.714953</td>\n",
       "      <td>0.015970</td>\n",
       "      <td>0.683871</td>\n",
       "      <td>0.666667</td>\n",
       "      <td>0.554974</td>\n",
       "      <td>0.512195</td>\n",
       "    </tr>\n",
       "    <tr>\n",
       "      <th>16</th>\n",
       "      <td>n_neighbors_16</td>\n",
       "      <td>0.734940</td>\n",
       "      <td>0.733645</td>\n",
       "      <td>0.001295</td>\n",
       "      <td>0.703448</td>\n",
       "      <td>0.719298</td>\n",
       "      <td>0.534031</td>\n",
       "      <td>0.500000</td>\n",
       "    </tr>\n",
       "    <tr>\n",
       "      <th>17</th>\n",
       "      <td>n_neighbors_17</td>\n",
       "      <td>0.730924</td>\n",
       "      <td>0.728972</td>\n",
       "      <td>0.001952</td>\n",
       "      <td>0.683871</td>\n",
       "      <td>0.687500</td>\n",
       "      <td>0.554974</td>\n",
       "      <td>0.536585</td>\n",
       "    </tr>\n",
       "    <tr>\n",
       "      <th>18</th>\n",
       "      <td>n_neighbors_18</td>\n",
       "      <td>0.722892</td>\n",
       "      <td>0.733645</td>\n",
       "      <td>-0.010753</td>\n",
       "      <td>0.687943</td>\n",
       "      <td>0.711864</td>\n",
       "      <td>0.507853</td>\n",
       "      <td>0.512195</td>\n",
       "    </tr>\n",
       "    <tr>\n",
       "      <th>19</th>\n",
       "      <td>n_neighbors_19</td>\n",
       "      <td>0.724900</td>\n",
       "      <td>0.724299</td>\n",
       "      <td>0.000601</td>\n",
       "      <td>0.675325</td>\n",
       "      <td>0.676923</td>\n",
       "      <td>0.544503</td>\n",
       "      <td>0.536585</td>\n",
       "    </tr>\n",
       "    <tr>\n",
       "      <th>20</th>\n",
       "      <td>n_neighbors_20</td>\n",
       "      <td>0.732932</td>\n",
       "      <td>0.719626</td>\n",
       "      <td>0.013306</td>\n",
       "      <td>0.716418</td>\n",
       "      <td>0.689655</td>\n",
       "      <td>0.502618</td>\n",
       "      <td>0.487805</td>\n",
       "    </tr>\n",
       "  </tbody>\n",
       "</table>\n",
       "</div>"
      ],
      "text/plain": [
       "             model  train_accuracy  val_accuracy  score_diff  train_precision  \\\n",
       "1    n_neighbors_1        0.991968      0.719626    0.272342         0.994709   \n",
       "2    n_neighbors_2        0.847390      0.705607    0.141782         1.000000   \n",
       "3    n_neighbors_3        0.823293      0.696262    0.127031         0.808383   \n",
       "4    n_neighbors_4        0.799197      0.696262    0.102935         0.895652   \n",
       "5    n_neighbors_5        0.791165      0.719626    0.071538         0.757396   \n",
       "6    n_neighbors_6        0.765060      0.719626    0.045434         0.780303   \n",
       "7    n_neighbors_7        0.779116      0.714953    0.064163         0.728814   \n",
       "8    n_neighbors_8        0.765060      0.728972    0.036088         0.780303   \n",
       "9    n_neighbors_9        0.761044      0.724299    0.036745         0.719512   \n",
       "10  n_neighbors_10        0.738956      0.705607    0.033348         0.732824   \n",
       "11  n_neighbors_11        0.736948      0.710280    0.026667         0.678571   \n",
       "12  n_neighbors_12        0.736948      0.728972    0.007976         0.714286   \n",
       "13  n_neighbors_13        0.742972      0.728972    0.014000         0.703226   \n",
       "14  n_neighbors_14        0.740964      0.719626    0.021338         0.721429   \n",
       "15  n_neighbors_15        0.730924      0.714953    0.015970         0.683871   \n",
       "16  n_neighbors_16        0.734940      0.733645    0.001295         0.703448   \n",
       "17  n_neighbors_17        0.730924      0.728972    0.001952         0.683871   \n",
       "18  n_neighbors_18        0.722892      0.733645   -0.010753         0.687943   \n",
       "19  n_neighbors_19        0.724900      0.724299    0.000601         0.675325   \n",
       "20  n_neighbors_20        0.732932      0.719626    0.013306         0.716418   \n",
       "\n",
       "    val_precision  train_recall  val_recall  \n",
       "1        0.644737      0.984293    0.597561  \n",
       "2        0.686275      0.602094    0.426829  \n",
       "3        0.613333      0.706806    0.560976  \n",
       "4        0.666667      0.539267    0.414634  \n",
       "5        0.661765      0.670157    0.548780  \n",
       "6        0.703704      0.539267    0.463415  \n",
       "7        0.661538      0.675393    0.524390  \n",
       "8        0.700000      0.539267    0.512195  \n",
       "9        0.666667      0.617801    0.560976  \n",
       "10       0.686275      0.502618    0.426829  \n",
       "11       0.656250      0.596859    0.512195  \n",
       "12       0.730769      0.523560    0.463415  \n",
       "13       0.693548      0.570681    0.524390  \n",
       "14       0.711538      0.528796    0.451220  \n",
       "15       0.666667      0.554974    0.512195  \n",
       "16       0.719298      0.534031    0.500000  \n",
       "17       0.687500      0.554974    0.536585  \n",
       "18       0.711864      0.507853    0.512195  \n",
       "19       0.676923      0.544503    0.536585  \n",
       "20       0.689655      0.502618    0.487805  "
      ]
     },
     "execution_count": 15,
     "metadata": {},
     "output_type": "execute_result"
    }
   ],
   "source": [
    "accuracy_df.set_index(accuracy_df.index + 1)"
   ]
  },
  {
   "cell_type": "markdown",
   "id": "9bc2d5d3",
   "metadata": {},
   "source": [
    "## 6.\n",
    "What are the differences in the evaluation metrics? Which performs better on your in-sample data? Why?"
   ]
  },
  {
   "cell_type": "markdown",
   "id": "5d878d95",
   "metadata": {},
   "source": [
    "On only the training data, n_neighbors=1 had the highest accuracy score, the second highest precision score and the highest recall score."
   ]
  },
  {
   "cell_type": "markdown",
   "id": "d09a0137",
   "metadata": {},
   "source": [
    "## 7. \n",
    "Which model performs best on our out-of-sample data from validate?"
   ]
  },
  {
   "cell_type": "markdown",
   "id": "3e5cd6a0",
   "metadata": {},
   "source": [
    "When using the validate data, n_neighbors=16 was the best performer. It has the highest accuracy and one of the highest precision scores, but doesn't have a great recall score."
   ]
  },
  {
   "cell_type": "code",
   "execution_count": 26,
   "id": "09ab6c04",
   "metadata": {
    "scrolled": true
   },
   "outputs": [
    {
     "data": {
      "image/png": "[encoded data removed]",
      "text/plain": [
       "<Figure size 2000x1500 with 1 Axes>"
      ]
     },
     "metadata": {},
     "output_type": "display_data"
    }
   ],
   "source": [
    "accuracy_df[['val_accuracy', 'score_diff', 'val_precision', 'val_recall']].set_index(accuracy_df.index + 1).plot(\n",
    "    title='performance over n_neighbors', figsize=(20,15))\n",
    "plt.show()"
   ]
  },
  {
   "cell_type": "code",
   "execution_count": null,
   "id": "b8e619e0",
   "metadata": {},
   "outputs": [],
   "source": []
  }
 ],
 "metadata": {
  "kernelspec": {
   "display_name": "Python 3 (ipykernel)",
   "language": "python",
   "name": "python3"
  },
  "language_info": {
   "codemirror_mode": {
    "name": "ipython",
    "version": 3
   },
   "file_extension": ".py",
   "mimetype": "text/x-python",
   "name": "python",
   "nbconvert_exporter": "python",
   "pygments_lexer": "ipython3",
   "version": "3.9.13"
  }
 },
 "nbformat": 4,
 "nbformat_minor": 5
}
