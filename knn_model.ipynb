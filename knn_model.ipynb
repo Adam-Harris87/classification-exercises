{
 "cells": [
  {
   "cell_type": "code",
   "execution_count": 7,
   "id": "99b8e130",
   "metadata": {},
   "outputs": [],
   "source": [
    "# DS Libraries\n",
    "import pandas as pd\n",
    "import numpy as np\n",
    "\n",
    "# Data visualization\n",
    "import matplotlib.pyplot as plt\n",
    "import seaborn as sns\n",
    "\n",
    "# knn submodules from scikit learn\n",
    "from sklearn.model_selection import train_test_split\n",
    "from sklearn.neighbors import KNeighborsClassifier\n",
    "from sklearn.metrics import classification_report, confusion_matrix, plot_confusion_matrix\n",
    "\n",
    "import prepare\n",
    "import warnings\n",
    "warnings.filterwarnings('ignore')"
   ]
  },
  {
   "cell_type": "markdown",
   "id": "cfde38d4",
   "metadata": {},
   "source": [
    "## 1.\n",
    "Fit a K-Nearest Neighbors classifier to your training sample and transform (i.e. make predictions on the training sample)"
   ]
  },
  {
   "cell_type": "code",
   "execution_count": 2,
   "id": "61db40de",
   "metadata": {},
   "outputs": [],
   "source": [
    "train, validate, test = prepare.wrangle_data('titanic')"
   ]
  },
  {
   "cell_type": "code",
   "execution_count": 4,
   "id": "21183d43",
   "metadata": {},
   "outputs": [],
   "source": [
    "X_cols = train.drop(columns=['survived','sex','embark_town']).columns.to_list()\n",
    "y_col = 'survived'"
   ]
  },
  {
   "cell_type": "code",
   "execution_count": 5,
   "id": "c805c7ad",
   "metadata": {},
   "outputs": [],
   "source": [
    "X_train = train[X_cols]\n",
    "y_train = train[y_col]\n",
    "X_val = validate[X_cols]\n",
    "y_val = validate[y_col]\n",
    "X_test = test[X_cols]\n",
    "y_test = test[y_col]"
   ]
  },
  {
   "cell_type": "code",
   "execution_count": 8,
   "id": "14c8c3ad",
   "metadata": {},
   "outputs": [],
   "source": [
    "# create the knn object\n",
    "knn_5 = KNeighborsClassifier()\n",
    "# fit the knn object\n",
    "knn_5.fit(X_train, y_train)\n",
    "# predict using the knn object\n",
    "knn_5_pred = knn_5.predict(X_train)"
   ]
  },
  {
   "cell_type": "markdown",
   "id": "a17b8720",
   "metadata": {},
   "source": [
    "## 2.\n",
    "Evaluate your results using the model score, confusion matrix, and classification report."
   ]
  },
  {
   "cell_type": "code",
   "execution_count": 10,
   "id": "787da4c5",
   "metadata": {},
   "outputs": [
    {
     "name": "stdout",
     "output_type": "stream",
     "text": [
      "accuracy for n_neighbors=5 is: 79.12%\n",
      "\n",
      "confusion matrix for n_neighbors=5: \n",
      "[[266  41]\n",
      " [ 63 128]]\n",
      "\n",
      "classification report for n_neighbors=5:\n",
      "\n",
      "               precision    recall  f1-score   support\n",
      "\n",
      "           0       0.81      0.87      0.84       307\n",
      "           1       0.76      0.67      0.71       191\n",
      "\n",
      "    accuracy                           0.79       498\n",
      "   macro avg       0.78      0.77      0.77       498\n",
      "weighted avg       0.79      0.79      0.79       498\n",
      "\n"
     ]
    }
   ],
   "source": [
    "# knn_5 score\n",
    "print(f'accuracy for n_neighbors=5 is: {knn_5.score(X_train, y_train):.2%}\\n')\n",
    "\n",
    "# confusion matrix for knn_5\n",
    "print(f'confusion matrix for n_neighbors=5: \\n{confusion_matrix(y_train, knn_5_pred)}\\n')\n",
    "\n",
    "# classification report for knn_5\n",
    "print(f'classification report for n_neighbors=5:\\n\\n \\\n",
    "{classification_report(y_train, knn_5_pred)}')"
   ]
  },
  {
   "cell_type": "markdown",
   "id": "79d492ec",
   "metadata": {},
   "source": [
    "## 3. \n",
    "Print and clearly label the following: Accuracy, true positive rate, false positive rate, true negative rate, false negative rate, precision, recall, f1-score, and support."
   ]
  },
  {
   "cell_type": "code",
   "execution_count": 11,
   "id": "a5292cda",
   "metadata": {},
   "outputs": [],
   "source": [
    "conf = confusion_matrix(y_train, knn_5_pred)\n",
    "TN, FP, FN, TP = conf.ravel()"
   ]
  },
  {
   "cell_type": "code",
   "execution_count": 17,
   "id": "1dbe2edf",
   "metadata": {},
   "outputs": [
    {
     "name": "stdout",
     "output_type": "stream",
     "text": [
      "accuracy for n_neighbors=5: \t\t79.12%\n",
      "true positives rate for n_neighbors=5: \t67.02%\n",
      "false positives rate for n_neighbors=5:\t13.36%\n",
      "true negatives rate for n_neighbors=5: \t86.64%\n",
      "false negatives rate for n_neighbors=5:\t32.98%\n",
      "precision for n_neighbors=5: \t\t75.74%\n",
      "recall for n_neighbors=5: \t\t67.02%\n",
      "f1_score for n_neighbors=5: \t\t71.11%\n"
     ]
    },
    {
     "ename": "TypeError",
     "evalue": "unsupported format string passed to tuple.__format__",
     "output_type": "error",
     "traceback": [
      "\u001b[0;31m---------------------------------------------------------------------------\u001b[0m",
      "\u001b[0;31mTypeError\u001b[0m                                 Traceback (most recent call last)",
      "\u001b[0;32m/var/folders/49/v6sf5vy165dghytk4qv6jfhc0000gn/T/ipykernel_1935/2759699628.py\u001b[0m in \u001b[0;36m<module>\u001b[0;34m\u001b[0m\n\u001b[1;32m     16\u001b[0m \u001b[0mprint\u001b[0m\u001b[0;34m(\u001b[0m\u001b[0;34mf'recall for n_neighbors=5: \\t\\t{recall:.2%}'\u001b[0m\u001b[0;34m)\u001b[0m\u001b[0;34m\u001b[0m\u001b[0;34m\u001b[0m\u001b[0m\n\u001b[1;32m     17\u001b[0m \u001b[0mprint\u001b[0m\u001b[0;34m(\u001b[0m\u001b[0;34mf'f1_score for n_neighbors=5: \\t\\t{F1:.2%}'\u001b[0m\u001b[0;34m)\u001b[0m\u001b[0;34m\u001b[0m\u001b[0;34m\u001b[0m\u001b[0m\n\u001b[0;32m---> 18\u001b[0;31m \u001b[0mprint\u001b[0m\u001b[0;34m(\u001b[0m\u001b[0;34mf'support for n_neighbors=5: \\t\\t{support:.2%}'\u001b[0m\u001b[0;34m)\u001b[0m\u001b[0;34m\u001b[0m\u001b[0;34m\u001b[0m\u001b[0m\n\u001b[0m",
      "\u001b[0;31mTypeError\u001b[0m: unsupported format string passed to tuple.__format__"
     ]
    }
   ],
   "source": [
    "accuracy= (TP + TN) / (TP + TN + FP + FN)\n",
    "TPR = recall = TP / (TP + FN)\n",
    "FPR= FP / (FP + TN)\n",
    "TNR= TN / (FP + TN)\n",
    "FNR= FN / (FN + TP)\n",
    "precision= TP / (TP + FP)\n",
    "F1= 2 * (precision * recall) / (precision + recall)\n",
    "support= TP + FN, TN + FP\n",
    "\n",
    "print(f'accuracy for n_neighbors=5: \\t\\t{accuracy:.2%}')\n",
    "print(f'true positives rate for n_neighbors=5: \\t{TPR:.2%}')\n",
    "print(f'false positives rate for n_neighbors=5:\\t{FPR:.2%}')\n",
    "print(f'true negatives rate for n_neighbors=5: \\t{TNR:.2%}')\n",
    "print(f'false negatives rate for n_neighbors=5:\\t{FNR:.2%}')\n",
    "print(f'precision for n_neighbors=5: \\t\\t{precision:.2%}')\n",
    "print(f'recall for n_neighbors=5: \\t\\t{recall:.2%}')\n",
    "print(f'f1_score for n_neighbors=5: \\t\\t{F1:.2%}')\n",
    "print(f'support for n_neighbors=5: \\t\\t{support:.2%}')"
   ]
  },
  {
   "cell_type": "code",
   "execution_count": null,
   "id": "68bf490c",
   "metadata": {},
   "outputs": [],
   "source": []
  }
 ],
 "metadata": {
  "kernelspec": {
   "display_name": "Python 3 (ipykernel)",
   "language": "python",
   "name": "python3"
  },
  "language_info": {
   "codemirror_mode": {
    "name": "ipython",
    "version": 3
   },
   "file_extension": ".py",
   "mimetype": "text/x-python",
   "name": "python",
   "nbconvert_exporter": "python",
   "pygments_lexer": "ipython3",
   "version": "3.9.13"
  }
 },
 "nbformat": 4,
 "nbformat_minor": 5
}
