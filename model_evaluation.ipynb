{
 "cells": [
  {
   "cell_type": "code",
   "execution_count": 1,
   "id": "eaa8f602",
   "metadata": {},
   "outputs": [],
   "source": [
    "import pandas as pd\n",
    "import numpy as np"
   ]
  },
  {
   "cell_type": "markdown",
   "id": "c8e4f9e6",
   "metadata": {},
   "source": [
    "2. Given the following confusion matrix, evaluate (by hand) the model's performance.\n",
    "\n",
    "\n",
    "|               | pred dog   | pred cat   |\n",
    "|:------------  |-----------:|-----------:|\n",
    "| actual dog    |         46 |         7  |\n",
    "| actual cat    |         13 |         34 |\n",
    "\n",
    "- In the context of this problem, what is a false positive?\n",
    "- In the context of this problem, what is a false negative?\n",
    "- How would you describe this model?"
   ]
  },
  {
   "cell_type": "code",
   "execution_count": 2,
   "id": "87572c94",
   "metadata": {},
   "outputs": [],
   "source": [
    "total = 46 + 7 + 13 + 34"
   ]
  },
  {
   "cell_type": "code",
   "execution_count": 43,
   "id": "24b93760",
   "metadata": {},
   "outputs": [
    {
     "name": "stdout",
     "output_type": "stream",
     "text": [
      "the accuracy is 80.00%\n"
     ]
    }
   ],
   "source": [
    "# accuracy = (TP + TN) / (TP + FP + FN + TN)\n",
    "accuracy = (46 + 34) / total\n",
    "print(f'the accuracy is {accuracy:.2%}')"
   ]
  },
  {
   "cell_type": "code",
   "execution_count": 44,
   "id": "522eba1b",
   "metadata": {},
   "outputs": [
    {
     "name": "stdout",
     "output_type": "stream",
     "text": [
      "the recall is 86.79%\n"
     ]
    }
   ],
   "source": [
    "# recall = TP / (TP + FN)\n",
    "recall = 46 / (46 + 7)\n",
    "print(f'the recall is {recall:.2%}')"
   ]
  },
  {
   "cell_type": "code",
   "execution_count": 45,
   "id": "a10dec6e",
   "metadata": {},
   "outputs": [
    {
     "name": "stdout",
     "output_type": "stream",
     "text": [
      "the precision is 77.97%\n"
     ]
    }
   ],
   "source": [
    "# precision = TP / (TP + FP)\n",
    "precision = 46 / (46 + 13)\n",
    "print(f'the precision is {precision:.2%}')"
   ]
  },
  {
   "cell_type": "markdown",
   "id": "bfa440da",
   "metadata": {},
   "source": [
    "In the context of this problem, what is a false positive?\n",
    "- predicting dog when it is actually a cat\n",
    "\n",
    "In the context of this problem, what is a false negative?\n",
    "- predicting cat when it is actually a dog\n",
    "\n",
    "How would you describe this model?\n",
    "- around 80% correct, 86.8% chance to predict dog out of all dogs, 78% chance to be correct in predicting dog.\n",
    "- model is best at predicting dog when it is actually a dog"
   ]
  },
  {
   "cell_type": "markdown",
   "id": "6072f75d",
   "metadata": {},
   "source": [
    "3. You are working as a datascientist working for Codeup Cody Creator (C3 for short), a rubber-duck manufacturing plant.\n",
    "\n",
    "Unfortunately, some of the rubber ducks that are produced will have defects. Your team has built several models that try to predict those defects, and the data from their predictions can be found here.\n",
    "\n",
    "Use the predictions dataset and pandas to help answer the following questions:\n",
    "\n",
    "- An internal team wants to investigate the cause of the manufacturing defects. They tell you that they want to identify as many of the ducks that have a defect as possible. Which evaluation metric would be appropriate here? Which model would be the best fit for this use case?\n",
    "- Recently several stories in the local news have come out highlighting customers who received a rubber duck with a defect, and portraying C3 in a bad light. The PR team has decided to launch a program that gives customers with a defective duck a vacation to Hawaii. They need you to predict which ducks will have defects, but tell you the really don't want to accidentally give out a vacation package when the duck really doesn't have a defect. Which evaluation metric would be appropriate here? Which model would be the best fit for this use case?\n"
   ]
  },
  {
   "cell_type": "code",
   "execution_count": 6,
   "id": "f60c9eb4",
   "metadata": {},
   "outputs": [],
   "source": [
    "c3 = pd.read_csv('c3.csv')"
   ]
  },
  {
   "cell_type": "code",
   "execution_count": 7,
   "id": "688f216a",
   "metadata": {},
   "outputs": [
    {
     "data": {
      "text/html": [
       "<div>\n",
       "<style scoped>\n",
       "    .dataframe tbody tr th:only-of-type {\n",
       "        vertical-align: middle;\n",
       "    }\n",
       "\n",
       "    .dataframe tbody tr th {\n",
       "        vertical-align: top;\n",
       "    }\n",
       "\n",
       "    .dataframe thead th {\n",
       "        text-align: right;\n",
       "    }\n",
       "</style>\n",
       "<table border=\"1\" class=\"dataframe\">\n",
       "  <thead>\n",
       "    <tr style=\"text-align: right;\">\n",
       "      <th></th>\n",
       "      <th>actual</th>\n",
       "      <th>model1</th>\n",
       "      <th>model2</th>\n",
       "      <th>model3</th>\n",
       "    </tr>\n",
       "  </thead>\n",
       "  <tbody>\n",
       "    <tr>\n",
       "      <th>0</th>\n",
       "      <td>No Defect</td>\n",
       "      <td>No Defect</td>\n",
       "      <td>Defect</td>\n",
       "      <td>No Defect</td>\n",
       "    </tr>\n",
       "    <tr>\n",
       "      <th>1</th>\n",
       "      <td>No Defect</td>\n",
       "      <td>No Defect</td>\n",
       "      <td>Defect</td>\n",
       "      <td>Defect</td>\n",
       "    </tr>\n",
       "    <tr>\n",
       "      <th>2</th>\n",
       "      <td>No Defect</td>\n",
       "      <td>No Defect</td>\n",
       "      <td>Defect</td>\n",
       "      <td>No Defect</td>\n",
       "    </tr>\n",
       "    <tr>\n",
       "      <th>3</th>\n",
       "      <td>No Defect</td>\n",
       "      <td>Defect</td>\n",
       "      <td>Defect</td>\n",
       "      <td>Defect</td>\n",
       "    </tr>\n",
       "    <tr>\n",
       "      <th>4</th>\n",
       "      <td>No Defect</td>\n",
       "      <td>No Defect</td>\n",
       "      <td>Defect</td>\n",
       "      <td>No Defect</td>\n",
       "    </tr>\n",
       "  </tbody>\n",
       "</table>\n",
       "</div>"
      ],
      "text/plain": [
       "      actual     model1  model2     model3\n",
       "0  No Defect  No Defect  Defect  No Defect\n",
       "1  No Defect  No Defect  Defect     Defect\n",
       "2  No Defect  No Defect  Defect  No Defect\n",
       "3  No Defect     Defect  Defect     Defect\n",
       "4  No Defect  No Defect  Defect  No Defect"
      ]
     },
     "execution_count": 7,
     "metadata": {},
     "output_type": "execute_result"
    }
   ],
   "source": [
    "c3.head()"
   ]
  },
  {
   "cell_type": "markdown",
   "id": "6ce6b93a",
   "metadata": {},
   "source": [
    "An internal team wants to investigate the cause of the manufacturing defects. \n",
    "They tell you that they want to identify as many of the ducks \n",
    "that have a defect as possible. Which evaluation metric would be appropriate here? \n",
    "Which model would be the best fit for this use case?"
   ]
  },
  {
   "cell_type": "code",
   "execution_count": 8,
   "id": "1979b727",
   "metadata": {},
   "outputs": [],
   "source": [
    "# Which evaluation metric would be appropriate here? \n",
    "# we would want to look at the model Recall\n",
    "recall_subset = c3[c3.actual == 'Defect']\n",
    "model1_recall = (recall_subset.actual == recall_subset.model1).mean()\n",
    "model2_recall = (recall_subset.actual == recall_subset.model2).mean()\n",
    "model3_recall = (recall_subset.actual == recall_subset.model3).mean()"
   ]
  },
  {
   "cell_type": "code",
   "execution_count": 9,
   "id": "56586783",
   "metadata": {},
   "outputs": [
    {
     "name": "stdout",
     "output_type": "stream",
     "text": [
      "model 1 recall is: 50.00%\n",
      "model 2 recall is: 56.25%\n",
      "model 3 recall is: 81.25%\n"
     ]
    }
   ],
   "source": [
    "print(f'model 1 recall is: {model1_recall:.2%}')\n",
    "print(f'model 2 recall is: {model2_recall:.2%}')\n",
    "print(f'model 3 recall is: {model3_recall:.2%}')"
   ]
  },
  {
   "cell_type": "markdown",
   "id": "00fd1b3e",
   "metadata": {},
   "source": [
    "Which model would be the best fit for this use case?\n",
    "\n",
    "Model 3 has the best recall so is the best for this use case"
   ]
  },
  {
   "cell_type": "markdown",
   "id": "88569a9b",
   "metadata": {},
   "source": [
    "Recently several stories in the local news have come out highlighting customers who received a rubber duck with a defect, and portraying C3 in a bad light. The PR team has decided to launch a program that gives customers with a defective duck a vacation to Hawaii. They need you to predict which ducks will have defects, but tell you the really don't want to accidentally give out a vacation package when the duck really doesn't have a defect. Which evaluation metric would be appropriate here? Which model would be the best fit for this use case?"
   ]
  },
  {
   "cell_type": "code",
   "execution_count": 11,
   "id": "557334ba",
   "metadata": {},
   "outputs": [],
   "source": [
    "# Which evaluation metric would be appropriate here?\n",
    "\n",
    "# This is a poorly worded problem!! \n",
    "# The manufacturer would absolutely only care about\n",
    "# catching every defective duck in this scenario regardless of false positives, \n",
    "# which is Recall, but the question intent is asking for precision.\n",
    "\n",
    "# we will want to use the model Precision\n",
    "model1_subset = c3[c3.model1 == 'Defect']\n",
    "model1_precision = (model1_subset.actual == model1_subset.model1).mean()\n",
    "model2_subset = c3[c3.model2 == 'Defect']\n",
    "model2_precision = (model2_subset.actual == model2_subset.model2).mean()\n",
    "model3_subset = c3[c3.model3 == 'Defect']\n",
    "model3_precision = (model3_subset.actual == model3_subset.model3).mean()"
   ]
  },
  {
   "cell_type": "code",
   "execution_count": 12,
   "id": "1ca91842",
   "metadata": {},
   "outputs": [
    {
     "name": "stdout",
     "output_type": "stream",
     "text": [
      "model 1 precision is: 80.00%\n",
      "model 2 precision is: 10.00%\n",
      "model 3 precision is: 13.13%\n"
     ]
    }
   ],
   "source": [
    "print(f'model 1 precision is: {model1_precision:.2%}')\n",
    "print(f'model 2 precision is: {model2_precision:.2%}')\n",
    "print(f'model 3 precision is: {model3_precision:.2%}')"
   ]
  },
  {
   "cell_type": "markdown",
   "id": "68eb34b1",
   "metadata": {},
   "source": [
    "Which model would be the best fit for this use case?\n",
    "\n",
    "model 1 is the best for this use case"
   ]
  },
  {
   "cell_type": "markdown",
   "id": "02e3bf07",
   "metadata": {},
   "source": [
    "4. You are working as a data scientist for Gives You Paws ™, a subscription based service that shows you cute pictures of dogs or cats (or both for an additional fee).\n",
    "\n",
    "At Gives You Paws, anyone can upload pictures of their cats or dogs. The photos are then put through a two step process. First an automated algorithm tags pictures as either a cat or a dog (Phase I). Next, the photos that have been initially identified are put through another round of review, possibly with some human oversight, before being presented to the users (Phase II).\n",
    "\n",
    "Several models have already been developed with the data, and you can find their results here.\n",
    "\n",
    "Given this dataset, use pandas to create a baseline model (i.e. a model that just predicts the most common class) and answer the following questions:\n",
    "\n",
    "- In terms of accuracy, how do the various models compare to the baseline model? Are any of the models better than the baseline?\n",
    "- Suppose you are working on a team that solely deals with dog pictures. Which of these models would you recommend?\n",
    "- Suppose you are working on a team that solely deals with cat pictures. Which of these models would you recommend?"
   ]
  },
  {
   "cell_type": "code",
   "execution_count": 14,
   "id": "77d91304",
   "metadata": {},
   "outputs": [
    {
     "data": {
      "text/html": [
       "<div>\n",
       "<style scoped>\n",
       "    .dataframe tbody tr th:only-of-type {\n",
       "        vertical-align: middle;\n",
       "    }\n",
       "\n",
       "    .dataframe tbody tr th {\n",
       "        vertical-align: top;\n",
       "    }\n",
       "\n",
       "    .dataframe thead th {\n",
       "        text-align: right;\n",
       "    }\n",
       "</style>\n",
       "<table border=\"1\" class=\"dataframe\">\n",
       "  <thead>\n",
       "    <tr style=\"text-align: right;\">\n",
       "      <th></th>\n",
       "      <th>actual</th>\n",
       "      <th>model1</th>\n",
       "      <th>model2</th>\n",
       "      <th>model3</th>\n",
       "      <th>model4</th>\n",
       "    </tr>\n",
       "  </thead>\n",
       "  <tbody>\n",
       "    <tr>\n",
       "      <th>0</th>\n",
       "      <td>cat</td>\n",
       "      <td>cat</td>\n",
       "      <td>dog</td>\n",
       "      <td>cat</td>\n",
       "      <td>dog</td>\n",
       "    </tr>\n",
       "    <tr>\n",
       "      <th>1</th>\n",
       "      <td>dog</td>\n",
       "      <td>dog</td>\n",
       "      <td>cat</td>\n",
       "      <td>cat</td>\n",
       "      <td>dog</td>\n",
       "    </tr>\n",
       "    <tr>\n",
       "      <th>2</th>\n",
       "      <td>dog</td>\n",
       "      <td>cat</td>\n",
       "      <td>cat</td>\n",
       "      <td>cat</td>\n",
       "      <td>dog</td>\n",
       "    </tr>\n",
       "    <tr>\n",
       "      <th>3</th>\n",
       "      <td>dog</td>\n",
       "      <td>dog</td>\n",
       "      <td>dog</td>\n",
       "      <td>cat</td>\n",
       "      <td>dog</td>\n",
       "    </tr>\n",
       "    <tr>\n",
       "      <th>4</th>\n",
       "      <td>cat</td>\n",
       "      <td>cat</td>\n",
       "      <td>cat</td>\n",
       "      <td>dog</td>\n",
       "      <td>dog</td>\n",
       "    </tr>\n",
       "  </tbody>\n",
       "</table>\n",
       "</div>"
      ],
      "text/plain": [
       "  actual model1 model2 model3 model4\n",
       "0    cat    cat    dog    cat    dog\n",
       "1    dog    dog    cat    cat    dog\n",
       "2    dog    cat    cat    cat    dog\n",
       "3    dog    dog    dog    cat    dog\n",
       "4    cat    cat    cat    dog    dog"
      ]
     },
     "execution_count": 14,
     "metadata": {},
     "output_type": "execute_result"
    }
   ],
   "source": [
    "gyp = pd.read_csv('gives_you_paws.csv')\n",
    "gyp.head()"
   ]
  },
  {
   "cell_type": "code",
   "execution_count": 15,
   "id": "fc72b228",
   "metadata": {},
   "outputs": [
    {
     "data": {
      "text/plain": [
       "dog    3254\n",
       "cat    1746\n",
       "Name: actual, dtype: int64"
      ]
     },
     "execution_count": 15,
     "metadata": {},
     "output_type": "execute_result"
    }
   ],
   "source": [
    "gyp.actual.value_counts()"
   ]
  },
  {
   "cell_type": "code",
   "execution_count": 16,
   "id": "725fa8bd",
   "metadata": {},
   "outputs": [],
   "source": [
    "gyp['baseline'] = 'dog'"
   ]
  },
  {
   "cell_type": "code",
   "execution_count": 17,
   "id": "366a4a49",
   "metadata": {},
   "outputs": [
    {
     "data": {
      "text/html": [
       "<div>\n",
       "<style scoped>\n",
       "    .dataframe tbody tr th:only-of-type {\n",
       "        vertical-align: middle;\n",
       "    }\n",
       "\n",
       "    .dataframe tbody tr th {\n",
       "        vertical-align: top;\n",
       "    }\n",
       "\n",
       "    .dataframe thead th {\n",
       "        text-align: right;\n",
       "    }\n",
       "</style>\n",
       "<table border=\"1\" class=\"dataframe\">\n",
       "  <thead>\n",
       "    <tr style=\"text-align: right;\">\n",
       "      <th></th>\n",
       "      <th>actual</th>\n",
       "      <th>model1</th>\n",
       "      <th>model2</th>\n",
       "      <th>model3</th>\n",
       "      <th>model4</th>\n",
       "      <th>baseline</th>\n",
       "    </tr>\n",
       "  </thead>\n",
       "  <tbody>\n",
       "    <tr>\n",
       "      <th>0</th>\n",
       "      <td>cat</td>\n",
       "      <td>cat</td>\n",
       "      <td>dog</td>\n",
       "      <td>cat</td>\n",
       "      <td>dog</td>\n",
       "      <td>dog</td>\n",
       "    </tr>\n",
       "    <tr>\n",
       "      <th>1</th>\n",
       "      <td>dog</td>\n",
       "      <td>dog</td>\n",
       "      <td>cat</td>\n",
       "      <td>cat</td>\n",
       "      <td>dog</td>\n",
       "      <td>dog</td>\n",
       "    </tr>\n",
       "    <tr>\n",
       "      <th>2</th>\n",
       "      <td>dog</td>\n",
       "      <td>cat</td>\n",
       "      <td>cat</td>\n",
       "      <td>cat</td>\n",
       "      <td>dog</td>\n",
       "      <td>dog</td>\n",
       "    </tr>\n",
       "    <tr>\n",
       "      <th>3</th>\n",
       "      <td>dog</td>\n",
       "      <td>dog</td>\n",
       "      <td>dog</td>\n",
       "      <td>cat</td>\n",
       "      <td>dog</td>\n",
       "      <td>dog</td>\n",
       "    </tr>\n",
       "    <tr>\n",
       "      <th>4</th>\n",
       "      <td>cat</td>\n",
       "      <td>cat</td>\n",
       "      <td>cat</td>\n",
       "      <td>dog</td>\n",
       "      <td>dog</td>\n",
       "      <td>dog</td>\n",
       "    </tr>\n",
       "  </tbody>\n",
       "</table>\n",
       "</div>"
      ],
      "text/plain": [
       "  actual model1 model2 model3 model4 baseline\n",
       "0    cat    cat    dog    cat    dog      dog\n",
       "1    dog    dog    cat    cat    dog      dog\n",
       "2    dog    cat    cat    cat    dog      dog\n",
       "3    dog    dog    dog    cat    dog      dog\n",
       "4    cat    cat    cat    dog    dog      dog"
      ]
     },
     "execution_count": 17,
     "metadata": {},
     "output_type": "execute_result"
    }
   ],
   "source": [
    "gyp.head()"
   ]
  },
  {
   "cell_type": "code",
   "execution_count": 18,
   "id": "9b54c0ec",
   "metadata": {},
   "outputs": [],
   "source": [
    "model1_accuracy = (gyp.actual == gyp.model1).mean()\n",
    "model2_accuracy = (gyp.actual == gyp.model2).mean()\n",
    "model3_accuracy = (gyp.actual == gyp.model3).mean()\n",
    "model4_accuracy = (gyp.actual == gyp.model4).mean()\n",
    "baseline_accuracy = (gyp.actual == gyp.baseline).mean()"
   ]
  },
  {
   "cell_type": "code",
   "execution_count": 19,
   "id": "49163f9d",
   "metadata": {},
   "outputs": [
    {
     "name": "stdout",
     "output_type": "stream",
     "text": [
      "baseline model accuracy is: 65.08%\n",
      "model 1 accuracy is: 80.74%\n",
      "model 2 accuracy is: 63.04%\n",
      "model 3 accuracy is: 50.96%\n",
      "model 4 accuracy is: 74.26%\n"
     ]
    }
   ],
   "source": [
    "print(f'baseline model accuracy is: {baseline_accuracy:.2%}')\n",
    "print(f'model 1 accuracy is: {model1_accuracy:.2%}')\n",
    "print(f'model 2 accuracy is: {model2_accuracy:.2%}')\n",
    "print(f'model 3 accuracy is: {model3_accuracy:.2%}')\n",
    "print(f'model 4 accuracy is: {model4_accuracy:.2%}')"
   ]
  },
  {
   "cell_type": "markdown",
   "id": "e5ad4e24",
   "metadata": {},
   "source": [
    "In terms of accuracy, how do the various models compare to the baseline model? \n",
    "- Are any of the models better than the baseline?\n",
    "\n",
    "model 1 and model 4 are better than the baseline accuracy\n",
    "\n",
    "model 1 is the best accuracy for this use case"
   ]
  },
  {
   "cell_type": "code",
   "execution_count": 21,
   "id": "c8b7fcf4",
   "metadata": {},
   "outputs": [],
   "source": [
    "# Suppose you are working on a team that solely deals with dog pictures. \n",
    "# Which of these models would you recommend?\n",
    "\n",
    "# another poorly worded problem, \n",
    "# are we looking to get as many dog pictures as possible?\n",
    "# or do we want to make sure we only want dog pictures since the team only deals with dogs?\n",
    "\n",
    "# I interpreted it as we want to be correct in predicting dog\n",
    "# for this use case we would want to look at model precision, since we only want dog pics"
   ]
  },
  {
   "cell_type": "code",
   "execution_count": 22,
   "id": "3e038943",
   "metadata": {},
   "outputs": [],
   "source": [
    "baseline_subset = gyp[gyp.baseline == 'dog']\n",
    "baseline_precision = (baseline_subset.actual == baseline_subset.baseline).mean()\n",
    "model1_subset = gyp[gyp.model1 == 'dog']\n",
    "model1_precision = (model1_subset.actual == model1_subset.model1).mean()\n",
    "model2_subset = gyp[gyp.model2 == 'dog']\n",
    "model2_precision = (model2_subset.actual == model2_subset.model2).mean()\n",
    "model3_subset = gyp[gyp.model3 == 'dog']\n",
    "model3_precision = (model3_subset.actual == model3_subset.model3).mean()\n",
    "model4_subset = gyp[gyp.model4 == 'dog']\n",
    "model4_precision = (model4_subset.actual == model4_subset.model4).mean()"
   ]
  },
  {
   "cell_type": "code",
   "execution_count": 67,
   "id": "d138e387",
   "metadata": {},
   "outputs": [
    {
     "name": "stdout",
     "output_type": "stream",
     "text": [
      "baseline model precision is: 65.08%\n",
      "model 1 precision is: 89.00%\n",
      "model 2 precision is: 89.32%\n",
      "model 3 precision is: 65.99%\n",
      "model 4 precision is: 73.12%\n"
     ]
    }
   ],
   "source": [
    "print(f'baseline model precision is: {baseline_precision:.2%}')\n",
    "print(f'model 1 precision is: {model1_precision:.2%}')\n",
    "print(f'model 2 precision is: {model2_precision:.2%}')\n",
    "print(f'model 3 precision is: {model3_precision:.2%}')\n",
    "print(f'model 4 precision is: {model4_precision:.2%}')"
   ]
  },
  {
   "cell_type": "markdown",
   "id": "aade4d63",
   "metadata": {},
   "source": [
    "Which of these models would you recommend?\n",
    "\n",
    "model 2 precision is the best for this use case"
   ]
  },
  {
   "cell_type": "code",
   "execution_count": 25,
   "id": "9a336881",
   "metadata": {},
   "outputs": [],
   "source": [
    "# Suppose you are working on a team that solely deals with cat pictures. \n",
    "# Which of these models would you recommend?\n",
    "\n",
    "# I understood the question to be that we want to minimize dog pictures\n",
    "# we will look for model negative predictive value"
   ]
  },
  {
   "cell_type": "code",
   "execution_count": 26,
   "id": "6a2ef732",
   "metadata": {},
   "outputs": [],
   "source": [
    "baseline_subset = gyp[gyp.baseline == 'cat']\n",
    "baseline_npv = (baseline_subset.actual == baseline_subset.baseline).mean()\n",
    "model1_subset = gyp[gyp.model1 == 'cat']\n",
    "model1_npv = (model1_subset.actual == model1_subset.model1).mean()\n",
    "model2_subset = gyp[gyp.model2 == 'cat']\n",
    "model2_npv = (model2_subset.actual == model2_subset.model2).mean()\n",
    "model3_subset = gyp[gyp.model3 == 'cat']\n",
    "model3_npv = (model3_subset.actual == model3_subset.model3).mean()\n",
    "model4_subset = gyp[gyp.model4 == 'cat']\n",
    "model4_npv = (model4_subset.actual == model4_subset.model4).mean()"
   ]
  },
  {
   "cell_type": "code",
   "execution_count": 27,
   "id": "a8b22475",
   "metadata": {},
   "outputs": [
    {
     "name": "stdout",
     "output_type": "stream",
     "text": [
      "baseline model negative predictive value is: nan%\n",
      "model 1 negative predictive value is: 68.98%\n",
      "model 2 negative predictive value is: 48.41%\n",
      "model 3 negative predictive value is: 35.83%\n",
      "model 4 negative predictive value is: 80.72%\n"
     ]
    }
   ],
   "source": [
    "print(f'baseline model negative predictive value is: {baseline_npv:.2%}')\n",
    "print(f'model 1 negative predictive value is: {model1_npv:.2%}')\n",
    "print(f'model 2 negative predictive value is: {model2_npv:.2%}')\n",
    "print(f'model 3 negative predictive value is: {model3_npv:.2%}')\n",
    "print(f'model 4 negative predictive value is: {model4_npv:.2%}')"
   ]
  },
  {
   "cell_type": "markdown",
   "id": "52b4de6f",
   "metadata": {},
   "source": [
    "Which of these models would you recommend?\n",
    "\n",
    "model 4 negative predictive value is the best for this use case"
   ]
  },
  {
   "cell_type": "code",
   "execution_count": 29,
   "id": "5079c48e",
   "metadata": {},
   "outputs": [],
   "source": [
    "from sklearn import metrics"
   ]
  },
  {
   "cell_type": "markdown",
   "id": "24320866",
   "metadata": {},
   "source": [
    "5. Follow the links below to read the documentation about each function, then apply those functions to the data from the previous problem.\n",
    "\n",
    "- sklearn.metrics.accuracy_score\n",
    "- sklearn.metrics.precision_score\n",
    "- sklearn.metrics.recall_score\n",
    "- sklearn.metrics.classification_report"
   ]
  },
  {
   "cell_type": "code",
   "execution_count": 30,
   "id": "bff4600b",
   "metadata": {},
   "outputs": [],
   "source": [
    "# redoing c3 recall\n",
    "c3_model1_recall = metrics.recall_score(c3.actual, c3.model1, pos_label='Defect')\n",
    "c3_model2_recall = metrics.recall_score(c3.actual, c3.model2, pos_label='Defect')\n",
    "c3_model3_recall = metrics.recall_score(c3.actual, c3.model3, pos_label='Defect')"
   ]
  },
  {
   "cell_type": "code",
   "execution_count": 31,
   "id": "c2c58c68",
   "metadata": {},
   "outputs": [
    {
     "name": "stdout",
     "output_type": "stream",
     "text": [
      "c3 model 1 recall using sklearn.metrics is: 50.00%\n",
      "c3 model 2 recall using sklearn.metrics is: 56.25%\n",
      "c3 model 3 recall using sklearn.metrics is: 81.25%\n"
     ]
    }
   ],
   "source": [
    "print(f'c3 model 1 recall using sklearn.metrics is: {c3_model1_recall:.2%}')\n",
    "print(f'c3 model 2 recall using sklearn.metrics is: {c3_model2_recall:.2%}')\n",
    "print(f'c3 model 3 recall using sklearn.metrics is: {c3_model3_recall:.2%}')"
   ]
  },
  {
   "cell_type": "code",
   "execution_count": 32,
   "id": "c8170dd6",
   "metadata": {},
   "outputs": [],
   "source": [
    "# c3 precision using sklearn\n",
    "c3_model1_precision = metrics.precision_score(c3.actual, c3.model1, pos_label='Defect')\n",
    "c3_model2_precision = metrics.precision_score(c3.actual, c3.model2, pos_label='Defect')\n",
    "c3_model3_precision = metrics.precision_score(c3.actual, c3.model3, pos_label='Defect')"
   ]
  },
  {
   "cell_type": "code",
   "execution_count": 33,
   "id": "80677c8e",
   "metadata": {},
   "outputs": [
    {
     "name": "stdout",
     "output_type": "stream",
     "text": [
      "c3 model 1 precision using sklearn.metrics is: 80.00%\n",
      "c3 model 2 precision using sklearn.metrics is: 10.00%\n",
      "c3 model 3 precision using sklearn.metrics is: 13.13%\n"
     ]
    }
   ],
   "source": [
    "print(f'c3 model 1 precision using sklearn.metrics is: {c3_model1_precision:.2%}')\n",
    "print(f'c3 model 2 precision using sklearn.metrics is: {c3_model2_precision:.2%}')\n",
    "print(f'c3 model 3 precision using sklearn.metrics is: {c3_model3_precision:.2%}')"
   ]
  },
  {
   "cell_type": "code",
   "execution_count": 34,
   "id": "a5bc0f18",
   "metadata": {},
   "outputs": [],
   "source": [
    "gyp_base_accuracy = metrics.accuracy_score(gyp.actual, gyp.baseline)\n",
    "gyp_model1_accuracy = metrics.accuracy_score(gyp.actual, gyp.model1)\n",
    "gyp_model2_accuracy = metrics.accuracy_score(gyp.actual, gyp.model2)\n",
    "gyp_model3_accuracy = metrics.accuracy_score(gyp.actual, gyp.model3)\n",
    "gyp_model4_accuracy = metrics.accuracy_score(gyp.actual, gyp.model4)"
   ]
  },
  {
   "cell_type": "code",
   "execution_count": 35,
   "id": "d977384d",
   "metadata": {},
   "outputs": [
    {
     "name": "stdout",
     "output_type": "stream",
     "text": [
      "gyp baseline accuracy using sklearn.metrics is: 65.08%\n",
      "gyp model 1 accuracy using sklearn.metrics is: 80.74%\n",
      "gyp model 2 accuracy using sklearn.metrics is: 63.04%\n",
      "gyp model 3 accuracy using sklearn.metrics is: 50.96%\n",
      "gyp model 4 accuracy using sklearn.metrics is: 74.26%\n"
     ]
    }
   ],
   "source": [
    "print(f'gyp baseline accuracy using sklearn.metrics is: {gyp_base_accuracy:.2%}')\n",
    "print(f'gyp model 1 accuracy using sklearn.metrics is: {gyp_model1_accuracy:.2%}')\n",
    "print(f'gyp model 2 accuracy using sklearn.metrics is: {gyp_model2_accuracy:.2%}')\n",
    "print(f'gyp model 3 accuracy using sklearn.metrics is: {gyp_model3_accuracy:.2%}')\n",
    "print(f'gyp model 4 accuracy using sklearn.metrics is: {gyp_model4_accuracy:.2%}')"
   ]
  },
  {
   "cell_type": "code",
   "execution_count": 36,
   "id": "a1fc0d16",
   "metadata": {},
   "outputs": [],
   "source": [
    "gyp_base_precision = metrics.precision_score(gyp.actual, gyp.baseline, pos_label='dog')\n",
    "gyp_model1_precision = metrics.precision_score(gyp.actual, gyp.model1, pos_label='dog')\n",
    "gyp_model2_precision = metrics.precision_score(gyp.actual, gyp.model2, pos_label='dog')\n",
    "gyp_model3_precision = metrics.precision_score(gyp.actual, gyp.model3, pos_label='dog')\n",
    "gyp_model4_precision = metrics.precision_score(gyp.actual, gyp.model4, pos_label='dog')"
   ]
  },
  {
   "cell_type": "code",
   "execution_count": 37,
   "id": "d2337d2c",
   "metadata": {},
   "outputs": [
    {
     "name": "stdout",
     "output_type": "stream",
     "text": [
      "gyp baseline precision using sklearn.metrics is: 65.08%\n",
      "gyp model 1 precision using sklearn.metrics is: 89.00%\n",
      "gyp model 2 precision using sklearn.metrics is: 89.32%\n",
      "gyp model 3 precision using sklearn.metrics is: 65.99%\n",
      "gyp model 4 precision using sklearn.metrics is: 73.12%\n"
     ]
    }
   ],
   "source": [
    "print(f'gyp baseline precision using sklearn.metrics is: {gyp_base_precision:.2%}')\n",
    "print(f'gyp model 1 precision using sklearn.metrics is: {gyp_model1_precision:.2%}')\n",
    "print(f'gyp model 2 precision using sklearn.metrics is: {gyp_model2_precision:.2%}')\n",
    "print(f'gyp model 3 precision using sklearn.metrics is: {gyp_model3_precision:.2%}')\n",
    "print(f'gyp model 4 precision using sklearn.metrics is: {gyp_model4_precision:.2%}')"
   ]
  },
  {
   "cell_type": "code",
   "execution_count": 65,
   "id": "38ea51c2",
   "metadata": {},
   "outputs": [],
   "source": [
    "gyp_base_npv = metrics.precision_score(gyp.actual, gyp.baseline, \n",
    "                                       pos_label='cat',\n",
    "                                       zero_division=0)\n",
    "gyp_model1_npv = metrics.precision_score(gyp.actual, gyp.model1, pos_label='cat')\n",
    "gyp_model2_npv = metrics.precision_score(gyp.actual, gyp.model2, pos_label='cat')\n",
    "gyp_model3_npv = metrics.precision_score(gyp.actual, gyp.model3, pos_label='cat')\n",
    "gyp_model4_npv = metrics.precision_score(gyp.actual, gyp.model4, pos_label='cat')"
   ]
  },
  {
   "cell_type": "code",
   "execution_count": 66,
   "id": "2c2c1f2e",
   "metadata": {},
   "outputs": [
    {
     "name": "stdout",
     "output_type": "stream",
     "text": [
      "gyp baseline negative predictive value using sklearn.metrics is: 0.00%\n",
      "gyp model 1 negative predictive value using sklearn.metrics is: 68.98%\n",
      "gyp model 2 negative predictive value using sklearn.metrics is: 48.41%\n",
      "gyp model 3 negative predictive value using sklearn.metrics is: 35.83%\n",
      "gyp model 4 negative predictive value using sklearn.metrics is: 80.72%\n"
     ]
    }
   ],
   "source": [
    "print(f'gyp baseline negative predictive value using\\\n",
    " sklearn.metrics is: {gyp_base_npv:.2%}')\n",
    "print(f'gyp model 1 negative predictive value using\\\n",
    " sklearn.metrics is: {gyp_model1_npv:.2%}')\n",
    "print(f'gyp model 2 negative predictive value using\\\n",
    " sklearn.metrics is: {gyp_model2_npv:.2%}')\n",
    "print(f'gyp model 3 negative predictive value using\\\n",
    " sklearn.metrics is: {gyp_model3_npv:.2%}')\n",
    "print(f'gyp model 4 negative predictive value using\\\n",
    " sklearn.metrics is: {gyp_model4_npv:.2%}')"
   ]
  },
  {
   "cell_type": "code",
   "execution_count": 69,
   "id": "66313d5a",
   "metadata": {},
   "outputs": [
    {
     "name": "stdout",
     "output_type": "stream",
     "text": [
      "baseline stats:\n",
      "              precision    recall  f1-score   support\n",
      "\n",
      "         cat       0.00      0.00      0.00      1746\n",
      "         dog       0.65      1.00      0.79      3254\n",
      "\n",
      "    accuracy                           0.65      5000\n",
      "   macro avg       0.33      0.50      0.39      5000\n",
      "weighted avg       0.42      0.65      0.51      5000\n",
      "\n",
      "-----------------------------------------------------\n",
      "model 1 stats:\n",
      "              precision    recall  f1-score   support\n",
      "\n",
      "         cat       0.69      0.82      0.75      1746\n",
      "         dog       0.89      0.80      0.84      3254\n",
      "\n",
      "    accuracy                           0.81      5000\n",
      "   macro avg       0.79      0.81      0.80      5000\n",
      "weighted avg       0.82      0.81      0.81      5000\n",
      "\n",
      "-----------------------------------------------------\n",
      "model 2 stats:\n",
      "              precision    recall  f1-score   support\n",
      "\n",
      "         cat       0.48      0.89      0.63      1746\n",
      "         dog       0.89      0.49      0.63      3254\n",
      "\n",
      "    accuracy                           0.63      5000\n",
      "   macro avg       0.69      0.69      0.63      5000\n",
      "weighted avg       0.75      0.63      0.63      5000\n",
      "\n",
      "-----------------------------------------------------\n",
      "model 3 stats:\n",
      "              precision    recall  f1-score   support\n",
      "\n",
      "         cat       0.36      0.51      0.42      1746\n",
      "         dog       0.66      0.51      0.57      3254\n",
      "\n",
      "    accuracy                           0.51      5000\n",
      "   macro avg       0.51      0.51      0.50      5000\n",
      "weighted avg       0.55      0.51      0.52      5000\n",
      "\n",
      "-----------------------------------------------------\n",
      "model 4 stats:\n",
      "              precision    recall  f1-score   support\n",
      "\n",
      "         cat       0.81      0.35      0.48      1746\n",
      "         dog       0.73      0.96      0.83      3254\n",
      "\n",
      "    accuracy                           0.74      5000\n",
      "   macro avg       0.77      0.65      0.66      5000\n",
      "weighted avg       0.76      0.74      0.71      5000\n",
      "\n"
     ]
    }
   ],
   "source": [
    "print('baseline stats:')\n",
    "print(metrics.classification_report(gyp.actual, gyp.baseline, \n",
    "                                    target_names=['cat', 'dog'],\n",
    "                                    zero_division=0))\n",
    "print('-----------------------------------------------------')\n",
    "print('model 1 stats:')\n",
    "print(metrics.classification_report(gyp.actual, gyp.model1, \n",
    "                                    target_names=['cat', 'dog']))\n",
    "print('-----------------------------------------------------')\n",
    "print('model 2 stats:')\n",
    "print(metrics.classification_report(gyp.actual, gyp.model2, \n",
    "                                    target_names=['cat', 'dog']))\n",
    "print('-----------------------------------------------------')\n",
    "print('model 3 stats:')\n",
    "print(metrics.classification_report(gyp.actual, gyp.model3, \n",
    "                                    target_names=['cat', 'dog']))\n",
    "print('-----------------------------------------------------')\n",
    "print('model 4 stats:')\n",
    "print(metrics.classification_report(gyp.actual, gyp.model4, \n",
    "                                    target_names=['cat', 'dog']))"
   ]
  },
  {
   "cell_type": "code",
   "execution_count": 78,
   "id": "1ec7e475",
   "metadata": {},
   "outputs": [
    {
     "name": "stdout",
     "output_type": "stream",
     "text": [
      "---------------------model1---------------------------\n",
      "model1 stats:\n",
      "              precision    recall  f1-score   support\n",
      "\n",
      "      Defect       0.80      0.50      0.62        16\n",
      "   No Defect       0.96      0.99      0.97       184\n",
      "\n",
      "    accuracy                           0.95       200\n",
      "   macro avg       0.88      0.74      0.79       200\n",
      "weighted avg       0.95      0.95      0.94       200\n",
      "\n",
      "---------------------model2---------------------------\n",
      "model2 stats:\n",
      "              precision    recall  f1-score   support\n",
      "\n",
      "      Defect       0.10      0.56      0.17        16\n",
      "   No Defect       0.94      0.56      0.70       184\n",
      "\n",
      "    accuracy                           0.56       200\n",
      "   macro avg       0.52      0.56      0.44       200\n",
      "weighted avg       0.87      0.56      0.66       200\n",
      "\n",
      "---------------------model3---------------------------\n",
      "model3 stats:\n",
      "              precision    recall  f1-score   support\n",
      "\n",
      "      Defect       0.13      0.81      0.23        16\n",
      "   No Defect       0.97      0.53      0.69       184\n",
      "\n",
      "    accuracy                           0.56       200\n",
      "   macro avg       0.55      0.67      0.46       200\n",
      "weighted avg       0.90      0.56      0.65       200\n",
      "\n"
     ]
    }
   ],
   "source": [
    "for col in c3:\n",
    "    if col != 'actual':\n",
    "        print(f'---------------------{col}---------------------------')\n",
    "        print(f'{col} stats:')\n",
    "        print(metrics.classification_report(c3.actual, c3[col], \n",
    "                                            target_names=['Defect', 'No Defect'],\n",
    "                                            zero_division=0))"
   ]
  },
  {
   "cell_type": "code",
   "execution_count": 75,
   "id": "34357227",
   "metadata": {},
   "outputs": [
    {
     "name": "stdout",
     "output_type": "stream",
     "text": [
      "---------------------model1---------------------------\n",
      "model1 stats:\n",
      "              precision    recall  f1-score   support\n",
      "\n",
      "         cat       0.69      0.82      0.75      1746\n",
      "         dog       0.89      0.80      0.84      3254\n",
      "\n",
      "    accuracy                           0.81      5000\n",
      "   macro avg       0.79      0.81      0.80      5000\n",
      "weighted avg       0.82      0.81      0.81      5000\n",
      "\n",
      "---------------------model2---------------------------\n",
      "model2 stats:\n",
      "              precision    recall  f1-score   support\n",
      "\n",
      "         cat       0.48      0.89      0.63      1746\n",
      "         dog       0.89      0.49      0.63      3254\n",
      "\n",
      "    accuracy                           0.63      5000\n",
      "   macro avg       0.69      0.69      0.63      5000\n",
      "weighted avg       0.75      0.63      0.63      5000\n",
      "\n",
      "---------------------model3---------------------------\n",
      "model3 stats:\n",
      "              precision    recall  f1-score   support\n",
      "\n",
      "         cat       0.36      0.51      0.42      1746\n",
      "         dog       0.66      0.51      0.57      3254\n",
      "\n",
      "    accuracy                           0.51      5000\n",
      "   macro avg       0.51      0.51      0.50      5000\n",
      "weighted avg       0.55      0.51      0.52      5000\n",
      "\n",
      "---------------------model4---------------------------\n",
      "model4 stats:\n",
      "              precision    recall  f1-score   support\n",
      "\n",
      "         cat       0.81      0.35      0.48      1746\n",
      "         dog       0.73      0.96      0.83      3254\n",
      "\n",
      "    accuracy                           0.74      5000\n",
      "   macro avg       0.77      0.65      0.66      5000\n",
      "weighted avg       0.76      0.74      0.71      5000\n",
      "\n",
      "---------------------baseline---------------------------\n",
      "baseline stats:\n",
      "              precision    recall  f1-score   support\n",
      "\n",
      "         cat       0.00      0.00      0.00      1746\n",
      "         dog       0.65      1.00      0.79      3254\n",
      "\n",
      "    accuracy                           0.65      5000\n",
      "   macro avg       0.33      0.50      0.39      5000\n",
      "weighted avg       0.42      0.65      0.51      5000\n",
      "\n"
     ]
    }
   ],
   "source": [
    "for col in gyp:\n",
    "    if col != 'actual':\n",
    "        print(f'---------------------{col}---------------------------')\n",
    "        print(f'{col} stats:')\n",
    "        print(metrics.classification_report(gyp.actual, gyp[col], \n",
    "                                            target_names=['cat', 'dog'],\n",
    "                                            zero_division=0))"
   ]
  }
 ],
 "metadata": {
  "kernelspec": {
   "display_name": "Python 3 (ipykernel)",
   "language": "python",
   "name": "python3"
  },
  "language_info": {
   "codemirror_mode": {
    "name": "ipython",
    "version": 3
   },
   "file_extension": ".py",
   "mimetype": "text/x-python",
   "name": "python",
   "nbconvert_exporter": "python",
   "pygments_lexer": "ipython3",
   "version": "3.9.13"
  }
 },
 "nbformat": 4,
 "nbformat_minor": 5
}
