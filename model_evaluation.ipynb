{
 "cells": [
  {
   "cell_type": "markdown",
   "id": "abf7f2eb",
   "metadata": {},
   "source": [
    "2. Given the following confusion matrix, evaluate (by hand) the model's performance.\n",
    "\n",
    "\n",
    "|               | pred dog   | pred cat   |\n",
    "|:------------  |-----------:|-----------:|\n",
    "| actual dog    |         46 |         7  |\n",
    "| actual cat    |         13 |         34 |\n",
    "\n",
    "- In the context of this problem, what is a false positive?\n",
    "- In the context of this problem, what is a false negative?\n",
    "- How would you describe this model?"
   ]
  },
  {
   "cell_type": "code",
   "execution_count": 1,
   "id": "63d35916",
   "metadata": {},
   "outputs": [],
   "source": [
    "total = 46 + 7 + 13 + 34"
   ]
  },
  {
   "cell_type": "code",
   "execution_count": 6,
   "id": "4d2d3cd5",
   "metadata": {},
   "outputs": [
    {
     "data": {
      "text/plain": [
       "0.8"
      ]
     },
     "execution_count": 6,
     "metadata": {},
     "output_type": "execute_result"
    }
   ],
   "source": [
    "accuracy = (46 + 34) / total\n",
    "accuracy"
   ]
  },
  {
   "cell_type": "code",
   "execution_count": 8,
   "id": "4d0f2642",
   "metadata": {},
   "outputs": [
    {
     "data": {
      "text/plain": [
       "0.8679245283018868"
      ]
     },
     "execution_count": 8,
     "metadata": {},
     "output_type": "execute_result"
    }
   ],
   "source": [
    "precision = 46 / (46 + 7)\n",
    "precision"
   ]
  },
  {
   "cell_type": "code",
   "execution_count": 5,
   "id": "a1b98319",
   "metadata": {},
   "outputs": [
    {
     "data": {
      "text/plain": [
       "0.7796610169491526"
      ]
     },
     "execution_count": 5,
     "metadata": {},
     "output_type": "execute_result"
    }
   ],
   "source": [
    "recall = 46 / (46 + 13)\n",
    "recall"
   ]
  },
  {
   "cell_type": "markdown",
   "id": "4afb5618",
   "metadata": {},
   "source": [
    "In the context of this problem, what is a false positive?\n",
    "- predicting dog when it is actually a cat\n",
    "\n",
    "In the context of this problem, what is a false negative?\n",
    "- predicting cat when it is actually a dog\n",
    "\n",
    "How would you describe this model?\n",
    "- around 80% correct"
   ]
  },
  {
   "cell_type": "code",
   "execution_count": null,
   "id": "6860cc50",
   "metadata": {},
   "outputs": [],
   "source": []
  }
 ],
 "metadata": {
  "kernelspec": {
   "display_name": "Python 3 (ipykernel)",
   "language": "python",
   "name": "python3"
  },
  "language_info": {
   "codemirror_mode": {
    "name": "ipython",
    "version": 3
   },
   "file_extension": ".py",
   "mimetype": "text/x-python",
   "name": "python",
   "nbconvert_exporter": "python",
   "pygments_lexer": "ipython3",
   "version": "3.9.13"
  }
 },
 "nbformat": 4,
 "nbformat_minor": 5
}
