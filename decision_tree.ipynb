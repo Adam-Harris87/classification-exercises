{
 "cells": [
  {
   "cell_type": "code",
   "execution_count": 17,
   "id": "718a6558",
   "metadata": {},
   "outputs": [],
   "source": [
    "import numpy as np\n",
    "import pandas as pd\n",
    "import matplotlib.pyplot as plt\n",
    "import seaborn as sns\n",
    "from sklearn.model_selection import train_test_split\n",
    "from sklearn.tree import DecisionTreeClassifier, plot_tree\n",
    "from sklearn.metrics import classification_report, confusion_matrix, accuracy_score\n",
    "import prepare"
   ]
  },
  {
   "cell_type": "code",
   "execution_count": 9,
   "id": "f23f5369",
   "metadata": {},
   "outputs": [],
   "source": [
    "train, validate, test = prepare.wrangle_data('titanic')"
   ]
  },
  {
   "cell_type": "code",
   "execution_count": 10,
   "id": "39685551",
   "metadata": {},
   "outputs": [
    {
     "data": {
      "text/html": [
       "<div>\n",
       "<style scoped>\n",
       "    .dataframe tbody tr th:only-of-type {\n",
       "        vertical-align: middle;\n",
       "    }\n",
       "\n",
       "    .dataframe tbody tr th {\n",
       "        vertical-align: top;\n",
       "    }\n",
       "\n",
       "    .dataframe thead th {\n",
       "        text-align: right;\n",
       "    }\n",
       "</style>\n",
       "<table border=\"1\" class=\"dataframe\">\n",
       "  <thead>\n",
       "    <tr style=\"text-align: right;\">\n",
       "      <th></th>\n",
       "      <th>survived</th>\n",
       "      <th>pclass</th>\n",
       "      <th>sex</th>\n",
       "      <th>age</th>\n",
       "      <th>sibsp</th>\n",
       "      <th>parch</th>\n",
       "      <th>fare</th>\n",
       "      <th>embark_town</th>\n",
       "      <th>alone</th>\n",
       "      <th>sex_male</th>\n",
       "      <th>embark_town_Queenstown</th>\n",
       "      <th>embark_town_Southampton</th>\n",
       "    </tr>\n",
       "  </thead>\n",
       "  <tbody>\n",
       "    <tr>\n",
       "      <th>428</th>\n",
       "      <td>0</td>\n",
       "      <td>3</td>\n",
       "      <td>male</td>\n",
       "      <td>29.699118</td>\n",
       "      <td>0</td>\n",
       "      <td>0</td>\n",
       "      <td>7.75</td>\n",
       "      <td>Queenstown</td>\n",
       "      <td>1</td>\n",
       "      <td>1</td>\n",
       "      <td>1</td>\n",
       "      <td>0</td>\n",
       "    </tr>\n",
       "    <tr>\n",
       "      <th>480</th>\n",
       "      <td>0</td>\n",
       "      <td>3</td>\n",
       "      <td>male</td>\n",
       "      <td>9.000000</td>\n",
       "      <td>5</td>\n",
       "      <td>2</td>\n",
       "      <td>46.90</td>\n",
       "      <td>Southampton</td>\n",
       "      <td>0</td>\n",
       "      <td>1</td>\n",
       "      <td>0</td>\n",
       "      <td>1</td>\n",
       "    </tr>\n",
       "    <tr>\n",
       "      <th>888</th>\n",
       "      <td>0</td>\n",
       "      <td>3</td>\n",
       "      <td>female</td>\n",
       "      <td>29.699118</td>\n",
       "      <td>1</td>\n",
       "      <td>2</td>\n",
       "      <td>23.45</td>\n",
       "      <td>Southampton</td>\n",
       "      <td>0</td>\n",
       "      <td>0</td>\n",
       "      <td>0</td>\n",
       "      <td>1</td>\n",
       "    </tr>\n",
       "    <tr>\n",
       "      <th>822</th>\n",
       "      <td>0</td>\n",
       "      <td>1</td>\n",
       "      <td>male</td>\n",
       "      <td>38.000000</td>\n",
       "      <td>0</td>\n",
       "      <td>0</td>\n",
       "      <td>0.00</td>\n",
       "      <td>Southampton</td>\n",
       "      <td>1</td>\n",
       "      <td>1</td>\n",
       "      <td>0</td>\n",
       "      <td>1</td>\n",
       "    </tr>\n",
       "    <tr>\n",
       "      <th>612</th>\n",
       "      <td>1</td>\n",
       "      <td>3</td>\n",
       "      <td>female</td>\n",
       "      <td>29.699118</td>\n",
       "      <td>1</td>\n",
       "      <td>0</td>\n",
       "      <td>15.50</td>\n",
       "      <td>Queenstown</td>\n",
       "      <td>0</td>\n",
       "      <td>0</td>\n",
       "      <td>1</td>\n",
       "      <td>0</td>\n",
       "    </tr>\n",
       "  </tbody>\n",
       "</table>\n",
       "</div>"
      ],
      "text/plain": [
       "     survived  pclass     sex        age  sibsp  parch   fare  embark_town  \\\n",
       "428         0       3    male  29.699118      0      0   7.75   Queenstown   \n",
       "480         0       3    male   9.000000      5      2  46.90  Southampton   \n",
       "888         0       3  female  29.699118      1      2  23.45  Southampton   \n",
       "822         0       1    male  38.000000      0      0   0.00  Southampton   \n",
       "612         1       3  female  29.699118      1      0  15.50   Queenstown   \n",
       "\n",
       "     alone  sex_male  embark_town_Queenstown  embark_town_Southampton  \n",
       "428      1         1                       1                        0  \n",
       "480      0         1                       0                        1  \n",
       "888      0         0                       0                        1  \n",
       "822      1         1                       0                        1  \n",
       "612      0         0                       1                        0  "
      ]
     },
     "execution_count": 10,
     "metadata": {},
     "output_type": "execute_result"
    }
   ],
   "source": [
    "train.head()"
   ]
  },
  {
   "cell_type": "code",
   "execution_count": 12,
   "id": "9afcdf49",
   "metadata": {},
   "outputs": [
    {
     "data": {
      "text/plain": [
       "0    307\n",
       "1    191\n",
       "Name: survived, dtype: int64"
      ]
     },
     "execution_count": 12,
     "metadata": {},
     "output_type": "execute_result"
    }
   ],
   "source": [
    "train.survived.value_counts()"
   ]
  },
  {
   "cell_type": "markdown",
   "id": "f505e604",
   "metadata": {},
   "source": [
    "## 1. \n",
    "What is your baseline prediction? What is your baseline accuracy? remember: your baseline prediction for a classification problem is predicting the most prevelant class in the training dataset (the mode). When you make those predictions, what is your accuracy? This is your baseline accuracy."
   ]
  },
  {
   "cell_type": "markdown",
   "id": "3a64e79b",
   "metadata": {},
   "source": [
    "#### What is your baseline prediction?\n",
    "\n",
    "survived = 0"
   ]
  },
  {
   "cell_type": "code",
   "execution_count": 13,
   "id": "9a865f6f",
   "metadata": {},
   "outputs": [],
   "source": [
    "train['baseline'] = 0"
   ]
  },
  {
   "cell_type": "code",
   "execution_count": 22,
   "id": "b90c6fc4",
   "metadata": {},
   "outputs": [
    {
     "name": "stdout",
     "output_type": "stream",
     "text": [
      "baseline prediction accuracy score is: 61.65%\n"
     ]
    }
   ],
   "source": [
    "# What is your baseline accuracy?\n",
    "print(f'baseline prediction accuracy score is: \\\n",
    "{accuracy_score(train.survived, train.baseline):.2%}')"
   ]
  },
  {
   "cell_type": "markdown",
   "id": "dc1e0cce",
   "metadata": {},
   "source": [
    "## 2.\n",
    "Fit the decision tree classifier to your training sample and transform (i.e. make predictions on the training sample)"
   ]
  },
  {
   "cell_type": "code",
   "execution_count": 44,
   "id": "4dcce992",
   "metadata": {},
   "outputs": [],
   "source": [
    "X_cols = train.drop(columns=['sex','embark_town','survived']).columns.to_list()\n",
    "y_cols = 'survived'"
   ]
  },
  {
   "cell_type": "code",
   "execution_count": 46,
   "id": "4d5e8261",
   "metadata": {},
   "outputs": [],
   "source": [
    "X_train = train[X_cols]\n",
    "y_train = train[y_cols]"
   ]
  },
  {
   "cell_type": "code",
   "execution_count": 49,
   "id": "fca47c70",
   "metadata": {},
   "outputs": [],
   "source": [
    "# make the decision tree classifier object\n",
    "clf1 = DecisionTreeClassifier()\n",
    "# fit the DTC object\n",
    "clf1.fit(X_train, y_train)\n",
    "# use the DTC object\n",
    "model_1_preds = clf1.predict(X_train)"
   ]
  },
  {
   "cell_type": "markdown",
   "id": "ae8b06cc",
   "metadata": {},
   "source": [
    "## 3. \n",
    "Evaluate your in-sample results using the model score, confusion matrix, and classification report.\n",
    "\n"
   ]
  },
  {
   "cell_type": "code",
   "execution_count": 55,
   "id": "49b00f1d",
   "metadata": {},
   "outputs": [
    {
     "name": "stdout",
     "output_type": "stream",
     "text": [
      "model 1 accuracy is: 99.20%\n"
     ]
    }
   ],
   "source": [
    "# model 1 score\n",
    "print(f'model 1 accuracy is: {clf1.score(X_train, y_train):.2%}')"
   ]
  },
  {
   "cell_type": "code",
   "execution_count": 57,
   "id": "733e950e",
   "metadata": {},
   "outputs": [
    {
     "name": "stdout",
     "output_type": "stream",
     "text": [
      "confusion matrix for model 1: \n",
      "[[307   0]\n",
      " [  4 187]]\n"
     ]
    }
   ],
   "source": [
    "# confusion matrix for model 1\n",
    "print(f'confusion matrix for model 1: \\n{confusion_matrix(y_train, model_1_preds)}')"
   ]
  },
  {
   "cell_type": "code",
   "execution_count": 63,
   "id": "95bb60b9",
   "metadata": {},
   "outputs": [
    {
     "name": "stdout",
     "output_type": "stream",
     "text": [
      "classification report for model 1:\n",
      "\n",
      "               precision    recall  f1-score   support\n",
      "\n",
      "           0       0.99      1.00      0.99       307\n",
      "           1       1.00      0.98      0.99       191\n",
      "\n",
      "    accuracy                           0.99       498\n",
      "   macro avg       0.99      0.99      0.99       498\n",
      "weighted avg       0.99      0.99      0.99       498\n",
      "\n"
     ]
    }
   ],
   "source": [
    "# classification report for model 1\n",
    "print(f'classification report for model 1:\\n\\n \\\n",
    "{classification_report(y_train, model_1_preds)}')"
   ]
  },
  {
   "cell_type": "markdown",
   "id": "33e0ab98",
   "metadata": {},
   "source": [
    "## 4.\n",
    "Compute: Accuracy, true positive rate, false positive rate, true negative rate, false negative rate, precision, recall, f1-score, and support."
   ]
  },
  {
   "cell_type": "code",
   "execution_count": null,
   "id": "cacebe11",
   "metadata": {},
   "outputs": [],
   "source": []
  }
 ],
 "metadata": {
  "kernelspec": {
   "display_name": "Python 3 (ipykernel)",
   "language": "python",
   "name": "python3"
  },
  "language_info": {
   "codemirror_mode": {
    "name": "ipython",
    "version": 3
   },
   "file_extension": ".py",
   "mimetype": "text/x-python",
   "name": "python",
   "nbconvert_exporter": "python",
   "pygments_lexer": "ipython3",
   "version": "3.9.13"
  }
 },
 "nbformat": 4,
 "nbformat_minor": 5
}
