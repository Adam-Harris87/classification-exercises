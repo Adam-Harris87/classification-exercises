{
 "cells": [
  {
   "cell_type": "code",
   "execution_count": 1,
   "id": "718a6558",
   "metadata": {},
   "outputs": [],
   "source": [
    "import numpy as np\n",
    "import pandas as pd\n",
    "import matplotlib.pyplot as plt\n",
    "import seaborn as sns\n",
    "from sklearn.model_selection import train_test_split\n",
    "from sklearn.tree import DecisionTreeClassifier, plot_tree\n",
    "from sklearn.metrics import classification_report, confusion_matrix, accuracy_score,\\\n",
    "f1_score, precision_recall_fscore_support\n",
    "import prepare"
   ]
  },
  {
   "cell_type": "code",
   "execution_count": 2,
   "id": "f23f5369",
   "metadata": {},
   "outputs": [],
   "source": [
    "train, validate, test = prepare.wrangle_data('titanic')"
   ]
  },
  {
   "cell_type": "code",
   "execution_count": 3,
   "id": "39685551",
   "metadata": {},
   "outputs": [
    {
     "data": {
      "text/html": [
       "<div>\n",
       "<style scoped>\n",
       "    .dataframe tbody tr th:only-of-type {\n",
       "        vertical-align: middle;\n",
       "    }\n",
       "\n",
       "    .dataframe tbody tr th {\n",
       "        vertical-align: top;\n",
       "    }\n",
       "\n",
       "    .dataframe thead th {\n",
       "        text-align: right;\n",
       "    }\n",
       "</style>\n",
       "<table border=\"1\" class=\"dataframe\">\n",
       "  <thead>\n",
       "    <tr style=\"text-align: right;\">\n",
       "      <th></th>\n",
       "      <th>survived</th>\n",
       "      <th>pclass</th>\n",
       "      <th>sex</th>\n",
       "      <th>age</th>\n",
       "      <th>sibsp</th>\n",
       "      <th>parch</th>\n",
       "      <th>fare</th>\n",
       "      <th>embark_town</th>\n",
       "      <th>alone</th>\n",
       "      <th>sex_male</th>\n",
       "      <th>embark_town_Queenstown</th>\n",
       "      <th>embark_town_Southampton</th>\n",
       "    </tr>\n",
       "  </thead>\n",
       "  <tbody>\n",
       "    <tr>\n",
       "      <th>428</th>\n",
       "      <td>0</td>\n",
       "      <td>3</td>\n",
       "      <td>male</td>\n",
       "      <td>29.699118</td>\n",
       "      <td>0</td>\n",
       "      <td>0</td>\n",
       "      <td>7.75</td>\n",
       "      <td>Queenstown</td>\n",
       "      <td>1</td>\n",
       "      <td>1</td>\n",
       "      <td>1</td>\n",
       "      <td>0</td>\n",
       "    </tr>\n",
       "    <tr>\n",
       "      <th>480</th>\n",
       "      <td>0</td>\n",
       "      <td>3</td>\n",
       "      <td>male</td>\n",
       "      <td>9.000000</td>\n",
       "      <td>5</td>\n",
       "      <td>2</td>\n",
       "      <td>46.90</td>\n",
       "      <td>Southampton</td>\n",
       "      <td>0</td>\n",
       "      <td>1</td>\n",
       "      <td>0</td>\n",
       "      <td>1</td>\n",
       "    </tr>\n",
       "    <tr>\n",
       "      <th>888</th>\n",
       "      <td>0</td>\n",
       "      <td>3</td>\n",
       "      <td>female</td>\n",
       "      <td>29.699118</td>\n",
       "      <td>1</td>\n",
       "      <td>2</td>\n",
       "      <td>23.45</td>\n",
       "      <td>Southampton</td>\n",
       "      <td>0</td>\n",
       "      <td>0</td>\n",
       "      <td>0</td>\n",
       "      <td>1</td>\n",
       "    </tr>\n",
       "    <tr>\n",
       "      <th>822</th>\n",
       "      <td>0</td>\n",
       "      <td>1</td>\n",
       "      <td>male</td>\n",
       "      <td>38.000000</td>\n",
       "      <td>0</td>\n",
       "      <td>0</td>\n",
       "      <td>0.00</td>\n",
       "      <td>Southampton</td>\n",
       "      <td>1</td>\n",
       "      <td>1</td>\n",
       "      <td>0</td>\n",
       "      <td>1</td>\n",
       "    </tr>\n",
       "    <tr>\n",
       "      <th>612</th>\n",
       "      <td>1</td>\n",
       "      <td>3</td>\n",
       "      <td>female</td>\n",
       "      <td>29.699118</td>\n",
       "      <td>1</td>\n",
       "      <td>0</td>\n",
       "      <td>15.50</td>\n",
       "      <td>Queenstown</td>\n",
       "      <td>0</td>\n",
       "      <td>0</td>\n",
       "      <td>1</td>\n",
       "      <td>0</td>\n",
       "    </tr>\n",
       "  </tbody>\n",
       "</table>\n",
       "</div>"
      ],
      "text/plain": [
       "     survived  pclass     sex        age  sibsp  parch   fare  embark_town  \\\n",
       "428         0       3    male  29.699118      0      0   7.75   Queenstown   \n",
       "480         0       3    male   9.000000      5      2  46.90  Southampton   \n",
       "888         0       3  female  29.699118      1      2  23.45  Southampton   \n",
       "822         0       1    male  38.000000      0      0   0.00  Southampton   \n",
       "612         1       3  female  29.699118      1      0  15.50   Queenstown   \n",
       "\n",
       "     alone  sex_male  embark_town_Queenstown  embark_town_Southampton  \n",
       "428      1         1                       1                        0  \n",
       "480      0         1                       0                        1  \n",
       "888      0         0                       0                        1  \n",
       "822      1         1                       0                        1  \n",
       "612      0         0                       1                        0  "
      ]
     },
     "execution_count": 3,
     "metadata": {},
     "output_type": "execute_result"
    }
   ],
   "source": [
    "train.head()"
   ]
  },
  {
   "cell_type": "markdown",
   "id": "f505e604",
   "metadata": {},
   "source": [
    "## 1. \n",
    "What is your baseline prediction? What is your baseline accuracy? remember: your baseline prediction for a classification problem is predicting the most prevelant class in the training dataset (the mode). When you make those predictions, what is your accuracy? This is your baseline accuracy."
   ]
  },
  {
   "cell_type": "code",
   "execution_count": 4,
   "id": "9afcdf49",
   "metadata": {},
   "outputs": [
    {
     "data": {
      "text/plain": [
       "0    307\n",
       "1    191\n",
       "Name: survived, dtype: int64"
      ]
     },
     "execution_count": 4,
     "metadata": {},
     "output_type": "execute_result"
    }
   ],
   "source": [
    "train.survived.value_counts()"
   ]
  },
  {
   "cell_type": "markdown",
   "id": "3a64e79b",
   "metadata": {},
   "source": [
    "#### What is your baseline prediction?\n",
    "\n",
    "survived = 0"
   ]
  },
  {
   "cell_type": "code",
   "execution_count": 5,
   "id": "9a865f6f",
   "metadata": {},
   "outputs": [],
   "source": [
    "# train['baseline'] = 0\n",
    "# validate['baseline'] = 0\n",
    "# test['baseline'] = 0"
   ]
  },
  {
   "cell_type": "code",
   "execution_count": 6,
   "id": "b90c6fc4",
   "metadata": {},
   "outputs": [],
   "source": [
    "# # What is your baseline accuracy?\n",
    "# print(f'baseline prediction accuracy score is: \\\n",
    "# {accuracy_score(train.survived, train.baseline):.2%}')"
   ]
  },
  {
   "cell_type": "code",
   "execution_count": 7,
   "id": "25d00b04",
   "metadata": {},
   "outputs": [],
   "source": [
    "# finding baseline accuracy\n",
    "baseline_accuracy = (train.survived == 0).mean()"
   ]
  },
  {
   "cell_type": "code",
   "execution_count": 8,
   "id": "3fb683de",
   "metadata": {},
   "outputs": [
    {
     "name": "stdout",
     "output_type": "stream",
     "text": [
      "baseline prediction accuracy score is: 61.65%\n"
     ]
    }
   ],
   "source": [
    "# What is your baseline accuracy?\n",
    "print(f'baseline prediction accuracy score is: \\\n",
    "{baseline_accuracy:.2%}')"
   ]
  },
  {
   "cell_type": "markdown",
   "id": "dc1e0cce",
   "metadata": {},
   "source": [
    "## 2.\n",
    "Fit the decision tree classifier to your training sample and transform (i.e. make predictions on the training sample)"
   ]
  },
  {
   "cell_type": "code",
   "execution_count": 9,
   "id": "4dcce992",
   "metadata": {},
   "outputs": [],
   "source": [
    "X_cols = train.drop(columns=['sex','embark_town','survived']).columns.to_list()\n",
    "y_cols = 'survived'"
   ]
  },
  {
   "cell_type": "code",
   "execution_count": 10,
   "id": "4d5e8261",
   "metadata": {},
   "outputs": [],
   "source": [
    "X_train = train[X_cols]\n",
    "y_train = train[y_cols]"
   ]
  },
  {
   "cell_type": "code",
   "execution_count": 11,
   "id": "fca47c70",
   "metadata": {},
   "outputs": [],
   "source": [
    "# make the decision tree classifier object\n",
    "clf1 = DecisionTreeClassifier()\n",
    "# fit the DTC object\n",
    "clf1.fit(X_train, y_train)\n",
    "# use the DTC object\n",
    "model_1_preds = clf1.predict(X_train)"
   ]
  },
  {
   "cell_type": "markdown",
   "id": "ae8b06cc",
   "metadata": {},
   "source": [
    "## 3. \n",
    "Evaluate your in-sample results using the model score, confusion matrix, and classification report.\n",
    "\n"
   ]
  },
  {
   "cell_type": "code",
   "execution_count": 12,
   "id": "49b00f1d",
   "metadata": {},
   "outputs": [
    {
     "name": "stdout",
     "output_type": "stream",
     "text": [
      "model 1 accuracy is: 99.20%\n"
     ]
    }
   ],
   "source": [
    "# model 1 score\n",
    "print(f'model 1 accuracy is: {clf1.score(X_train, y_train):.2%}')"
   ]
  },
  {
   "cell_type": "code",
   "execution_count": 13,
   "id": "733e950e",
   "metadata": {},
   "outputs": [
    {
     "name": "stdout",
     "output_type": "stream",
     "text": [
      "confusion matrix for model 1: \n",
      "[[307   0]\n",
      " [  4 187]]\n"
     ]
    }
   ],
   "source": [
    "# confusion matrix for model 1\n",
    "print(f'confusion matrix for model 1: \\n{confusion_matrix(y_train, model_1_preds)}')"
   ]
  },
  {
   "cell_type": "code",
   "execution_count": 45,
   "id": "c4b6e89b",
   "metadata": {},
   "outputs": [],
   "source": [
    "rubric = pd.DataFrame(\n",
    "    {'pred_0': ['True Neg', 'False Neg'],\n",
    "     'pred_1': ['False Pos', 'True Pos']\n",
    "    }, index=['actual_0', 'actual_1'])"
   ]
  },
  {
   "cell_type": "code",
   "execution_count": 46,
   "id": "5d22fd6c",
   "metadata": {},
   "outputs": [],
   "source": [
    "conf = confusion_matrix(y_train, model_1_preds)"
   ]
  },
  {
   "cell_type": "code",
   "execution_count": 47,
   "id": "fb01d49d",
   "metadata": {},
   "outputs": [
    {
     "data": {
      "text/html": [
       "<div>\n",
       "<style scoped>\n",
       "    .dataframe tbody tr th:only-of-type {\n",
       "        vertical-align: middle;\n",
       "    }\n",
       "\n",
       "    .dataframe tbody tr th {\n",
       "        vertical-align: top;\n",
       "    }\n",
       "\n",
       "    .dataframe thead th {\n",
       "        text-align: right;\n",
       "    }\n",
       "</style>\n",
       "<table border=\"1\" class=\"dataframe\">\n",
       "  <thead>\n",
       "    <tr style=\"text-align: right;\">\n",
       "      <th></th>\n",
       "      <th>pred_0</th>\n",
       "      <th>pred_1</th>\n",
       "    </tr>\n",
       "  </thead>\n",
       "  <tbody>\n",
       "    <tr>\n",
       "      <th>actual_0</th>\n",
       "      <td>True Neg: 307</td>\n",
       "      <td>False Pos: 0</td>\n",
       "    </tr>\n",
       "    <tr>\n",
       "      <th>actual_1</th>\n",
       "      <td>False Neg: 4</td>\n",
       "      <td>True Pos: 187</td>\n",
       "    </tr>\n",
       "  </tbody>\n",
       "</table>\n",
       "</div>"
      ],
      "text/plain": [
       "                 pred_0         pred_1\n",
       "actual_0  True Neg: 307   False Pos: 0\n",
       "actual_1   False Neg: 4  True Pos: 187"
      ]
     },
     "execution_count": 47,
     "metadata": {},
     "output_type": "execute_result"
    }
   ],
   "source": [
    "rubric + ': ' + conf.astype(str)"
   ]
  },
  {
   "cell_type": "code",
   "execution_count": 14,
   "id": "95bb60b9",
   "metadata": {},
   "outputs": [
    {
     "name": "stdout",
     "output_type": "stream",
     "text": [
      "classification report for model 1:\n",
      "\n",
      "               precision    recall  f1-score   support\n",
      "\n",
      "           0       0.99      1.00      0.99       307\n",
      "           1       1.00      0.98      0.99       191\n",
      "\n",
      "    accuracy                           0.99       498\n",
      "   macro avg       0.99      0.99      0.99       498\n",
      "weighted avg       0.99      0.99      0.99       498\n",
      "\n"
     ]
    }
   ],
   "source": [
    "# classification report for model 1\n",
    "print(f'classification report for model 1:\\n\\n \\\n",
    "{classification_report(y_train, model_1_preds)}')"
   ]
  },
  {
   "cell_type": "markdown",
   "id": "33e0ab98",
   "metadata": {},
   "source": [
    "## 4.\n",
    "Compute: Accuracy, true positive rate, false positive rate, true negative rate, false negative rate, precision, recall, f1-score, and support."
   ]
  },
  {
   "cell_type": "code",
   "execution_count": 15,
   "id": "cacebe11",
   "metadata": {},
   "outputs": [],
   "source": [
    "# Accuracy\n",
    "accuracy_model_1 = accuracy_score(y_train, model_1_preds)\n",
    "\n",
    "# true positive rate\n",
    "tp_model_1 = ((y_train == 1) & (model_1_preds == 1)).sum()\n",
    "\n",
    "# false positive rate\n",
    "fp_model_1 = ((y_train == 0) & (model_1_preds == 1)).sum()\n",
    "\n",
    "# true negative rate\n",
    "tn_model_1 = ((y_train == 0) & (model_1_preds == 0)).sum()\n",
    "\n",
    "# false negative rate\n",
    "fn_model_1 = ((y_train == 1) & (model_1_preds == 0)).sum()\n",
    "\n",
    "# f1-score\n",
    "f1_model_1 = f1_score(y_train, model_1_preds)\n",
    "\n",
    "# precision, recall, and support.\n",
    "precision_model_1, recall_model_1, _, support_model_1 = precision_recall_fscore_support(\n",
    "    y_train, model_1_preds)"
   ]
  },
  {
   "cell_type": "code",
   "execution_count": 16,
   "id": "b014b9e8",
   "metadata": {},
   "outputs": [
    {
     "name": "stdout",
     "output_type": "stream",
     "text": [
      "accuracy for model 1: \t0.9919678714859438\n",
      "true positives for model 1: \t187\n",
      "false positives for model 1: \t0\n",
      "true negatives for model 1: \t307\n",
      "false negatives for model 1: \t4\n",
      "f1_score for model 1: \t0.9894179894179894\n",
      "precision for model 1: \t[0.98713826 1.        ]\n",
      "recall for model 1: \t[1.         0.97905759]\n",
      "support for model 1: \t[307 191]\n"
     ]
    }
   ],
   "source": [
    "print(f'accuracy for model 1: \\t{accuracy_model_1}')\n",
    "print(f'true positives for model 1: \\t{tp_model_1}')\n",
    "print(f'false positives for model 1: \\t{fp_model_1}')\n",
    "print(f'true negatives for model 1: \\t{tn_model_1}')\n",
    "print(f'false negatives for model 1: \\t{fn_model_1}')\n",
    "print(f'f1_score for model 1: \\t{f1_model_1}')\n",
    "print(f'precision for model 1: \\t{precision_model_1}')\n",
    "print(f'recall for model 1: \\t{recall_model_1}')\n",
    "print(f'support for model 1: \\t{support_model_1}')"
   ]
  },
  {
   "cell_type": "markdown",
   "id": "fd14955d",
   "metadata": {},
   "source": [
    "### what was actually being asked for here:\n",
    "\n",
    "Accuracy: (TP + TN) / (TP + TN + FP + FN)\n",
    "\n",
    "TPR: TP / (TP + FN)\n",
    "\n",
    "FPR: FP / (FP + TN)\n",
    "\n",
    "TNR: TN / (FP + TN)\n",
    "\n",
    "FNR: FN / (FN + TP)\n",
    "\n",
    "Precision: TP / (TP + FP)\n",
    "\n",
    "Recall: TP / (TP + FN)\n",
    "\n",
    "F1: 2 * (precision * recall) / (precision + recall)\n",
    "\n",
    "support: sum of true positives, sum of true negatives"
   ]
  },
  {
   "cell_type": "code",
   "execution_count": 48,
   "id": "872e3010",
   "metadata": {},
   "outputs": [
    {
     "data": {
      "text/plain": [
       "array([307,   0,   4, 187])"
      ]
     },
     "execution_count": 48,
     "metadata": {},
     "output_type": "execute_result"
    }
   ],
   "source": [
    "conf.ravel()"
   ]
  },
  {
   "cell_type": "code",
   "execution_count": 49,
   "id": "d8ba5a8a",
   "metadata": {},
   "outputs": [],
   "source": [
    "TN, FP, FN, TP = conf.ravel()"
   ]
  },
  {
   "cell_type": "code",
   "execution_count": 51,
   "id": "4aee59cb",
   "metadata": {},
   "outputs": [],
   "source": [
    "Accuracy= (TP + TN) / (TP + TN + FP + FN)\n",
    "\n",
    "TPR = recall = TP / (TP + FN)\n",
    "\n",
    "FPR= FP / (FP + TN)\n",
    "\n",
    "TNR= TN / (FP + TN)\n",
    "\n",
    "FNR= FN / (FN + TP)\n",
    "    \n",
    "precision= TP / (TP + FP)\n",
    "    \n",
    "F1= 2 * (precision * recall) / (precision + recall)"
   ]
  },
  {
   "cell_type": "code",
   "execution_count": 52,
   "id": "76a78694",
   "metadata": {},
   "outputs": [
    {
     "data": {
      "text/plain": [
       "0.9790575916230366"
      ]
     },
     "execution_count": 52,
     "metadata": {},
     "output_type": "execute_result"
    }
   ],
   "source": [
    "TPR"
   ]
  },
  {
   "cell_type": "code",
   "execution_count": 53,
   "id": "13897715",
   "metadata": {},
   "outputs": [
    {
     "name": "stdout",
     "output_type": "stream",
     "text": [
      "accuracy for model 1: \t0.9919678714859438\n",
      "true positives for model 1: \t0.9790575916230366\n",
      "false positives for model 1: \t0.0\n",
      "true negatives for model 1: \t1.0\n",
      "false negatives for model 1: \t0.020942408376963352\n",
      "f1_score for model 1: \t0.9894179894179894\n",
      "precision for model 1: \t[0.98713826 1.        ]\n",
      "recall for model 1: \t[1.         0.97905759]\n",
      "support for model 1: \t[307 191]\n"
     ]
    }
   ],
   "source": [
    "print(f'accuracy for model 1: \\t{accuracy_model_1}')\n",
    "print(f'true positives for model 1: \\t{TPR}')\n",
    "print(f'false positives for model 1: \\t{FPR}')\n",
    "print(f'true negatives for model 1: \\t{TNR}')\n",
    "print(f'false negatives for model 1: \\t{FNR}')\n",
    "print(f'f1_score for model 1: \\t{f1_model_1}')\n",
    "print(f'precision for model 1: \\t{precision_model_1}')\n",
    "print(f'recall for model 1: \\t{recall_model_1}')\n",
    "print(f'support for model 1: \\t{support_model_1}')"
   ]
  },
  {
   "cell_type": "markdown",
   "id": "4787a9ef",
   "metadata": {},
   "source": [
    "## 5.\n",
    "Run through steps 2-4 using a different max_depth value."
   ]
  },
  {
   "cell_type": "code",
   "execution_count": 17,
   "id": "6be515db",
   "metadata": {},
   "outputs": [],
   "source": [
    "# make the decision tree classifier object\n",
    "clf2 = DecisionTreeClassifier(max_depth=4)\n",
    "# fit the DTC object\n",
    "clf2.fit(X_train, y_train)\n",
    "# use the DTC object\n",
    "model_2_preds = clf2.predict(X_train)"
   ]
  },
  {
   "cell_type": "code",
   "execution_count": 18,
   "id": "39ed3dc0",
   "metadata": {},
   "outputs": [
    {
     "name": "stdout",
     "output_type": "stream",
     "text": [
      "model 2 accuracy is: 84.74%\n",
      "\n",
      "confusion matrix for model 2: \n",
      "[[290  17]\n",
      " [ 59 132]]\n",
      "\n",
      "classification report for model 2:\n",
      "\n",
      "               precision    recall  f1-score   support\n",
      "\n",
      "           0       0.83      0.94      0.88       307\n",
      "           1       0.89      0.69      0.78       191\n",
      "\n",
      "    accuracy                           0.85       498\n",
      "   macro avg       0.86      0.82      0.83       498\n",
      "weighted avg       0.85      0.85      0.84       498\n",
      "\n"
     ]
    }
   ],
   "source": [
    "# model 2 score\n",
    "print(f'model 2 accuracy is: {clf2.score(X_train, y_train):.2%}\\n')\n",
    "\n",
    "# confusion matrix for model 2\n",
    "print(f'confusion matrix for model 2: \\n{confusion_matrix(y_train, model_2_preds)}\\n')\n",
    "\n",
    "# classification report for model 2\n",
    "print(f'classification report for model 2:\\n\\n \\\n",
    "{classification_report(y_train, model_2_preds)}')"
   ]
  },
  {
   "cell_type": "code",
   "execution_count": 19,
   "id": "838e63a0",
   "metadata": {},
   "outputs": [],
   "source": [
    "# Accuracy\n",
    "accuracy_model_2 = accuracy_score(y_train, model_2_preds)\n",
    "\n",
    "# true positive rate\n",
    "tp_model_2 = ((y_train == 1) & (model_2_preds == 1)).sum()\n",
    "\n",
    "# false positive rate\n",
    "fp_model_2 = ((y_train == 0) & (model_2_preds == 1)).sum()\n",
    "\n",
    "# true negative rate\n",
    "tn_model_2 = ((y_train == 0) & (model_2_preds == 0)).sum()\n",
    "\n",
    "# false negative rate\n",
    "fn_model_2 = ((y_train == 1) & (model_2_preds == 0)).sum()\n",
    "\n",
    "# f1-score\n",
    "f1_model_2 = f1_score(y_train, model_2_preds)\n",
    "\n",
    "# precision, recall, and support.\n",
    "precision_model_2, recall_model_2, _, support_model_2 = precision_recall_fscore_support(\n",
    "    y_train, model_2_preds)"
   ]
  },
  {
   "cell_type": "code",
   "execution_count": 20,
   "id": "b84115c6",
   "metadata": {},
   "outputs": [
    {
     "name": "stdout",
     "output_type": "stream",
     "text": [
      "accuracy for model 2: \t0.8473895582329317\n",
      "true positives for model 2: \t132\n",
      "false positives for model 2: \t17\n",
      "true negatives for model 2: \t290\n",
      "false negatives for model 2: \t59\n",
      "f1_score for model 2: \t0.7764705882352941\n",
      "precision for model 2: \t[0.83094556 0.88590604]\n",
      "recall for model 2: \t[0.94462541 0.69109948]\n",
      "support for model 2: \t[307 191]\n"
     ]
    }
   ],
   "source": [
    "print(f'accuracy for model 2: \\t{accuracy_model_2}')\n",
    "print(f'true positives for model 2: \\t{tp_model_2}')\n",
    "print(f'false positives for model 2: \\t{fp_model_2}')\n",
    "print(f'true negatives for model 2: \\t{tn_model_2}')\n",
    "print(f'false negatives for model 2: \\t{fn_model_2}')\n",
    "print(f'f1_score for model 2: \\t{f1_model_2}')\n",
    "print(f'precision for model 2: \\t{precision_model_2}')\n",
    "print(f'recall for model 2: \\t{recall_model_2}')\n",
    "print(f'support for model 2: \\t{support_model_2}')"
   ]
  },
  {
   "cell_type": "code",
   "execution_count": 21,
   "id": "ef3084ea",
   "metadata": {},
   "outputs": [],
   "source": [
    "# make the decision tree classifier object\n",
    "clf3 = DecisionTreeClassifier(max_depth=5)\n",
    "# fit the DTC object\n",
    "clf3.fit(X_train, y_train)\n",
    "# use the DTC object\n",
    "model_3_preds = clf3.predict(X_train)"
   ]
  },
  {
   "cell_type": "code",
   "execution_count": 22,
   "id": "351e8008",
   "metadata": {},
   "outputs": [
    {
     "name": "stdout",
     "output_type": "stream",
     "text": [
      "model 3 accuracy is: 85.34%\n",
      "\n",
      "confusion matrix for model 3: \n",
      "[[292  15]\n",
      " [ 58 133]]\n",
      "\n",
      "classification report for model 3:\n",
      "\n",
      "               precision    recall  f1-score   support\n",
      "\n",
      "           0       0.83      0.95      0.89       307\n",
      "           1       0.90      0.70      0.78       191\n",
      "\n",
      "    accuracy                           0.85       498\n",
      "   macro avg       0.87      0.82      0.84       498\n",
      "weighted avg       0.86      0.85      0.85       498\n",
      "\n"
     ]
    }
   ],
   "source": [
    "# model 3 score\n",
    "print(f'model 3 accuracy is: {clf3.score(X_train, y_train):.2%}\\n')\n",
    "\n",
    "# confusion matrix for model 3\n",
    "print(f'confusion matrix for model 3: \\n{confusion_matrix(y_train, model_3_preds)}\\n')\n",
    "\n",
    "# classification report for model 3\n",
    "print(f'classification report for model 3:\\n\\n \\\n",
    "{classification_report(y_train, model_3_preds)}')"
   ]
  },
  {
   "cell_type": "code",
   "execution_count": 23,
   "id": "38f179a6",
   "metadata": {},
   "outputs": [],
   "source": [
    "# Accuracy\n",
    "accuracy_model_3 = accuracy_score(y_train, model_3_preds)\n",
    "\n",
    "# true positive rate\n",
    "tp_model_3 = ((y_train == 1) & (model_3_preds == 1)).sum()\n",
    "\n",
    "# false positive rate\n",
    "fp_model_3 = ((y_train == 0) & (model_3_preds == 1)).sum()\n",
    "\n",
    "# true negative rate\n",
    "tn_model_3 = ((y_train == 0) & (model_3_preds == 0)).sum()\n",
    "\n",
    "# false negative rate\n",
    "fn_model_3 = ((y_train == 1) & (model_3_preds == 0)).sum()\n",
    "\n",
    "# f1-score\n",
    "f1_model_3 = f1_score(y_train, model_3_preds)\n",
    "\n",
    "# precision, recall, and support.\n",
    "precision_model_3, recall_model_3, _, support_model_3 = precision_recall_fscore_support(\n",
    "    y_train, model_3_preds)"
   ]
  },
  {
   "cell_type": "code",
   "execution_count": 24,
   "id": "fcbd3119",
   "metadata": {},
   "outputs": [
    {
     "name": "stdout",
     "output_type": "stream",
     "text": [
      "accuracy for model 3: \t0.8534136546184738\n",
      "true positives for model 3: \t133\n",
      "false positives for model 3: \t15\n",
      "true negatives for model 3: \t292\n",
      "false negatives for model 3: \t58\n",
      "f1_score for model 3: \t0.784660766961652\n",
      "precision for model 3: \t[0.83428571 0.89864865]\n",
      "recall for model 3: \t[0.95114007 0.69633508]\n",
      "support for model 3: \t[307 191]\n"
     ]
    }
   ],
   "source": [
    "print(f'accuracy for model 3: \\t{accuracy_model_3}')\n",
    "print(f'true positives for model 3: \\t{tp_model_3}')\n",
    "print(f'false positives for model 3: \\t{fp_model_3}')\n",
    "print(f'true negatives for model 3: \\t{tn_model_3}')\n",
    "print(f'false negatives for model 3: \\t{fn_model_3}')\n",
    "print(f'f1_score for model 3: \\t{f1_model_3}')\n",
    "print(f'precision for model 3: \\t{precision_model_3}')\n",
    "print(f'recall for model 3: \\t{recall_model_3}')\n",
    "print(f'support for model 3: \\t{support_model_3}')"
   ]
  },
  {
   "cell_type": "markdown",
   "id": "b88d59cf",
   "metadata": {},
   "source": [
    "# bonus\n",
    "lets make a bunch of models all at once and then display the scores all at once to find the best ALL AT ONCE."
   ]
  },
  {
   "cell_type": "code",
   "execution_count": 57,
   "id": "0736e414",
   "metadata": {},
   "outputs": [],
   "source": [
    "model_dict = {}\n",
    "for i in range(2,15):\n",
    "    clf = DecisionTreeClassifier(max_depth=i)\n",
    "    clf.fit(X_train, y_train)\n",
    "    model_dict[f'dt_depth_{i}'] = {}\n",
    "    model_dict[f'dt_depth_{i}']['model'] = clf\n",
    "    model_dict[f'dt_depth_{i}']['train_score'] = clf.score(X_train, y_train)\n",
    "    model_dict[f'dt_depth_{i}']['val_score'] = clf.score(X_val, y_val)\n",
    "    model_dict[f'dt_depth_{i}']['val_diff'] = \\\n",
    "    clf.score(X_train, y_train) - clf.score(X_val, y_val)"
   ]
  },
  {
   "cell_type": "code",
   "execution_count": 58,
   "id": "ed8cd06c",
   "metadata": {},
   "outputs": [
    {
     "data": {
      "text/plain": [
       "dict_keys(['dt_depth_2', 'dt_depth_3', 'dt_depth_4', 'dt_depth_5', 'dt_depth_6', 'dt_depth_7', 'dt_depth_8', 'dt_depth_9', 'dt_depth_10', 'dt_depth_11', 'dt_depth_12', 'dt_depth_13', 'dt_depth_14'])"
      ]
     },
     "execution_count": 58,
     "metadata": {},
     "output_type": "execute_result"
    }
   ],
   "source": [
    "model_dict.keys()"
   ]
  },
  {
   "cell_type": "code",
   "execution_count": 59,
   "id": "dba3c3c8",
   "metadata": {},
   "outputs": [
    {
     "data": {
      "text/plain": [
       "{'model': DecisionTreeClassifier(max_depth=2),\n",
       " 'train_score': 0.7951807228915663,\n",
       " 'val_score': 0.7710280373831776,\n",
       " 'val_diff': 0.02415268550838867}"
      ]
     },
     "execution_count": 59,
     "metadata": {},
     "output_type": "execute_result"
    }
   ],
   "source": [
    "model_dict['dt_depth_2']"
   ]
  },
  {
   "cell_type": "code",
   "execution_count": 63,
   "id": "267f06b1",
   "metadata": {},
   "outputs": [
    {
     "name": "stdout",
     "output_type": "stream",
     "text": [
      "dt_depth_2\n",
      "0.7951807228915663\n",
      "0.02415268550838867\n",
      "dt_depth_3\n",
      "0.8373493975903614\n",
      "0.04295687422587546\n",
      "dt_depth_4\n",
      "0.8473895582329317\n",
      "0.03430544608339903\n",
      "dt_depth_5\n",
      "0.8534136546184738\n",
      "0.04032954246894116\n",
      "dt_depth_6\n",
      "0.8775100401606426\n",
      "0.059753030814848174\n",
      "dt_depth_7\n",
      "0.891566265060241\n",
      "0.06913635851818489\n",
      "dt_depth_8\n",
      "0.9096385542168675\n",
      "0.1012273392635964\n",
      "dt_depth_9\n",
      "0.929718875502008\n",
      "0.12598055774499872\n",
      "dt_depth_10\n",
      "0.9417670682730924\n",
      "0.1380287505160831\n",
      "dt_depth_11\n",
      "0.9558232931726908\n",
      "0.17077656420072818\n",
      "dt_depth_12\n",
      "0.9698795180722891\n",
      "0.20819727508163488\n",
      "dt_depth_13\n",
      "0.9799196787148594\n",
      "0.2088916413316818\n",
      "dt_depth_14\n",
      "0.9879518072289156\n",
      "0.1842134894719063\n"
     ]
    }
   ],
   "source": [
    "for model in model_dict:\n",
    "    print(model)\n",
    "    print(model_dict[model]['train_score'])\n",
    "    print(model_dict[model]['val_diff'])"
   ]
  },
  {
   "cell_type": "markdown",
   "id": "e5e92565",
   "metadata": {},
   "source": [
    "## 6.\n",
    "Which model performs better on your in-sample data?"
   ]
  },
  {
   "cell_type": "markdown",
   "id": "ad00d69d",
   "metadata": {},
   "source": [
    "The first model appears to perform better on the training data, with a 99.2% accuracy. But I think that this will have been overfit, and will not generalize well.\n",
    "\n",
    "The second best model appears to be model 3 with max_depth=5"
   ]
  },
  {
   "cell_type": "markdown",
   "id": "a3e016ab",
   "metadata": {},
   "source": [
    "## 7.\n",
    "Which model performs best on your out-of-sample data, the validate set?"
   ]
  },
  {
   "cell_type": "code",
   "execution_count": 25,
   "id": "13b7e0c8",
   "metadata": {},
   "outputs": [],
   "source": [
    "X_val = validate[X_cols]\n",
    "y_val = validate[y_cols]"
   ]
  },
  {
   "cell_type": "code",
   "execution_count": 26,
   "id": "3131c188",
   "metadata": {},
   "outputs": [],
   "source": [
    "val_1_preds = clf1.predict(X_val)\n",
    "val_2_preds = clf2.predict(X_val)\n",
    "val_3_preds = clf3.predict(X_val)"
   ]
  },
  {
   "cell_type": "code",
   "execution_count": 27,
   "id": "ef4d295b",
   "metadata": {},
   "outputs": [
    {
     "name": "stdout",
     "output_type": "stream",
     "text": [
      "model 1 accuracy to the validation data is: 74.30%\n",
      "\n",
      "confusion matrix for model 1 to the validation data: \n",
      "[[96 36]\n",
      " [19 63]]\n",
      "\n",
      "classification report for model 1 to the validation data:\n",
      "\n",
      "               precision    recall  f1-score   support\n",
      "\n",
      "           0       0.83      0.73      0.78       132\n",
      "           1       0.64      0.77      0.70        82\n",
      "\n",
      "    accuracy                           0.74       214\n",
      "   macro avg       0.74      0.75      0.74       214\n",
      "weighted avg       0.76      0.74      0.75       214\n",
      "\n"
     ]
    }
   ],
   "source": [
    "# model 1 score to validation\n",
    "print(f'model 1 accuracy to the validation data is: {clf1.score(X_val, y_val):.2%}\\n')\n",
    "\n",
    "# confusion matrix for model 1\n",
    "print(f'confusion matrix for model 1 to the validation data: \\\n",
    "\\n{confusion_matrix(y_val, val_1_preds)}\\n')\n",
    "\n",
    "# classification report for model 1\n",
    "print(f'classification report for model 1 to the validation data:\\n\\n \\\n",
    "{classification_report(y_val, val_1_preds)}')"
   ]
  },
  {
   "cell_type": "code",
   "execution_count": 28,
   "id": "1a71cf80",
   "metadata": {},
   "outputs": [
    {
     "name": "stdout",
     "output_type": "stream",
     "text": [
      "model 2 accuracy to the validation data is: 81.31%\n",
      "\n",
      "confusion matrix for model 2 to the validation data: \n",
      "[[119  13]\n",
      " [ 27  55]]\n",
      "\n",
      "classification report for model 2 to the validation data:\n",
      "\n",
      "               precision    recall  f1-score   support\n",
      "\n",
      "           0       0.82      0.90      0.86       132\n",
      "           1       0.81      0.67      0.73        82\n",
      "\n",
      "    accuracy                           0.81       214\n",
      "   macro avg       0.81      0.79      0.79       214\n",
      "weighted avg       0.81      0.81      0.81       214\n",
      "\n"
     ]
    }
   ],
   "source": [
    "# model 2 score to validation\n",
    "print(f'model 2 accuracy to the validation data is: {clf2.score(X_val, y_val):.2%}\\n')\n",
    "\n",
    "# confusion matrix for model 2\n",
    "print(f'confusion matrix for model 2 to the validation data: \\\n",
    "\\n{confusion_matrix(y_val, val_2_preds)}\\n')\n",
    "\n",
    "# classification report for model 2\n",
    "print(f'classification report for model 2 to the validation data:\\n\\n \\\n",
    "{classification_report(y_val, val_2_preds)}')"
   ]
  },
  {
   "cell_type": "code",
   "execution_count": 29,
   "id": "c5d7b613",
   "metadata": {},
   "outputs": [
    {
     "name": "stdout",
     "output_type": "stream",
     "text": [
      "model 3 accuracy to the validation data is: 81.31%\n",
      "\n",
      "confusion matrix for model 3 to the validation data: \n",
      "[[119  13]\n",
      " [ 27  55]]\n",
      "\n",
      "classification report for model 3 to the validation data:\n",
      "\n",
      "               precision    recall  f1-score   support\n",
      "\n",
      "           0       0.82      0.90      0.86       132\n",
      "           1       0.81      0.67      0.73        82\n",
      "\n",
      "    accuracy                           0.81       214\n",
      "   macro avg       0.81      0.79      0.79       214\n",
      "weighted avg       0.81      0.81      0.81       214\n",
      "\n"
     ]
    }
   ],
   "source": [
    "# model 3 score to validation\n",
    "print(f'model 3 accuracy to the validation data is: {clf3.score(X_val, y_val):.2%}\\n')\n",
    "\n",
    "# confusion matrix for model 3\n",
    "print(f'confusion matrix for model 3 to the validation data: \\\n",
    "\\n{confusion_matrix(y_val, val_3_preds)}\\n')\n",
    "\n",
    "# classification report for model 3\n",
    "print(f'classification report for model 3 to the validation data:\\n\\n \\\n",
    "{classification_report(y_val, val_3_preds)}')"
   ]
  },
  {
   "cell_type": "markdown",
   "id": "3aace963",
   "metadata": {},
   "source": [
    "Models 2 (max_depth=4) and Model 3 (max_depth=5) appear to have performed the same on the validation data. Model 1 had the largest drop in performance, most likely due to overfitting."
   ]
  },
  {
   "cell_type": "markdown",
   "id": "472c14af",
   "metadata": {},
   "source": [
    "Let's try out the test data on Model 2 since it had the lowest change in validation accuracy to the train data accuracy"
   ]
  },
  {
   "cell_type": "code",
   "execution_count": 30,
   "id": "8290c507",
   "metadata": {},
   "outputs": [],
   "source": [
    "X_test = test[X_cols]\n",
    "y_test = test[y_cols]"
   ]
  },
  {
   "cell_type": "code",
   "execution_count": 31,
   "id": "90188952",
   "metadata": {},
   "outputs": [],
   "source": [
    "test_2_preds = clf2.predict(X_test)"
   ]
  },
  {
   "cell_type": "code",
   "execution_count": 44,
   "id": "b0302dc0",
   "metadata": {},
   "outputs": [
    {
     "name": "stdout",
     "output_type": "stream",
     "text": [
      "model 2 accuracy to the test data is: 83.80%\n",
      "\n",
      "confusion matrix for model 2 to the test data: \n",
      "[[99 11]\n",
      " [18 51]]\n",
      "\n",
      "classification report for model 2 to the test data:\n",
      "\n",
      "               precision    recall  f1-score   support\n",
      "\n",
      "           0       0.85      0.90      0.87       110\n",
      "           1       0.82      0.74      0.78        69\n",
      "\n",
      "    accuracy                           0.84       179\n",
      "   macro avg       0.83      0.82      0.83       179\n",
      "weighted avg       0.84      0.84      0.84       179\n",
      "\n"
     ]
    }
   ],
   "source": [
    "# model 2 score to test\n",
    "print(f'model 2 accuracy to the test data is: {clf2.score(X_test, y_test):.2%}\\n')\n",
    "\n",
    "# confusion matrix for model 2\n",
    "print(f'confusion matrix for model 2 to the test data: \\\n",
    "\\n{confusion_matrix(y_test, test_2_preds)}\\n')\n",
    "\n",
    "# classification report for model 2\n",
    "print(f'classification report for model 2 to the test data:\\n\\n \\\n",
    "{classification_report(y_test, test_2_preds)}')"
   ]
  },
  {
   "cell_type": "markdown",
   "id": "d04ef43a",
   "metadata": {},
   "source": [
    "Model 2 performed about the same on the test data as it did the training and validation data. Yay"
   ]
  },
  {
   "cell_type": "markdown",
   "id": "6b1080a4",
   "metadata": {},
   "source": [
    "# Telco data"
   ]
  },
  {
   "cell_type": "markdown",
   "id": "bce8fb76",
   "metadata": {},
   "source": [
    "## 1. \n",
    "Work through these same exercises using the Telco dataset."
   ]
  },
  {
   "cell_type": "code",
   "execution_count": 32,
   "id": "49c9177c",
   "metadata": {},
   "outputs": [],
   "source": [
    "train_telco, validate_telco, test_telco = prepare.wrangle_data('telco')"
   ]
  },
  {
   "cell_type": "code",
   "execution_count": 33,
   "id": "8a831375",
   "metadata": {},
   "outputs": [
    {
     "data": {
      "text/html": [
       "<div>\n",
       "<style scoped>\n",
       "    .dataframe tbody tr th:only-of-type {\n",
       "        vertical-align: middle;\n",
       "    }\n",
       "\n",
       "    .dataframe tbody tr th {\n",
       "        vertical-align: top;\n",
       "    }\n",
       "\n",
       "    .dataframe thead th {\n",
       "        text-align: right;\n",
       "    }\n",
       "</style>\n",
       "<table border=\"1\" class=\"dataframe\">\n",
       "  <thead>\n",
       "    <tr style=\"text-align: right;\">\n",
       "      <th></th>\n",
       "      <th>gender</th>\n",
       "      <th>senior_citizen</th>\n",
       "      <th>partner</th>\n",
       "      <th>dependents</th>\n",
       "      <th>tenure</th>\n",
       "      <th>phone_service</th>\n",
       "      <th>multiple_lines</th>\n",
       "      <th>online_security</th>\n",
       "      <th>online_backup</th>\n",
       "      <th>device_protection</th>\n",
       "      <th>...</th>\n",
       "      <th>streaming_tv_yes</th>\n",
       "      <th>streaming_movies_no_internet_service</th>\n",
       "      <th>streaming_movies_yes</th>\n",
       "      <th>contract_type_one_year</th>\n",
       "      <th>contract_type_two_year</th>\n",
       "      <th>internet_service_type_fiber_optic</th>\n",
       "      <th>internet_service_type_none</th>\n",
       "      <th>payment_type_credit_card_automatic</th>\n",
       "      <th>payment_type_electronic_check</th>\n",
       "      <th>payment_type_mailed_check</th>\n",
       "    </tr>\n",
       "  </thead>\n",
       "  <tbody>\n",
       "    <tr>\n",
       "      <th>1843</th>\n",
       "      <td>Male</td>\n",
       "      <td>0</td>\n",
       "      <td>0</td>\n",
       "      <td>0</td>\n",
       "      <td>1</td>\n",
       "      <td>1</td>\n",
       "      <td>No</td>\n",
       "      <td>No internet service</td>\n",
       "      <td>No internet service</td>\n",
       "      <td>No internet service</td>\n",
       "      <td>...</td>\n",
       "      <td>0</td>\n",
       "      <td>1</td>\n",
       "      <td>0</td>\n",
       "      <td>0</td>\n",
       "      <td>0</td>\n",
       "      <td>0</td>\n",
       "      <td>1</td>\n",
       "      <td>0</td>\n",
       "      <td>0</td>\n",
       "      <td>1</td>\n",
       "    </tr>\n",
       "    <tr>\n",
       "      <th>5717</th>\n",
       "      <td>Female</td>\n",
       "      <td>0</td>\n",
       "      <td>1</td>\n",
       "      <td>1</td>\n",
       "      <td>62</td>\n",
       "      <td>1</td>\n",
       "      <td>No</td>\n",
       "      <td>Yes</td>\n",
       "      <td>No</td>\n",
       "      <td>Yes</td>\n",
       "      <td>...</td>\n",
       "      <td>0</td>\n",
       "      <td>0</td>\n",
       "      <td>0</td>\n",
       "      <td>1</td>\n",
       "      <td>0</td>\n",
       "      <td>0</td>\n",
       "      <td>0</td>\n",
       "      <td>1</td>\n",
       "      <td>0</td>\n",
       "      <td>0</td>\n",
       "    </tr>\n",
       "    <tr>\n",
       "      <th>1083</th>\n",
       "      <td>Male</td>\n",
       "      <td>1</td>\n",
       "      <td>1</td>\n",
       "      <td>0</td>\n",
       "      <td>70</td>\n",
       "      <td>1</td>\n",
       "      <td>No</td>\n",
       "      <td>Yes</td>\n",
       "      <td>Yes</td>\n",
       "      <td>Yes</td>\n",
       "      <td>...</td>\n",
       "      <td>1</td>\n",
       "      <td>0</td>\n",
       "      <td>1</td>\n",
       "      <td>0</td>\n",
       "      <td>1</td>\n",
       "      <td>1</td>\n",
       "      <td>0</td>\n",
       "      <td>1</td>\n",
       "      <td>0</td>\n",
       "      <td>0</td>\n",
       "    </tr>\n",
       "    <tr>\n",
       "      <th>5210</th>\n",
       "      <td>Female</td>\n",
       "      <td>0</td>\n",
       "      <td>0</td>\n",
       "      <td>1</td>\n",
       "      <td>31</td>\n",
       "      <td>1</td>\n",
       "      <td>No</td>\n",
       "      <td>No internet service</td>\n",
       "      <td>No internet service</td>\n",
       "      <td>No internet service</td>\n",
       "      <td>...</td>\n",
       "      <td>0</td>\n",
       "      <td>1</td>\n",
       "      <td>0</td>\n",
       "      <td>1</td>\n",
       "      <td>0</td>\n",
       "      <td>0</td>\n",
       "      <td>1</td>\n",
       "      <td>1</td>\n",
       "      <td>0</td>\n",
       "      <td>0</td>\n",
       "    </tr>\n",
       "    <tr>\n",
       "      <th>2475</th>\n",
       "      <td>Female</td>\n",
       "      <td>0</td>\n",
       "      <td>1</td>\n",
       "      <td>1</td>\n",
       "      <td>55</td>\n",
       "      <td>1</td>\n",
       "      <td>Yes</td>\n",
       "      <td>Yes</td>\n",
       "      <td>Yes</td>\n",
       "      <td>No</td>\n",
       "      <td>...</td>\n",
       "      <td>0</td>\n",
       "      <td>0</td>\n",
       "      <td>0</td>\n",
       "      <td>0</td>\n",
       "      <td>0</td>\n",
       "      <td>1</td>\n",
       "      <td>0</td>\n",
       "      <td>0</td>\n",
       "      <td>1</td>\n",
       "      <td>0</td>\n",
       "    </tr>\n",
       "  </tbody>\n",
       "</table>\n",
       "<p>5 rows × 42 columns</p>\n",
       "</div>"
      ],
      "text/plain": [
       "      gender  senior_citizen  partner  dependents  tenure  phone_service  \\\n",
       "1843    Male               0        0           0       1              1   \n",
       "5717  Female               0        1           1      62              1   \n",
       "1083    Male               1        1           0      70              1   \n",
       "5210  Female               0        0           1      31              1   \n",
       "2475  Female               0        1           1      55              1   \n",
       "\n",
       "     multiple_lines      online_security        online_backup  \\\n",
       "1843             No  No internet service  No internet service   \n",
       "5717             No                  Yes                   No   \n",
       "1083             No                  Yes                  Yes   \n",
       "5210             No  No internet service  No internet service   \n",
       "2475            Yes                  Yes                  Yes   \n",
       "\n",
       "        device_protection  ... streaming_tv_yes  \\\n",
       "1843  No internet service  ...                0   \n",
       "5717                  Yes  ...                0   \n",
       "1083                  Yes  ...                1   \n",
       "5210  No internet service  ...                0   \n",
       "2475                   No  ...                0   \n",
       "\n",
       "     streaming_movies_no_internet_service streaming_movies_yes  \\\n",
       "1843                                    1                    0   \n",
       "5717                                    0                    0   \n",
       "1083                                    0                    1   \n",
       "5210                                    1                    0   \n",
       "2475                                    0                    0   \n",
       "\n",
       "      contract_type_one_year  contract_type_two_year  \\\n",
       "1843                       0                       0   \n",
       "5717                       1                       0   \n",
       "1083                       0                       1   \n",
       "5210                       1                       0   \n",
       "2475                       0                       0   \n",
       "\n",
       "      internet_service_type_fiber_optic  internet_service_type_none  \\\n",
       "1843                                  0                           1   \n",
       "5717                                  0                           0   \n",
       "1083                                  1                           0   \n",
       "5210                                  0                           1   \n",
       "2475                                  1                           0   \n",
       "\n",
       "     payment_type_credit_card_automatic payment_type_electronic_check  \\\n",
       "1843                                  0                             0   \n",
       "5717                                  1                             0   \n",
       "1083                                  1                             0   \n",
       "5210                                  1                             0   \n",
       "2475                                  0                             1   \n",
       "\n",
       "     payment_type_mailed_check  \n",
       "1843                         1  \n",
       "5717                         0  \n",
       "1083                         0  \n",
       "5210                         0  \n",
       "2475                         0  \n",
       "\n",
       "[5 rows x 42 columns]"
      ]
     },
     "execution_count": 33,
     "metadata": {},
     "output_type": "execute_result"
    }
   ],
   "source": [
    "train_telco.head()"
   ]
  },
  {
   "cell_type": "code",
   "execution_count": 34,
   "id": "9428890f",
   "metadata": {},
   "outputs": [
    {
     "data": {
      "text/plain": [
       "0    2897\n",
       "1    1046\n",
       "Name: churn, dtype: int64"
      ]
     },
     "execution_count": 34,
     "metadata": {},
     "output_type": "execute_result"
    }
   ],
   "source": [
    "train_telco.churn.value_counts()"
   ]
  },
  {
   "cell_type": "code",
   "execution_count": 35,
   "id": "1095deff",
   "metadata": {},
   "outputs": [],
   "source": [
    "# baseline will be churn = 0\n",
    "\n",
    "train_telco['baseline'] = 0\n",
    "validate_telco['baseline'] = 0\n",
    "test_telco['baseline'] = 0"
   ]
  },
  {
   "cell_type": "code",
   "execution_count": 36,
   "id": "ef6fe7ab",
   "metadata": {},
   "outputs": [
    {
     "name": "stdout",
     "output_type": "stream",
     "text": [
      "baseline prediction accuracy score is: 73.47%\n"
     ]
    }
   ],
   "source": [
    "# What is your baseline accuracy?\n",
    "print(f'baseline prediction accuracy score is: \\\n",
    "{accuracy_score(train_telco.churn, train_telco.baseline):.2%}')"
   ]
  },
  {
   "cell_type": "markdown",
   "id": "781ef853",
   "metadata": {},
   "source": [
    "## 2. \n",
    "Fit the decision tree classifier to your training sample and transform (i.e. make predictions on the training sample)"
   ]
  },
  {
   "cell_type": "code",
   "execution_count": 37,
   "id": "424dd79f",
   "metadata": {},
   "outputs": [
    {
     "data": {
      "text/plain": [
       "gender                                    True\n",
       "senior_citizen                           False\n",
       "partner                                  False\n",
       "dependents                               False\n",
       "tenure                                   False\n",
       "phone_service                            False\n",
       "multiple_lines                            True\n",
       "online_security                           True\n",
       "online_backup                             True\n",
       "device_protection                         True\n",
       "tech_support                              True\n",
       "streaming_tv                              True\n",
       "streaming_movies                          True\n",
       "paperless_billing                        False\n",
       "monthly_charges                          False\n",
       "total_charges                            False\n",
       "churn                                    False\n",
       "contract_type                             True\n",
       "internet_service_type                     True\n",
       "payment_type                              True\n",
       "gender_male                              False\n",
       "multiple_lines_no_phone_service          False\n",
       "multiple_lines_yes                       False\n",
       "online_security_no_internet_service      False\n",
       "online_security_yes                      False\n",
       "online_backup_no_internet_service        False\n",
       "online_backup_yes                        False\n",
       "device_protection_no_internet_service    False\n",
       "device_protection_yes                    False\n",
       "tech_support_no_internet_service         False\n",
       "tech_support_yes                         False\n",
       "streaming_tv_no_internet_service         False\n",
       "streaming_tv_yes                         False\n",
       "streaming_movies_no_internet_service     False\n",
       "streaming_movies_yes                     False\n",
       "contract_type_one_year                   False\n",
       "contract_type_two_year                   False\n",
       "internet_service_type_fiber_optic        False\n",
       "internet_service_type_none               False\n",
       "payment_type_credit_card_automatic       False\n",
       "payment_type_electronic_check            False\n",
       "payment_type_mailed_check                False\n",
       "baseline                                 False\n",
       "dtype: bool"
      ]
     },
     "execution_count": 37,
     "metadata": {},
     "output_type": "execute_result"
    }
   ],
   "source": [
    "train_telco.dtypes == 'O'"
   ]
  },
  {
   "cell_type": "code",
   "execution_count": 38,
   "id": "908827d2",
   "metadata": {},
   "outputs": [],
   "source": [
    "X_cols = train_telco.drop(columns=[\n",
    "     'gender',\n",
    "     'multiple_lines',\n",
    "     'online_security',\n",
    "     'online_backup',\n",
    "     'device_protection',\n",
    "     'tech_support',\n",
    "     'streaming_tv',\n",
    "     'streaming_movies',\n",
    "     'contract_type',\n",
    "     'internet_service_type',\n",
    "     'payment_type'\n",
    "     ]).columns.to_list()\n",
    "y_cols = 'churn'"
   ]
  },
  {
   "cell_type": "code",
   "execution_count": 39,
   "id": "1e7509bd",
   "metadata": {},
   "outputs": [],
   "source": [
    "X_train_telco = train_telco[X_cols]\n",
    "y_train_telco = train_telco[y_cols]"
   ]
  },
  {
   "cell_type": "code",
   "execution_count": 40,
   "id": "34f55dab",
   "metadata": {},
   "outputs": [],
   "source": [
    "# make the decision tree classifier object\n",
    "clf1_telco = DecisionTreeClassifier()\n",
    "# fit the DTC object\n",
    "clf1_telco.fit(X_train_telco, y_train_telco)\n",
    "# use the DTC object\n",
    "model_1_telco_preds = clf1_telco.predict(X_train_telco)"
   ]
  },
  {
   "cell_type": "markdown",
   "id": "56a42cab",
   "metadata": {},
   "source": [
    "## 3.\n",
    "Evaluate your in-sample results using the model score, confusion matrix, and classification report."
   ]
  },
  {
   "cell_type": "code",
   "execution_count": 41,
   "id": "156eb13b",
   "metadata": {},
   "outputs": [
    {
     "name": "stdout",
     "output_type": "stream",
     "text": [
      "model 1 accuracy is: 100.00%\n",
      "\n",
      "confusion matrix for model 1: \n",
      "[[2897    0]\n",
      " [   0 1046]]\n",
      "\n",
      "classification report for model 1:\n",
      "\n",
      "               precision    recall  f1-score   support\n",
      "\n",
      "           0       1.00      1.00      1.00      2897\n",
      "           1       1.00      1.00      1.00      1046\n",
      "\n",
      "    accuracy                           1.00      3943\n",
      "   macro avg       1.00      1.00      1.00      3943\n",
      "weighted avg       1.00      1.00      1.00      3943\n",
      "\n"
     ]
    }
   ],
   "source": [
    "# model 1 score\n",
    "print(f'model 1 accuracy is: {clf1_telco.score(X_train_telco, y_train_telco):.2%}\\n')\n",
    "\n",
    "# confusion matrix for model 1\n",
    "print(f'confusion matrix for model 1: \\\n",
    "\\n{confusion_matrix(y_train_telco, model_1_telco_preds)}\\n')\n",
    "\n",
    "# classification report for model 1\n",
    "print(f'classification report for model 1:\\n\\n \\\n",
    "{classification_report(y_train_telco, model_1_telco_preds)}')"
   ]
  },
  {
   "cell_type": "code",
   "execution_count": 42,
   "id": "46933cea",
   "metadata": {},
   "outputs": [],
   "source": [
    "# Accuracy\n",
    "accuracy_model_1_telco = accuracy_score(y_train_telco, model_1_telco_preds)\n",
    "\n",
    "# true positive rate\n",
    "tp_model_1_telco = ((y_train_telco == 1) & (model_1_telco_preds == 1)).sum()\n",
    "\n",
    "# false positive rate\n",
    "fp_model_1_telco = ((y_train_telco == 0) & (model_1_telco_preds == 1)).sum()\n",
    "\n",
    "# true negative rate\n",
    "tn_model_1_telco = ((y_train_telco == 0) & (model_1_telco_preds == 0)).sum()\n",
    "\n",
    "# false negative rate\n",
    "fn_model_1_telco = ((y_train_telco == 1) & (model_1_telco_preds == 0)).sum()\n",
    "\n",
    "# f1-score\n",
    "f1_model_1_telco = f1_score(y_train_telco, model_1_telco_preds)\n",
    "\n",
    "# precision, recall, and support.\n",
    "precision_model_1_telco, recall_model_1_telco, _, support_model_1_telco = precision_recall_fscore_support(\n",
    "    y_train_telco, model_1_telco_preds)"
   ]
  },
  {
   "cell_type": "code",
   "execution_count": 43,
   "id": "6deb513a",
   "metadata": {},
   "outputs": [
    {
     "name": "stdout",
     "output_type": "stream",
     "text": [
      "accuracy for model 1_telco: \t1.0\n",
      "true positives for model 1_telco: \t1046\n",
      "false positives for model 1_telco: \t0\n",
      "true negatives for model 1_telco: \t2897\n",
      "false negatives for model 1_telco: \t0\n",
      "f1_score for model 1_telco: \t1.0\n",
      "precision for model 1_telco: \t[1. 1.]\n",
      "recall for model 1_telco: \t[1. 1.]\n",
      "support for model 1_telco: \t[2897 1046]\n"
     ]
    }
   ],
   "source": [
    "print(f'accuracy for model 1_telco: \\t{accuracy_model_1_telco}')\n",
    "print(f'true positives for model 1_telco: \\t{tp_model_1_telco}')\n",
    "print(f'false positives for model 1_telco: \\t{fp_model_1_telco}')\n",
    "print(f'true negatives for model 1_telco: \\t{tn_model_1_telco}')\n",
    "print(f'false negatives for model 1_telco: \\t{fn_model_1_telco}')\n",
    "print(f'f1_score for model 1_telco: \\t{f1_model_1_telco}')\n",
    "print(f'precision for model 1_telco: \\t{precision_model_1_telco}')\n",
    "print(f'recall for model 1_telco: \\t{recall_model_1_telco}')\n",
    "print(f'support for model 1_telco: \\t{support_model_1_telco}')"
   ]
  }
 ],
 "metadata": {
  "kernelspec": {
   "display_name": "Python 3 (ipykernel)",
   "language": "python",
   "name": "python3"
  },
  "language_info": {
   "codemirror_mode": {
    "name": "ipython",
    "version": 3
   },
   "file_extension": ".py",
   "mimetype": "text/x-python",
   "name": "python",
   "nbconvert_exporter": "python",
   "pygments_lexer": "ipython3",
   "version": "3.9.13"
  }
 },
 "nbformat": 4,
 "nbformat_minor": 5
}
