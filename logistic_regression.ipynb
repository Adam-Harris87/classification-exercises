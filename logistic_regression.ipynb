{
 "cells": [
  {
   "cell_type": "code",
   "execution_count": 1,
   "id": "af5fa5fe",
   "metadata": {},
   "outputs": [],
   "source": [
    "import numpy as np\n",
    "import pandas as pd\n",
    "\n",
    "from sklearn.model_selection import train_test_split\n",
    "from sklearn.linear_model import LogisticRegression\n",
    "from sklearn.metrics import classification_report\n",
    "from sklearn.metrics import confusion_matrix\n",
    "\n",
    "import matplotlib.pyplot as plt\n",
    "import seaborn as sns\n",
    "import prepare"
   ]
  },
  {
   "cell_type": "code",
   "execution_count": 2,
   "id": "3c477c9f",
   "metadata": {},
   "outputs": [],
   "source": [
    "train, validate, test = prepare.wrangle_data('titanic')"
   ]
  },
  {
   "cell_type": "code",
   "execution_count": 3,
   "id": "63adcd0e",
   "metadata": {},
   "outputs": [
    {
     "data": {
      "text/html": [
       "<div>\n",
       "<style scoped>\n",
       "    .dataframe tbody tr th:only-of-type {\n",
       "        vertical-align: middle;\n",
       "    }\n",
       "\n",
       "    .dataframe tbody tr th {\n",
       "        vertical-align: top;\n",
       "    }\n",
       "\n",
       "    .dataframe thead th {\n",
       "        text-align: right;\n",
       "    }\n",
       "</style>\n",
       "<table border=\"1\" class=\"dataframe\">\n",
       "  <thead>\n",
       "    <tr style=\"text-align: right;\">\n",
       "      <th></th>\n",
       "      <th>survived</th>\n",
       "      <th>pclass</th>\n",
       "      <th>sex</th>\n",
       "      <th>age</th>\n",
       "      <th>sibsp</th>\n",
       "      <th>parch</th>\n",
       "      <th>fare</th>\n",
       "      <th>embark_town</th>\n",
       "      <th>alone</th>\n",
       "      <th>sex_male</th>\n",
       "      <th>embark_town_Queenstown</th>\n",
       "      <th>embark_town_Southampton</th>\n",
       "    </tr>\n",
       "  </thead>\n",
       "  <tbody>\n",
       "    <tr>\n",
       "      <th>428</th>\n",
       "      <td>0</td>\n",
       "      <td>3</td>\n",
       "      <td>male</td>\n",
       "      <td>29.699118</td>\n",
       "      <td>0</td>\n",
       "      <td>0</td>\n",
       "      <td>7.75</td>\n",
       "      <td>Queenstown</td>\n",
       "      <td>1</td>\n",
       "      <td>1</td>\n",
       "      <td>1</td>\n",
       "      <td>0</td>\n",
       "    </tr>\n",
       "    <tr>\n",
       "      <th>480</th>\n",
       "      <td>0</td>\n",
       "      <td>3</td>\n",
       "      <td>male</td>\n",
       "      <td>9.000000</td>\n",
       "      <td>5</td>\n",
       "      <td>2</td>\n",
       "      <td>46.90</td>\n",
       "      <td>Southampton</td>\n",
       "      <td>0</td>\n",
       "      <td>1</td>\n",
       "      <td>0</td>\n",
       "      <td>1</td>\n",
       "    </tr>\n",
       "    <tr>\n",
       "      <th>888</th>\n",
       "      <td>0</td>\n",
       "      <td>3</td>\n",
       "      <td>female</td>\n",
       "      <td>29.699118</td>\n",
       "      <td>1</td>\n",
       "      <td>2</td>\n",
       "      <td>23.45</td>\n",
       "      <td>Southampton</td>\n",
       "      <td>0</td>\n",
       "      <td>0</td>\n",
       "      <td>0</td>\n",
       "      <td>1</td>\n",
       "    </tr>\n",
       "    <tr>\n",
       "      <th>822</th>\n",
       "      <td>0</td>\n",
       "      <td>1</td>\n",
       "      <td>male</td>\n",
       "      <td>38.000000</td>\n",
       "      <td>0</td>\n",
       "      <td>0</td>\n",
       "      <td>0.00</td>\n",
       "      <td>Southampton</td>\n",
       "      <td>1</td>\n",
       "      <td>1</td>\n",
       "      <td>0</td>\n",
       "      <td>1</td>\n",
       "    </tr>\n",
       "    <tr>\n",
       "      <th>612</th>\n",
       "      <td>1</td>\n",
       "      <td>3</td>\n",
       "      <td>female</td>\n",
       "      <td>29.699118</td>\n",
       "      <td>1</td>\n",
       "      <td>0</td>\n",
       "      <td>15.50</td>\n",
       "      <td>Queenstown</td>\n",
       "      <td>0</td>\n",
       "      <td>0</td>\n",
       "      <td>1</td>\n",
       "      <td>0</td>\n",
       "    </tr>\n",
       "  </tbody>\n",
       "</table>\n",
       "</div>"
      ],
      "text/plain": [
       "     survived  pclass     sex        age  sibsp  parch   fare  embark_town  \\\n",
       "428         0       3    male  29.699118      0      0   7.75   Queenstown   \n",
       "480         0       3    male   9.000000      5      2  46.90  Southampton   \n",
       "888         0       3  female  29.699118      1      2  23.45  Southampton   \n",
       "822         0       1    male  38.000000      0      0   0.00  Southampton   \n",
       "612         1       3  female  29.699118      1      0  15.50   Queenstown   \n",
       "\n",
       "     alone  sex_male  embark_town_Queenstown  embark_town_Southampton  \n",
       "428      1         1                       1                        0  \n",
       "480      0         1                       0                        1  \n",
       "888      0         0                       0                        1  \n",
       "822      1         1                       0                        1  \n",
       "612      0         0                       1                        0  "
      ]
     },
     "execution_count": 3,
     "metadata": {},
     "output_type": "execute_result"
    }
   ],
   "source": [
    "train.head()"
   ]
  },
  {
   "cell_type": "code",
   "execution_count": 4,
   "id": "642bf341",
   "metadata": {},
   "outputs": [
    {
     "data": {
      "text/plain": [
       "0    307\n",
       "1    191\n",
       "Name: survived, dtype: int64"
      ]
     },
     "execution_count": 4,
     "metadata": {},
     "output_type": "execute_result"
    }
   ],
   "source": [
    "train.survived.value_counts()"
   ]
  },
  {
   "cell_type": "code",
   "execution_count": 7,
   "id": "348e2bac",
   "metadata": {},
   "outputs": [],
   "source": [
    "baseline = (train.survived == 0).mean()"
   ]
  },
  {
   "cell_type": "code",
   "execution_count": 10,
   "id": "b0c73a8f",
   "metadata": {},
   "outputs": [
    {
     "name": "stdout",
     "output_type": "stream",
     "text": [
      "our baseline prediction for suvival is death, with an accuracy percentage of: 61.65%\n"
     ]
    }
   ],
   "source": [
    "print(f'our baseline prediction for suvival is death, with an accuracy percentage\\\n",
    " of: {baseline:.2%}')"
   ]
  },
  {
   "cell_type": "markdown",
   "id": "d5b4f025",
   "metadata": {},
   "source": [
    "## 1.\n",
    "Create a model that includes only age, fare, and pclass. Does this model perform better than your baseline?"
   ]
  },
  {
   "cell_type": "code",
   "execution_count": 11,
   "id": "ea01d739",
   "metadata": {},
   "outputs": [],
   "source": [
    "X_cols = ['age', 'fare', 'pclass']\n",
    "y_col = 'survived'"
   ]
  },
  {
   "cell_type": "code",
   "execution_count": 12,
   "id": "fcc7302c",
   "metadata": {},
   "outputs": [],
   "source": [
    "X_train = train[X_cols]\n",
    "y_train = train[y_col]\n",
    "X_val = validate[X_cols]\n",
    "y_val = validate[y_col]\n",
    "X_test = test[X_cols]\n",
    "y_test = test[y_col]"
   ]
  },
  {
   "cell_type": "code",
   "execution_count": 23,
   "id": "ccbc0f61",
   "metadata": {},
   "outputs": [],
   "source": [
    "#create the logistic regression model object\n",
    "lr_1 = LogisticRegression()"
   ]
  },
  {
   "cell_type": "code",
   "execution_count": 24,
   "id": "553378fd",
   "metadata": {},
   "outputs": [
    {
     "data": {
      "text/plain": [
       "LogisticRegression()"
      ]
     },
     "execution_count": 24,
     "metadata": {},
     "output_type": "execute_result"
    }
   ],
   "source": [
    "#fit the lr model\n",
    "lr_1.fit(X_train, y_train)"
   ]
  },
  {
   "cell_type": "code",
   "execution_count": 25,
   "id": "900db0c1",
   "metadata": {},
   "outputs": [],
   "source": [
    "# predict with the model\n",
    "lr_1_preds = lr_1.predict(X_train)"
   ]
  },
  {
   "cell_type": "code",
   "execution_count": 29,
   "id": "596aac34",
   "metadata": {},
   "outputs": [
    {
     "name": "stdout",
     "output_type": "stream",
     "text": [
      "the first logistic regression model score is: 69.68%\n"
     ]
    }
   ],
   "source": [
    "# Does this model perform better than your baseline?\n",
    "print(f'the first logistic regression model score is: {lr_1.score(X_train, y_train):.2%}')"
   ]
  },
  {
   "cell_type": "markdown",
   "id": "c33b2d26",
   "metadata": {},
   "source": [
    "The first logistic regression model (default settings on age, fare, and pclass) performed better than the baseline model."
   ]
  },
  {
   "cell_type": "markdown",
   "id": "a895addb",
   "metadata": {},
   "source": [
    "## 2.\n",
    "Include sex in your model as well. Note that you'll need to encode or create a dummy variable of this feature before including it in a model."
   ]
  },
  {
   "cell_type": "code",
   "execution_count": 20,
   "id": "cb2ede93",
   "metadata": {},
   "outputs": [
    {
     "data": {
      "text/plain": [
       "Index(['survived', 'pclass', 'sex', 'age', 'sibsp', 'parch', 'fare',\n",
       "       'embark_town', 'alone', 'sex_male', 'embark_town_Queenstown',\n",
       "       'embark_town_Southampton'],\n",
       "      dtype='object')"
      ]
     },
     "execution_count": 20,
     "metadata": {},
     "output_type": "execute_result"
    }
   ],
   "source": [
    "train.columns"
   ]
  },
  {
   "cell_type": "code",
   "execution_count": 21,
   "id": "603b64f9",
   "metadata": {},
   "outputs": [],
   "source": [
    "X_cols_2 = ['age', 'fare', 'pclass', 'sex_male']"
   ]
  },
  {
   "cell_type": "code",
   "execution_count": 22,
   "id": "cdfc58a0",
   "metadata": {},
   "outputs": [],
   "source": [
    "X2_train = train[X_cols_2]"
   ]
  },
  {
   "cell_type": "code",
   "execution_count": 27,
   "id": "5a93da16",
   "metadata": {},
   "outputs": [],
   "source": [
    "#create the logistic regression model object\n",
    "lr_2 = LogisticRegression()\n",
    "\n",
    "#fit the lr model\n",
    "lr_2.fit(X2_train, y_train)\n",
    "\n",
    "# predict with the model\n",
    "lr_2_preds = lr_2.predict(X2_train)"
   ]
  },
  {
   "cell_type": "code",
   "execution_count": 30,
   "id": "46ea346b",
   "metadata": {},
   "outputs": [
    {
     "name": "stdout",
     "output_type": "stream",
     "text": [
      "the second logistic regression model score is: 79.92%\n"
     ]
    }
   ],
   "source": [
    "# Does this model perform better than your baseline?\n",
    "print(f'the second logistic regression model \\\n",
    "score is: {lr_2.score(X2_train, y_train):.2%}')"
   ]
  },
  {
   "cell_type": "markdown",
   "id": "423c8f49",
   "metadata": {},
   "source": [
    "## 3.\n",
    "Try out other combinations of features and models."
   ]
  },
  {
   "cell_type": "code",
   "execution_count": null,
   "id": "3a24a0b0",
   "metadata": {},
   "outputs": [],
   "source": []
  },
  {
   "cell_type": "code",
   "execution_count": 31,
   "id": "49417201",
   "metadata": {},
   "outputs": [],
   "source": [
    "#create the logistic regression model object\n",
    "lr_3 = LogisticRegression(penalty='none')\n",
    "\n",
    "#fit the lr model\n",
    "lr_3.fit(X_train, y_train)\n",
    "\n",
    "# predict with the model\n",
    "lr_3_preds = lr_3.predict(X_train)"
   ]
  },
  {
   "cell_type": "code",
   "execution_count": 32,
   "id": "ef4b3d69",
   "metadata": {},
   "outputs": [
    {
     "name": "stdout",
     "output_type": "stream",
     "text": [
      "the third logistic regression model score is: 69.68%\n"
     ]
    }
   ],
   "source": [
    "# Does this model perform better than your baseline?\n",
    "print(f'the third logistic regression model \\\n",
    "score is: {lr_3.score(X_train, y_train):.2%}')"
   ]
  },
  {
   "cell_type": "markdown",
   "id": "215ddd37",
   "metadata": {},
   "source": [
    "Changing the penalty option to 'none' apears to have done nothing."
   ]
  },
  {
   "cell_type": "code",
   "execution_count": 34,
   "id": "11fcb8b7",
   "metadata": {},
   "outputs": [],
   "source": [
    "#create the logistic regression model object\n",
    "lr_4 = LogisticRegression(penalty='l2', C=0.2)\n",
    "\n",
    "#fit the lr model\n",
    "lr_4.fit(X_train, y_train)\n",
    "\n",
    "# predict with the model\n",
    "lr_4_preds = lr_4.predict(X_train)"
   ]
  },
  {
   "cell_type": "code",
   "execution_count": 69,
   "id": "50221681",
   "metadata": {},
   "outputs": [
    {
     "name": "stdout",
     "output_type": "stream",
     "text": [
      "the fourth logistic regression model score is: 70.08%\n"
     ]
    }
   ],
   "source": [
    "# Does this model perform better than your baseline?\n",
    "print(f'the fourth logistic regression model \\\n",
    "score is: {lr_4.score(X_train, y_train):.2%}')"
   ]
  },
  {
   "cell_type": "markdown",
   "id": "363e7630",
   "metadata": {},
   "source": [
    "Changing the C option to 0.2 seems to have improved the score on the training data"
   ]
  },
  {
   "cell_type": "code",
   "execution_count": null,
   "id": "9f8e630e",
   "metadata": {},
   "outputs": [],
   "source": []
  },
  {
   "cell_type": "code",
   "execution_count": 37,
   "id": "be199a96",
   "metadata": {},
   "outputs": [],
   "source": [
    "#create the logistic regression model object\n",
    "lr_5 = LogisticRegression(penalty='l2', solver='newton-cg')\n",
    "\n",
    "#fit the lr model\n",
    "lr_5.fit(X2_train, y_train)\n",
    "\n",
    "# predict with the model\n",
    "lr_5_preds = lr_5.predict(X2_train)"
   ]
  },
  {
   "cell_type": "code",
   "execution_count": 68,
   "id": "3ee23848",
   "metadata": {},
   "outputs": [
    {
     "name": "stdout",
     "output_type": "stream",
     "text": [
      "the fifth logistic regression model score is: 79.92%\n"
     ]
    }
   ],
   "source": [
    "# Does this model perform better than your baseline?\n",
    "print(f'the fifth logistic regression model \\\n",
    "score is: {lr_5.score(X2_train, y_train):.2%}')"
   ]
  },
  {
   "cell_type": "markdown",
   "id": "1156138c",
   "metadata": {},
   "source": [
    "Using the 'newton-cq' solver method on the second training dataset seems to have much about the same score as using lbfgs"
   ]
  },
  {
   "cell_type": "code",
   "execution_count": 41,
   "id": "586cc181",
   "metadata": {},
   "outputs": [],
   "source": [
    "#create the logistic regression model object\n",
    "lr_6 = LogisticRegression(penalty='l2', solver='newton-cg', C=0.1)\n",
    "\n",
    "#fit the lr model\n",
    "lr_6.fit(X2_train, y_train)\n",
    "\n",
    "# predict with the model\n",
    "lr_6_preds = lr_6.predict(X2_train)"
   ]
  },
  {
   "cell_type": "code",
   "execution_count": 67,
   "id": "1526502e",
   "metadata": {},
   "outputs": [
    {
     "name": "stdout",
     "output_type": "stream",
     "text": [
      "the sixth logistic regression model score is: 78.51%\n"
     ]
    }
   ],
   "source": [
    "# Does this model perform better than your baseline?\n",
    "print(f'the sixth logistic regression model \\\n",
    "score is: {lr_6.score(X2_train, y_train):.2%}')"
   ]
  },
  {
   "cell_type": "markdown",
   "id": "a3c856f2",
   "metadata": {},
   "source": [
    "lowering the C value to 0.1 using the newton-cg solver seems to have lowered the score."
   ]
  },
  {
   "cell_type": "code",
   "execution_count": 47,
   "id": "9d20ff3c",
   "metadata": {},
   "outputs": [],
   "source": [
    "X_cols_3 = ['age', 'fare', 'pclass', 'sex_male', 'alone']"
   ]
  },
  {
   "cell_type": "code",
   "execution_count": 48,
   "id": "6dd469c4",
   "metadata": {},
   "outputs": [],
   "source": [
    "X3_train = train[X_cols_3]"
   ]
  },
  {
   "cell_type": "code",
   "execution_count": 51,
   "id": "5ea7f8d9",
   "metadata": {},
   "outputs": [
    {
     "data": {
      "text/html": [
       "<div>\n",
       "<style scoped>\n",
       "    .dataframe tbody tr th:only-of-type {\n",
       "        vertical-align: middle;\n",
       "    }\n",
       "\n",
       "    .dataframe tbody tr th {\n",
       "        vertical-align: top;\n",
       "    }\n",
       "\n",
       "    .dataframe thead th {\n",
       "        text-align: right;\n",
       "    }\n",
       "</style>\n",
       "<table border=\"1\" class=\"dataframe\">\n",
       "  <thead>\n",
       "    <tr style=\"text-align: right;\">\n",
       "      <th></th>\n",
       "      <th>age</th>\n",
       "      <th>fare</th>\n",
       "      <th>pclass</th>\n",
       "      <th>sex_male</th>\n",
       "      <th>alone</th>\n",
       "    </tr>\n",
       "  </thead>\n",
       "  <tbody>\n",
       "    <tr>\n",
       "      <th>428</th>\n",
       "      <td>29.699118</td>\n",
       "      <td>7.75</td>\n",
       "      <td>3</td>\n",
       "      <td>1</td>\n",
       "      <td>1</td>\n",
       "    </tr>\n",
       "    <tr>\n",
       "      <th>480</th>\n",
       "      <td>9.000000</td>\n",
       "      <td>46.90</td>\n",
       "      <td>3</td>\n",
       "      <td>1</td>\n",
       "      <td>0</td>\n",
       "    </tr>\n",
       "    <tr>\n",
       "      <th>888</th>\n",
       "      <td>29.699118</td>\n",
       "      <td>23.45</td>\n",
       "      <td>3</td>\n",
       "      <td>0</td>\n",
       "      <td>0</td>\n",
       "    </tr>\n",
       "    <tr>\n",
       "      <th>822</th>\n",
       "      <td>38.000000</td>\n",
       "      <td>0.00</td>\n",
       "      <td>1</td>\n",
       "      <td>1</td>\n",
       "      <td>1</td>\n",
       "    </tr>\n",
       "    <tr>\n",
       "      <th>612</th>\n",
       "      <td>29.699118</td>\n",
       "      <td>15.50</td>\n",
       "      <td>3</td>\n",
       "      <td>0</td>\n",
       "      <td>0</td>\n",
       "    </tr>\n",
       "  </tbody>\n",
       "</table>\n",
       "</div>"
      ],
      "text/plain": [
       "           age   fare  pclass  sex_male  alone\n",
       "428  29.699118   7.75       3         1      1\n",
       "480   9.000000  46.90       3         1      0\n",
       "888  29.699118  23.45       3         0      0\n",
       "822  38.000000   0.00       1         1      1\n",
       "612  29.699118  15.50       3         0      0"
      ]
     },
     "execution_count": 51,
     "metadata": {},
     "output_type": "execute_result"
    }
   ],
   "source": [
    "X3_train.head()"
   ]
  },
  {
   "cell_type": "code",
   "execution_count": 52,
   "id": "3fbddc48",
   "metadata": {},
   "outputs": [],
   "source": [
    "#create the logistic regression model object\n",
    "lr_7 = LogisticRegression()\n",
    "\n",
    "#fit the lr model\n",
    "lr_7.fit(X3_train, y_train)\n",
    "\n",
    "# predict with the model\n",
    "lr_7_preds = lr_7.predict(X3_train)"
   ]
  },
  {
   "cell_type": "code",
   "execution_count": 66,
   "id": "91b21ac1",
   "metadata": {},
   "outputs": [
    {
     "name": "stdout",
     "output_type": "stream",
     "text": [
      "the seventh logistic regression model score is: 79.52%\n"
     ]
    }
   ],
   "source": [
    "# Does this model perform better than your baseline?\n",
    "print(f'the seventh logistic regression model \\\n",
    "score is: {lr_7.score(X3_train, y_train):.2%}')"
   ]
  },
  {
   "cell_type": "code",
   "execution_count": 54,
   "id": "d53a568c",
   "metadata": {},
   "outputs": [],
   "source": [
    "#create the logistic regression model object\n",
    "lr_8 = LogisticRegression(penalty='l2', solver='newton-cg', C=0.1)\n",
    "\n",
    "#fit the lr model\n",
    "lr_8.fit(X3_train, y_train)\n",
    "\n",
    "# predict with the model\n",
    "lr_8_preds = lr_8.predict(X3_train)"
   ]
  },
  {
   "cell_type": "code",
   "execution_count": 65,
   "id": "feaa0801",
   "metadata": {},
   "outputs": [
    {
     "name": "stdout",
     "output_type": "stream",
     "text": [
      "the eighth logistic regression model score is: 79.12%\n"
     ]
    }
   ],
   "source": [
    "# Does this model perform better than your baseline?\n",
    "print(f'the eighth logistic regression model \\\n",
    "score is: {lr_8.score(X3_train, y_train):.2%}')"
   ]
  },
  {
   "cell_type": "markdown",
   "id": "61f25700",
   "metadata": {},
   "source": [
    "## 4.\n",
    "Use you best 3 models to predict and evaluate on your validate sample."
   ]
  },
  {
   "cell_type": "code",
   "execution_count": 64,
   "id": "a85ee695",
   "metadata": {},
   "outputs": [
    {
     "name": "stdout",
     "output_type": "stream",
     "text": [
      "the second logistic regression model score is: 79.92%\n",
      "the fifth logistic regression model score is: 79.92%\n",
      "the seventh logistic regression model score is: 79.52%\n"
     ]
    }
   ],
   "source": [
    "# Does this model perform better than your baseline?\n",
    "print(f'the second logistic regression model \\\n",
    "score is: {lr_2.score(X2_train, y_train):.2%}')\n",
    "# Does this model perform better than your baseline?\n",
    "print(f'the fifth logistic regression model \\\n",
    "score is: {lr_5.score(X2_train, y_train):.2%}')\n",
    "# Does this model perform better than your baseline?\n",
    "print(f'the seventh logistic regression model \\\n",
    "score is: {lr_7.score(X3_train, y_train):.2%}')"
   ]
  },
  {
   "cell_type": "code",
   "execution_count": 57,
   "id": "ea2966f3",
   "metadata": {},
   "outputs": [],
   "source": [
    "X2_val = validate[X_cols_2]\n",
    "X3_val = validate[X_cols_3]"
   ]
  },
  {
   "cell_type": "code",
   "execution_count": 63,
   "id": "42e9f8e8",
   "metadata": {},
   "outputs": [
    {
     "name": "stdout",
     "output_type": "stream",
     "text": [
      "the second logistic regression model score on the validation data is: 78.04%\n",
      "the fifth logistic regression model score on the validation data is: 78.04%\n",
      "the seventh logistic regression model score on the validation data is: 77.57%\n"
     ]
    }
   ],
   "source": [
    "# Does this model perform better than your baseline?\n",
    "print(f'the second logistic regression model \\\n",
    "score on the validation data is: {lr_2.score(X2_val, y_val):.2%}')\n",
    "# Does this model perform better than your baseline?\n",
    "print(f'the fifth logistic regression model \\\n",
    "score on the validation data is: {lr_5.score(X2_val, y_val):.2%}')\n",
    "# Does this model perform better than your baseline?\n",
    "print(f'the seventh logistic regression model \\\n",
    "score on the validation data is: {lr_7.score(X3_val, y_val):.2%}')"
   ]
  },
  {
   "cell_type": "markdown",
   "id": "8334d451",
   "metadata": {},
   "source": [
    "Models 2 and 5 (using 'age', 'fare', 'pclass', 'sex_male', with lbfgs / newton-cg solver) seem to have the same level of performance, and both had the best accuracy score."
   ]
  },
  {
   "cell_type": "markdown",
   "id": "fa643a73",
   "metadata": {},
   "source": [
    "## 5.\n",
    "Choose you best model from the validation performation, and evaluate it on the test dataset. How do the performance metrics compare to validate? to train?"
   ]
  },
  {
   "cell_type": "code",
   "execution_count": 60,
   "id": "5f54b61b",
   "metadata": {},
   "outputs": [],
   "source": [
    "X2_test = test[X_cols_2]"
   ]
  },
  {
   "cell_type": "code",
   "execution_count": 62,
   "id": "63e8ed96",
   "metadata": {},
   "outputs": [
    {
     "name": "stdout",
     "output_type": "stream",
     "text": [
      "the second logistic regression model score on the test data is: 81.01%\n"
     ]
    }
   ],
   "source": [
    "print(f'the second logistic regression model \\\n",
    "score on the test data is: {lr_2.score(X2_test, y_test):.2%}')"
   ]
  },
  {
   "cell_type": "markdown",
   "id": "e676809c",
   "metadata": {},
   "source": [
    "Model 2 (using 'age', 'fare', 'pclass', 'sex_male', with lbfgs) performed better on the test dataset than either the training data or the validation data. With an accuracy score of 81.01% on the test data, 79.92% on the training data, and 78.04% on the validation data."
   ]
  },
  {
   "cell_type": "markdown",
   "id": "456e8a6b",
   "metadata": {},
   "source": [
    "## Bonus1 \n",
    "How do different strategies for handling the missing values in the age column affect model performance?"
   ]
  },
  {
   "cell_type": "code",
   "execution_count": 70,
   "id": "a2813e31",
   "metadata": {},
   "outputs": [],
   "source": [
    "import acquire"
   ]
  },
  {
   "cell_type": "code",
   "execution_count": 72,
   "id": "10671b22",
   "metadata": {},
   "outputs": [],
   "source": [
    "# lets try dropping the missing values instead of filling with the age.mean"
   ]
  },
  {
   "cell_type": "code",
   "execution_count": 91,
   "id": "9e61fd49",
   "metadata": {},
   "outputs": [],
   "source": [
    "def prep_titanic(titanic_df):\n",
    "    '''\n",
    "    prep_titanic will drop columns 'embarked', 'class', 'deck', 'passenger_id',\n",
    "    it will fill in null values in the age and embark_town columns.\n",
    "    Then it will encode the sex and embark_town columns and return the cleaned df.\n",
    "    '''\n",
    "    \n",
    "    # Drop any unnecessary, unhelpful, or duplicated columns.\n",
    "    # passenger_id is unnecessary\n",
    "    # embarked and class are duplicate\n",
    "    # deck is unhelpful\n",
    "    titanic_df = titanic_df.drop(columns=['embarked', 'class', 'deck', 'passenger_id'])\n",
    "    \n",
    "    # fill in the null values\n",
    "    titanic_df = titanic_df.dropna()\n",
    "    titanic_df.embark_town.fillna('Southampton', inplace=True)\n",
    "    \n",
    "    # Encode the categorical columns. Create dummy variables of the categorical \n",
    "    # columns and concatenate them onto the dataframe.\n",
    "    titanic_df = pd.concat([\n",
    "        titanic_df,\n",
    "        pd.get_dummies(titanic_df[['sex', 'embark_town']], drop_first=True)],\n",
    "        axis=1)\n",
    "    \n",
    "    return titanic_df"
   ]
  },
  {
   "cell_type": "code",
   "execution_count": 92,
   "id": "9a4a5d60",
   "metadata": {},
   "outputs": [],
   "source": [
    "clean_titanic_2 = prep_titanic(acquire.get_titanic_data())"
   ]
  },
  {
   "cell_type": "code",
   "execution_count": 93,
   "id": "02cbfbb1",
   "metadata": {},
   "outputs": [],
   "source": [
    "train_2, validate_2, test_2 = prepare.split_data(clean_titanic_2)"
   ]
  },
  {
   "cell_type": "code",
   "execution_count": 94,
   "id": "37eacf11",
   "metadata": {},
   "outputs": [
    {
     "data": {
      "text/html": [
       "<div>\n",
       "<style scoped>\n",
       "    .dataframe tbody tr th:only-of-type {\n",
       "        vertical-align: middle;\n",
       "    }\n",
       "\n",
       "    .dataframe tbody tr th {\n",
       "        vertical-align: top;\n",
       "    }\n",
       "\n",
       "    .dataframe thead th {\n",
       "        text-align: right;\n",
       "    }\n",
       "</style>\n",
       "<table border=\"1\" class=\"dataframe\">\n",
       "  <thead>\n",
       "    <tr style=\"text-align: right;\">\n",
       "      <th></th>\n",
       "      <th>survived</th>\n",
       "      <th>pclass</th>\n",
       "      <th>sex</th>\n",
       "      <th>age</th>\n",
       "      <th>sibsp</th>\n",
       "      <th>parch</th>\n",
       "      <th>fare</th>\n",
       "      <th>embark_town</th>\n",
       "      <th>alone</th>\n",
       "      <th>sex_male</th>\n",
       "      <th>embark_town_Queenstown</th>\n",
       "      <th>embark_town_Southampton</th>\n",
       "    </tr>\n",
       "  </thead>\n",
       "  <tbody>\n",
       "    <tr>\n",
       "      <th>817</th>\n",
       "      <td>0</td>\n",
       "      <td>2</td>\n",
       "      <td>male</td>\n",
       "      <td>31.0</td>\n",
       "      <td>1</td>\n",
       "      <td>1</td>\n",
       "      <td>37.0042</td>\n",
       "      <td>Cherbourg</td>\n",
       "      <td>0</td>\n",
       "      <td>1</td>\n",
       "      <td>0</td>\n",
       "      <td>0</td>\n",
       "    </tr>\n",
       "    <tr>\n",
       "      <th>852</th>\n",
       "      <td>0</td>\n",
       "      <td>3</td>\n",
       "      <td>female</td>\n",
       "      <td>9.0</td>\n",
       "      <td>1</td>\n",
       "      <td>1</td>\n",
       "      <td>15.2458</td>\n",
       "      <td>Cherbourg</td>\n",
       "      <td>0</td>\n",
       "      <td>0</td>\n",
       "      <td>0</td>\n",
       "      <td>0</td>\n",
       "    </tr>\n",
       "    <tr>\n",
       "      <th>183</th>\n",
       "      <td>1</td>\n",
       "      <td>2</td>\n",
       "      <td>male</td>\n",
       "      <td>1.0</td>\n",
       "      <td>2</td>\n",
       "      <td>1</td>\n",
       "      <td>39.0000</td>\n",
       "      <td>Southampton</td>\n",
       "      <td>0</td>\n",
       "      <td>1</td>\n",
       "      <td>0</td>\n",
       "      <td>1</td>\n",
       "    </tr>\n",
       "    <tr>\n",
       "      <th>203</th>\n",
       "      <td>0</td>\n",
       "      <td>3</td>\n",
       "      <td>male</td>\n",
       "      <td>45.5</td>\n",
       "      <td>0</td>\n",
       "      <td>0</td>\n",
       "      <td>7.2250</td>\n",
       "      <td>Cherbourg</td>\n",
       "      <td>1</td>\n",
       "      <td>1</td>\n",
       "      <td>0</td>\n",
       "      <td>0</td>\n",
       "    </tr>\n",
       "    <tr>\n",
       "      <th>787</th>\n",
       "      <td>0</td>\n",
       "      <td>3</td>\n",
       "      <td>male</td>\n",
       "      <td>8.0</td>\n",
       "      <td>4</td>\n",
       "      <td>1</td>\n",
       "      <td>29.1250</td>\n",
       "      <td>Queenstown</td>\n",
       "      <td>0</td>\n",
       "      <td>1</td>\n",
       "      <td>1</td>\n",
       "      <td>0</td>\n",
       "    </tr>\n",
       "  </tbody>\n",
       "</table>\n",
       "</div>"
      ],
      "text/plain": [
       "     survived  pclass     sex   age  sibsp  parch     fare  embark_town  \\\n",
       "817         0       2    male  31.0      1      1  37.0042    Cherbourg   \n",
       "852         0       3  female   9.0      1      1  15.2458    Cherbourg   \n",
       "183         1       2    male   1.0      2      1  39.0000  Southampton   \n",
       "203         0       3    male  45.5      0      0   7.2250    Cherbourg   \n",
       "787         0       3    male   8.0      4      1  29.1250   Queenstown   \n",
       "\n",
       "     alone  sex_male  embark_town_Queenstown  embark_town_Southampton  \n",
       "817      0         1                       0                        0  \n",
       "852      0         0                       0                        0  \n",
       "183      0         1                       0                        1  \n",
       "203      1         1                       0                        0  \n",
       "787      0         1                       1                        0  "
      ]
     },
     "execution_count": 94,
     "metadata": {},
     "output_type": "execute_result"
    }
   ],
   "source": [
    "train_2.head()"
   ]
  },
  {
   "cell_type": "code",
   "execution_count": 95,
   "id": "fe626675",
   "metadata": {},
   "outputs": [
    {
     "data": {
      "text/plain": [
       "survived                   0\n",
       "pclass                     0\n",
       "sex                        0\n",
       "age                        0\n",
       "sibsp                      0\n",
       "parch                      0\n",
       "fare                       0\n",
       "embark_town                0\n",
       "alone                      0\n",
       "sex_male                   0\n",
       "embark_town_Queenstown     0\n",
       "embark_town_Southampton    0\n",
       "dtype: int64"
      ]
     },
     "execution_count": 95,
     "metadata": {},
     "output_type": "execute_result"
    }
   ],
   "source": [
    "train_2.isna().sum()"
   ]
  },
  {
   "cell_type": "code",
   "execution_count": 96,
   "id": "82c0d16c",
   "metadata": {},
   "outputs": [],
   "source": [
    "X2_b_train = train_2[X_cols_2]\n",
    "y_b_train = train_2[y_col]"
   ]
  },
  {
   "cell_type": "code",
   "execution_count": 99,
   "id": "a8d4d483",
   "metadata": {},
   "outputs": [],
   "source": [
    "X2_b_val = validate_2[X_cols_2]\n",
    "y_b_val = validate_2[y_col]"
   ]
  },
  {
   "cell_type": "code",
   "execution_count": 97,
   "id": "8d1024d3",
   "metadata": {},
   "outputs": [],
   "source": [
    "#create the logistic regression model object\n",
    "lr_2_b = LogisticRegression()\n",
    "\n",
    "#fit the lr model\n",
    "lr_2_b.fit(X2_b_train, y_b_train)\n",
    "\n",
    "# predict with the model\n",
    "lr_2_b_preds = lr_2_b.predict(X2_b_train)"
   ]
  },
  {
   "cell_type": "code",
   "execution_count": 102,
   "id": "1b360dbe",
   "metadata": {},
   "outputs": [
    {
     "name": "stdout",
     "output_type": "stream",
     "text": [
      "the second logistic regression model after droping rows without age datascore is: 81.16%\n",
      "the second logistic regression model using the validation data after droping rows without age data score is: 77.78%\n"
     ]
    }
   ],
   "source": [
    "print(f'the second logistic regression model after droping rows without age data\\\n",
    "score is: {lr_2_b.score(X2_b_train, y_b_train):.2%}')\n",
    "print(f'the second logistic regression model using the validation data\\\n",
    " after droping rows without age data score is: {lr_2_b.score(X2_b_val, y_b_val):.2%}')"
   ]
  }
 ],
 "metadata": {
  "kernelspec": {
   "display_name": "Python 3 (ipykernel)",
   "language": "python",
   "name": "python3"
  },
  "language_info": {
   "codemirror_mode": {
    "name": "ipython",
    "version": 3
   },
   "file_extension": ".py",
   "mimetype": "text/x-python",
   "name": "python",
   "nbconvert_exporter": "python",
   "pygments_lexer": "ipython3",
   "version": "3.9.13"
  }
 },
 "nbformat": 4,
 "nbformat_minor": 5
}
