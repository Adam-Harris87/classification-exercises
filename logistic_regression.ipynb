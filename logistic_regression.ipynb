{
 "cells": [
  {
   "cell_type": "code",
   "execution_count": 1,
   "id": "7b7173e3",
   "metadata": {},
   "outputs": [],
   "source": [
    "import numpy as np\n",
    "import pandas as pd\n",
    "\n",
    "from sklearn.model_selection import train_test_split\n",
    "from sklearn.linear_model import LogisticRegression\n",
    "from sklearn.metrics import classification_report\n",
    "from sklearn.metrics import confusion_matrix\n",
    "\n",
    "import matplotlib.pyplot as plt\n",
    "import seaborn as sns\n",
    "import prepare"
   ]
  },
  {
   "cell_type": "code",
   "execution_count": 2,
   "id": "15cd26ac",
   "metadata": {},
   "outputs": [],
   "source": [
    "train, validate, test = prepare.wrangle_data('titanic')"
   ]
  },
  {
   "cell_type": "code",
   "execution_count": 3,
   "id": "efc3740f",
   "metadata": {},
   "outputs": [
    {
     "data": {
      "text/html": [
       "<div>\n",
       "<style scoped>\n",
       "    .dataframe tbody tr th:only-of-type {\n",
       "        vertical-align: middle;\n",
       "    }\n",
       "\n",
       "    .dataframe tbody tr th {\n",
       "        vertical-align: top;\n",
       "    }\n",
       "\n",
       "    .dataframe thead th {\n",
       "        text-align: right;\n",
       "    }\n",
       "</style>\n",
       "<table border=\"1\" class=\"dataframe\">\n",
       "  <thead>\n",
       "    <tr style=\"text-align: right;\">\n",
       "      <th></th>\n",
       "      <th>survived</th>\n",
       "      <th>pclass</th>\n",
       "      <th>sex</th>\n",
       "      <th>age</th>\n",
       "      <th>sibsp</th>\n",
       "      <th>parch</th>\n",
       "      <th>fare</th>\n",
       "      <th>embark_town</th>\n",
       "      <th>alone</th>\n",
       "      <th>sex_male</th>\n",
       "      <th>embark_town_Queenstown</th>\n",
       "      <th>embark_town_Southampton</th>\n",
       "    </tr>\n",
       "  </thead>\n",
       "  <tbody>\n",
       "    <tr>\n",
       "      <th>428</th>\n",
       "      <td>0</td>\n",
       "      <td>3</td>\n",
       "      <td>male</td>\n",
       "      <td>29.699118</td>\n",
       "      <td>0</td>\n",
       "      <td>0</td>\n",
       "      <td>7.75</td>\n",
       "      <td>Queenstown</td>\n",
       "      <td>1</td>\n",
       "      <td>1</td>\n",
       "      <td>1</td>\n",
       "      <td>0</td>\n",
       "    </tr>\n",
       "    <tr>\n",
       "      <th>480</th>\n",
       "      <td>0</td>\n",
       "      <td>3</td>\n",
       "      <td>male</td>\n",
       "      <td>9.000000</td>\n",
       "      <td>5</td>\n",
       "      <td>2</td>\n",
       "      <td>46.90</td>\n",
       "      <td>Southampton</td>\n",
       "      <td>0</td>\n",
       "      <td>1</td>\n",
       "      <td>0</td>\n",
       "      <td>1</td>\n",
       "    </tr>\n",
       "    <tr>\n",
       "      <th>888</th>\n",
       "      <td>0</td>\n",
       "      <td>3</td>\n",
       "      <td>female</td>\n",
       "      <td>29.699118</td>\n",
       "      <td>1</td>\n",
       "      <td>2</td>\n",
       "      <td>23.45</td>\n",
       "      <td>Southampton</td>\n",
       "      <td>0</td>\n",
       "      <td>0</td>\n",
       "      <td>0</td>\n",
       "      <td>1</td>\n",
       "    </tr>\n",
       "    <tr>\n",
       "      <th>822</th>\n",
       "      <td>0</td>\n",
       "      <td>1</td>\n",
       "      <td>male</td>\n",
       "      <td>38.000000</td>\n",
       "      <td>0</td>\n",
       "      <td>0</td>\n",
       "      <td>0.00</td>\n",
       "      <td>Southampton</td>\n",
       "      <td>1</td>\n",
       "      <td>1</td>\n",
       "      <td>0</td>\n",
       "      <td>1</td>\n",
       "    </tr>\n",
       "    <tr>\n",
       "      <th>612</th>\n",
       "      <td>1</td>\n",
       "      <td>3</td>\n",
       "      <td>female</td>\n",
       "      <td>29.699118</td>\n",
       "      <td>1</td>\n",
       "      <td>0</td>\n",
       "      <td>15.50</td>\n",
       "      <td>Queenstown</td>\n",
       "      <td>0</td>\n",
       "      <td>0</td>\n",
       "      <td>1</td>\n",
       "      <td>0</td>\n",
       "    </tr>\n",
       "  </tbody>\n",
       "</table>\n",
       "</div>"
      ],
      "text/plain": [
       "     survived  pclass     sex        age  sibsp  parch   fare  embark_town  \\\n",
       "428         0       3    male  29.699118      0      0   7.75   Queenstown   \n",
       "480         0       3    male   9.000000      5      2  46.90  Southampton   \n",
       "888         0       3  female  29.699118      1      2  23.45  Southampton   \n",
       "822         0       1    male  38.000000      0      0   0.00  Southampton   \n",
       "612         1       3  female  29.699118      1      0  15.50   Queenstown   \n",
       "\n",
       "     alone  sex_male  embark_town_Queenstown  embark_town_Southampton  \n",
       "428      1         1                       1                        0  \n",
       "480      0         1                       0                        1  \n",
       "888      0         0                       0                        1  \n",
       "822      1         1                       0                        1  \n",
       "612      0         0                       1                        0  "
      ]
     },
     "execution_count": 3,
     "metadata": {},
     "output_type": "execute_result"
    }
   ],
   "source": [
    "train.head()"
   ]
  },
  {
   "cell_type": "code",
   "execution_count": 4,
   "id": "d49a1fcb",
   "metadata": {},
   "outputs": [
    {
     "data": {
      "text/plain": [
       "0    307\n",
       "1    191\n",
       "Name: survived, dtype: int64"
      ]
     },
     "execution_count": 4,
     "metadata": {},
     "output_type": "execute_result"
    }
   ],
   "source": [
    "train.survived.value_counts()"
   ]
  },
  {
   "cell_type": "code",
   "execution_count": 7,
   "id": "b717656a",
   "metadata": {},
   "outputs": [],
   "source": [
    "baseline = (train.survived == 0).mean()"
   ]
  },
  {
   "cell_type": "code",
   "execution_count": 10,
   "id": "f356e392",
   "metadata": {},
   "outputs": [
    {
     "name": "stdout",
     "output_type": "stream",
     "text": [
      "our baseline prediction for suvival is death, with an accuracy percentage of: 61.65%\n"
     ]
    }
   ],
   "source": [
    "print(f'our baseline prediction for suvival is death, with an accuracy percentage\\\n",
    " of: {baseline:.2%}')"
   ]
  },
  {
   "cell_type": "markdown",
   "id": "da2a866b",
   "metadata": {},
   "source": [
    "## 1.\n",
    "Create a model that includes only age, fare, and pclass. Does this model perform better than your baseline?"
   ]
  },
  {
   "cell_type": "code",
   "execution_count": 11,
   "id": "db7d3322",
   "metadata": {},
   "outputs": [],
   "source": [
    "X_cols = ['age', 'fare', 'pclass']\n",
    "y_col = 'survived'"
   ]
  },
  {
   "cell_type": "code",
   "execution_count": 12,
   "id": "de1165ac",
   "metadata": {},
   "outputs": [],
   "source": [
    "X_train = train[X_cols]\n",
    "y_train = train[y_col]\n",
    "X_val = validate[X_cols]\n",
    "y_val = validate[y_col]\n",
    "X_test = test[X_cols]\n",
    "y_test = test[y_col]"
   ]
  },
  {
   "cell_type": "code",
   "execution_count": 23,
   "id": "5d27c27b",
   "metadata": {},
   "outputs": [],
   "source": [
    "#create the logistic regression model object\n",
    "lr_1 = LogisticRegression()"
   ]
  },
  {
   "cell_type": "code",
   "execution_count": 24,
   "id": "f232f407",
   "metadata": {},
   "outputs": [
    {
     "data": {
      "text/plain": [
       "LogisticRegression()"
      ]
     },
     "execution_count": 24,
     "metadata": {},
     "output_type": "execute_result"
    }
   ],
   "source": [
    "#fit the lr model\n",
    "lr_1.fit(X_train, y_train)"
   ]
  },
  {
   "cell_type": "code",
   "execution_count": 25,
   "id": "4b33e473",
   "metadata": {},
   "outputs": [],
   "source": [
    "# predict with the model\n",
    "lr_1_preds = lr_1.predict(X_train)"
   ]
  },
  {
   "cell_type": "code",
   "execution_count": 29,
   "id": "eb62b31f",
   "metadata": {},
   "outputs": [
    {
     "name": "stdout",
     "output_type": "stream",
     "text": [
      "the first logistic regression model score is: 69.68%\n"
     ]
    }
   ],
   "source": [
    "# Does this model perform better than your baseline?\n",
    "print(f'the first logistic regression model score is: {lr_1.score(X_train, y_train):.2%}')"
   ]
  },
  {
   "cell_type": "markdown",
   "id": "2e3da2d7",
   "metadata": {},
   "source": [
    "The first logistic regression model (default settings on age, fare, and pclass) performed better than the baseline model."
   ]
  },
  {
   "cell_type": "markdown",
   "id": "9a636250",
   "metadata": {},
   "source": [
    "## 2.\n",
    "Include sex in your model as well. Note that you'll need to encode or create a dummy variable of this feature before including it in a model."
   ]
  },
  {
   "cell_type": "code",
   "execution_count": 20,
   "id": "faf74e6f",
   "metadata": {},
   "outputs": [
    {
     "data": {
      "text/plain": [
       "Index(['survived', 'pclass', 'sex', 'age', 'sibsp', 'parch', 'fare',\n",
       "       'embark_town', 'alone', 'sex_male', 'embark_town_Queenstown',\n",
       "       'embark_town_Southampton'],\n",
       "      dtype='object')"
      ]
     },
     "execution_count": 20,
     "metadata": {},
     "output_type": "execute_result"
    }
   ],
   "source": [
    "train.columns"
   ]
  },
  {
   "cell_type": "code",
   "execution_count": 21,
   "id": "b3d1861b",
   "metadata": {},
   "outputs": [],
   "source": [
    "X_cols_2 = ['age', 'fare', 'pclass', 'sex_male']"
   ]
  },
  {
   "cell_type": "code",
   "execution_count": 22,
   "id": "81c27721",
   "metadata": {},
   "outputs": [],
   "source": [
    "X2_train = train[X_cols_2]"
   ]
  },
  {
   "cell_type": "code",
   "execution_count": 27,
   "id": "1bf88e22",
   "metadata": {},
   "outputs": [],
   "source": [
    "#create the logistic regression model object\n",
    "lr_2 = LogisticRegression()\n",
    "\n",
    "#fit the lr model\n",
    "lr_2.fit(X2_train, y_train)\n",
    "\n",
    "# predict with the model\n",
    "lr_2_preds = lr_2.predict(X2_train)"
   ]
  },
  {
   "cell_type": "code",
   "execution_count": 30,
   "id": "d6aa8ce4",
   "metadata": {},
   "outputs": [
    {
     "name": "stdout",
     "output_type": "stream",
     "text": [
      "the second logistic regression model score is: 79.92%\n"
     ]
    }
   ],
   "source": [
    "# Does this model perform better than your baseline?\n",
    "print(f'the second logistic regression model \\\n",
    "score is: {lr_2.score(X2_train, y_train):.2%}')"
   ]
  },
  {
   "cell_type": "markdown",
   "id": "1ccbbc3e",
   "metadata": {},
   "source": [
    "## 3.\n",
    "Try out other combinations of features and models."
   ]
  },
  {
   "cell_type": "code",
   "execution_count": null,
   "id": "1bd36286",
   "metadata": {},
   "outputs": [],
   "source": []
  },
  {
   "cell_type": "code",
   "execution_count": 31,
   "id": "dc5092b7",
   "metadata": {},
   "outputs": [],
   "source": [
    "#create the logistic regression model object\n",
    "lr_3 = LogisticRegression(penalty='none')\n",
    "\n",
    "#fit the lr model\n",
    "lr_3.fit(X_train, y_train)\n",
    "\n",
    "# predict with the model\n",
    "lr_3_preds = lr_3.predict(X_train)"
   ]
  },
  {
   "cell_type": "code",
   "execution_count": 32,
   "id": "4a38f52c",
   "metadata": {},
   "outputs": [
    {
     "name": "stdout",
     "output_type": "stream",
     "text": [
      "the third logistic regression model score is: 69.68%\n"
     ]
    }
   ],
   "source": [
    "# Does this model perform better than your baseline?\n",
    "print(f'the third logistic regression model \\\n",
    "score is: {lr_3.score(X_train, y_train):.2%}')"
   ]
  },
  {
   "cell_type": "markdown",
   "id": "37611faf",
   "metadata": {},
   "source": [
    "Changing the penalty option to 'none' apears to have done nothing."
   ]
  },
  {
   "cell_type": "code",
   "execution_count": 34,
   "id": "b5e05e1d",
   "metadata": {},
   "outputs": [],
   "source": [
    "#create the logistic regression model object\n",
    "lr_4 = LogisticRegression(penalty='l2', C=0.2)\n",
    "\n",
    "#fit the lr model\n",
    "lr_4.fit(X_train, y_train)\n",
    "\n",
    "# predict with the model\n",
    "lr_4_preds = lr_4.predict(X_train)"
   ]
  },
  {
   "cell_type": "code",
   "execution_count": 69,
   "id": "e264e936",
   "metadata": {},
   "outputs": [
    {
     "name": "stdout",
     "output_type": "stream",
     "text": [
      "the fourth logistic regression model score is: 70.08%\n"
     ]
    }
   ],
   "source": [
    "# Does this model perform better than your baseline?\n",
    "print(f'the fourth logistic regression model \\\n",
    "score is: {lr_4.score(X_train, y_train):.2%}')"
   ]
  },
  {
   "cell_type": "markdown",
   "id": "82331fc5",
   "metadata": {},
   "source": [
    "Changing the C option to 0.2 seems to have improved the score on the training data"
   ]
  },
  {
   "cell_type": "code",
   "execution_count": null,
   "id": "308933e6",
   "metadata": {},
   "outputs": [],
   "source": []
  },
  {
   "cell_type": "code",
   "execution_count": 37,
   "id": "2d217b0a",
   "metadata": {},
   "outputs": [],
   "source": [
    "#create the logistic regression model object\n",
    "lr_5 = LogisticRegression(penalty='l2', solver='newton-cg')\n",
    "\n",
    "#fit the lr model\n",
    "lr_5.fit(X2_train, y_train)\n",
    "\n",
    "# predict with the model\n",
    "lr_5_preds = lr_5.predict(X2_train)"
   ]
  },
  {
   "cell_type": "code",
   "execution_count": 68,
   "id": "7587f1fd",
   "metadata": {},
   "outputs": [
    {
     "name": "stdout",
     "output_type": "stream",
     "text": [
      "the fifth logistic regression model score is: 79.92%\n"
     ]
    }
   ],
   "source": [
    "# Does this model perform better than your baseline?\n",
    "print(f'the fifth logistic regression model \\\n",
    "score is: {lr_5.score(X2_train, y_train):.2%}')"
   ]
  },
  {
   "cell_type": "markdown",
   "id": "aa067fe9",
   "metadata": {},
   "source": [
    "Using the 'newton-cq' solver method on the second training dataset seems to have much about the same score as using lbfgs"
   ]
  },
  {
   "cell_type": "code",
   "execution_count": 41,
   "id": "f66f8dc6",
   "metadata": {},
   "outputs": [],
   "source": [
    "#create the logistic regression model object\n",
    "lr_6 = LogisticRegression(penalty='l2', solver='newton-cg', C=0.1)\n",
    "\n",
    "#fit the lr model\n",
    "lr_6.fit(X2_train, y_train)\n",
    "\n",
    "# predict with the model\n",
    "lr_6_preds = lr_6.predict(X2_train)"
   ]
  },
  {
   "cell_type": "code",
   "execution_count": 67,
   "id": "68260705",
   "metadata": {},
   "outputs": [
    {
     "name": "stdout",
     "output_type": "stream",
     "text": [
      "the sixth logistic regression model score is: 78.51%\n"
     ]
    }
   ],
   "source": [
    "# Does this model perform better than your baseline?\n",
    "print(f'the sixth logistic regression model \\\n",
    "score is: {lr_6.score(X2_train, y_train):.2%}')"
   ]
  },
  {
   "cell_type": "markdown",
   "id": "44cc79bc",
   "metadata": {},
   "source": [
    "lowering the C value to 0.1 using the newton-cg solver seems to have lowered the score."
   ]
  },
  {
   "cell_type": "code",
   "execution_count": 47,
   "id": "2e6debc7",
   "metadata": {},
   "outputs": [],
   "source": [
    "X_cols_3 = ['age', 'fare', 'pclass', 'sex_male', 'alone']"
   ]
  },
  {
   "cell_type": "code",
   "execution_count": 48,
   "id": "edf926a5",
   "metadata": {},
   "outputs": [],
   "source": [
    "X3_train = train[X_cols_3]"
   ]
  },
  {
   "cell_type": "code",
   "execution_count": 51,
   "id": "e7dcccf7",
   "metadata": {},
   "outputs": [
    {
     "data": {
      "text/html": [
       "<div>\n",
       "<style scoped>\n",
       "    .dataframe tbody tr th:only-of-type {\n",
       "        vertical-align: middle;\n",
       "    }\n",
       "\n",
       "    .dataframe tbody tr th {\n",
       "        vertical-align: top;\n",
       "    }\n",
       "\n",
       "    .dataframe thead th {\n",
       "        text-align: right;\n",
       "    }\n",
       "</style>\n",
       "<table border=\"1\" class=\"dataframe\">\n",
       "  <thead>\n",
       "    <tr style=\"text-align: right;\">\n",
       "      <th></th>\n",
       "      <th>age</th>\n",
       "      <th>fare</th>\n",
       "      <th>pclass</th>\n",
       "      <th>sex_male</th>\n",
       "      <th>alone</th>\n",
       "    </tr>\n",
       "  </thead>\n",
       "  <tbody>\n",
       "    <tr>\n",
       "      <th>428</th>\n",
       "      <td>29.699118</td>\n",
       "      <td>7.75</td>\n",
       "      <td>3</td>\n",
       "      <td>1</td>\n",
       "      <td>1</td>\n",
       "    </tr>\n",
       "    <tr>\n",
       "      <th>480</th>\n",
       "      <td>9.000000</td>\n",
       "      <td>46.90</td>\n",
       "      <td>3</td>\n",
       "      <td>1</td>\n",
       "      <td>0</td>\n",
       "    </tr>\n",
       "    <tr>\n",
       "      <th>888</th>\n",
       "      <td>29.699118</td>\n",
       "      <td>23.45</td>\n",
       "      <td>3</td>\n",
       "      <td>0</td>\n",
       "      <td>0</td>\n",
       "    </tr>\n",
       "    <tr>\n",
       "      <th>822</th>\n",
       "      <td>38.000000</td>\n",
       "      <td>0.00</td>\n",
       "      <td>1</td>\n",
       "      <td>1</td>\n",
       "      <td>1</td>\n",
       "    </tr>\n",
       "    <tr>\n",
       "      <th>612</th>\n",
       "      <td>29.699118</td>\n",
       "      <td>15.50</td>\n",
       "      <td>3</td>\n",
       "      <td>0</td>\n",
       "      <td>0</td>\n",
       "    </tr>\n",
       "  </tbody>\n",
       "</table>\n",
       "</div>"
      ],
      "text/plain": [
       "           age   fare  pclass  sex_male  alone\n",
       "428  29.699118   7.75       3         1      1\n",
       "480   9.000000  46.90       3         1      0\n",
       "888  29.699118  23.45       3         0      0\n",
       "822  38.000000   0.00       1         1      1\n",
       "612  29.699118  15.50       3         0      0"
      ]
     },
     "execution_count": 51,
     "metadata": {},
     "output_type": "execute_result"
    }
   ],
   "source": [
    "X3_train.head()"
   ]
  },
  {
   "cell_type": "code",
   "execution_count": 52,
   "id": "90207f0a",
   "metadata": {},
   "outputs": [],
   "source": [
    "#create the logistic regression model object\n",
    "lr_7 = LogisticRegression()\n",
    "\n",
    "#fit the lr model\n",
    "lr_7.fit(X3_train, y_train)\n",
    "\n",
    "# predict with the model\n",
    "lr_7_preds = lr_7.predict(X3_train)"
   ]
  },
  {
   "cell_type": "code",
   "execution_count": 66,
   "id": "8bb1d9c6",
   "metadata": {},
   "outputs": [
    {
     "name": "stdout",
     "output_type": "stream",
     "text": [
      "the seventh logistic regression model score is: 79.52%\n"
     ]
    }
   ],
   "source": [
    "# Does this model perform better than your baseline?\n",
    "print(f'the seventh logistic regression model \\\n",
    "score is: {lr_7.score(X3_train, y_train):.2%}')"
   ]
  },
  {
   "cell_type": "code",
   "execution_count": 54,
   "id": "4ac84fbd",
   "metadata": {},
   "outputs": [],
   "source": [
    "#create the logistic regression model object\n",
    "lr_8 = LogisticRegression(penalty='l2', solver='newton-cg', C=0.1)\n",
    "\n",
    "#fit the lr model\n",
    "lr_8.fit(X3_train, y_train)\n",
    "\n",
    "# predict with the model\n",
    "lr_8_preds = lr_8.predict(X3_train)"
   ]
  },
  {
   "cell_type": "code",
   "execution_count": 65,
   "id": "848c2001",
   "metadata": {},
   "outputs": [
    {
     "name": "stdout",
     "output_type": "stream",
     "text": [
      "the eighth logistic regression model score is: 79.12%\n"
     ]
    }
   ],
   "source": [
    "# Does this model perform better than your baseline?\n",
    "print(f'the eighth logistic regression model \\\n",
    "score is: {lr_8.score(X3_train, y_train):.2%}')"
   ]
  },
  {
   "cell_type": "code",
   "execution_count": null,
   "id": "474d5ba8",
   "metadata": {},
   "outputs": [],
   "source": []
  },
  {
   "cell_type": "markdown",
   "id": "a5ec7caa",
   "metadata": {},
   "source": [
    "## 4.\n",
    "Use you best 3 models to predict and evaluate on your validate sample."
   ]
  },
  {
   "cell_type": "code",
   "execution_count": 64,
   "id": "7c7ae8fb",
   "metadata": {},
   "outputs": [
    {
     "name": "stdout",
     "output_type": "stream",
     "text": [
      "the second logistic regression model score is: 79.92%\n",
      "the fifth logistic regression model score is: 79.92%\n",
      "the seventh logistic regression model score is: 79.52%\n"
     ]
    }
   ],
   "source": [
    "# Does this model perform better than your baseline?\n",
    "print(f'the second logistic regression model \\\n",
    "score is: {lr_2.score(X2_train, y_train):.2%}')\n",
    "# Does this model perform better than your baseline?\n",
    "print(f'the fifth logistic regression model \\\n",
    "score is: {lr_5.score(X2_train, y_train):.2%}')\n",
    "# Does this model perform better than your baseline?\n",
    "print(f'the seventh logistic regression model \\\n",
    "score is: {lr_7.score(X3_train, y_train):.2%}')"
   ]
  },
  {
   "cell_type": "code",
   "execution_count": 57,
   "id": "73377a31",
   "metadata": {},
   "outputs": [],
   "source": [
    "X2_val = validate[X_cols_2]\n",
    "X3_val = validate[X_cols_3]"
   ]
  },
  {
   "cell_type": "code",
   "execution_count": 63,
   "id": "00e45ba2",
   "metadata": {},
   "outputs": [
    {
     "name": "stdout",
     "output_type": "stream",
     "text": [
      "the second logistic regression model score on the validation data is: 78.04%\n",
      "the fifth logistic regression model score on the validation data is: 78.04%\n",
      "the seventh logistic regression model score on the validation data is: 77.57%\n"
     ]
    }
   ],
   "source": [
    "# Does this model perform better than your baseline?\n",
    "print(f'the second logistic regression model \\\n",
    "score on the validation data is: {lr_2.score(X2_val, y_val):.2%}')\n",
    "# Does this model perform better than your baseline?\n",
    "print(f'the fifth logistic regression model \\\n",
    "score on the validation data is: {lr_5.score(X2_val, y_val):.2%}')\n",
    "# Does this model perform better than your baseline?\n",
    "print(f'the seventh logistic regression model \\\n",
    "score on the validation data is: {lr_7.score(X3_val, y_val):.2%}')"
   ]
  },
  {
   "cell_type": "markdown",
   "id": "23a17f42",
   "metadata": {},
   "source": [
    "Models 2 and 5 (using 'age', 'fare', 'pclass', 'sex_male', with lbfgs / newton-cg solver) seem to have the same level of performance, and both had the best accuracy score."
   ]
  },
  {
   "cell_type": "markdown",
   "id": "2d44985a",
   "metadata": {},
   "source": [
    "## 5.\n",
    "Choose you best model from the validation performation, and evaluate it on the test dataset. How do the performance metrics compare to validate? to train?"
   ]
  },
  {
   "cell_type": "code",
   "execution_count": 60,
   "id": "5f0c7cbe",
   "metadata": {},
   "outputs": [],
   "source": [
    "X2_test = test[X_cols_2]"
   ]
  },
  {
   "cell_type": "code",
   "execution_count": 62,
   "id": "13d48a06",
   "metadata": {},
   "outputs": [
    {
     "name": "stdout",
     "output_type": "stream",
     "text": [
      "the second logistic regression model score on the test data is: 81.01%\n"
     ]
    }
   ],
   "source": [
    "print(f'the second logistic regression model \\\n",
    "score on the test data is: {lr_2.score(X2_test, y_test):.2%}')"
   ]
  },
  {
   "cell_type": "markdown",
   "id": "ef3ff9e8",
   "metadata": {},
   "source": [
    "Model 2 (using 'age', 'fare', 'pclass', 'sex_male', with lbfgs) performed better on the test dataset than either the training data or the validation data. With an accuracy score of 81.01% on the test data, 79.92% on the training data, and 78.04% on the validation data."
   ]
  },
  {
   "cell_type": "code",
   "execution_count": null,
   "id": "85c54031",
   "metadata": {},
   "outputs": [],
   "source": []
  }
 ],
 "metadata": {
  "kernelspec": {
   "display_name": "Python 3 (ipykernel)",
   "language": "python",
   "name": "python3"
  },
  "language_info": {
   "codemirror_mode": {
    "name": "ipython",
    "version": 3
   },
   "file_extension": ".py",
   "mimetype": "text/x-python",
   "name": "python",
   "nbconvert_exporter": "python",
   "pygments_lexer": "ipython3",
   "version": "3.9.13"
  }
 },
 "nbformat": 4,
 "nbformat_minor": 5
}
